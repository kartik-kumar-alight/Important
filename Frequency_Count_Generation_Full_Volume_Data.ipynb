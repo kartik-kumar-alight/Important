{
 "cells": [
  {
   "cell_type": "code",
   "execution_count": 2,
   "id": "450e5c95",
   "metadata": {
    "tags": []
   },
   "outputs": [
    {
     "name": "stdout",
     "output_type": "stream",
     "text": [
      "Looking in indexes: https://artifactory.alight.com/artifactory/api/pypi/python-pypi-remote/simple\n",
      "Collecting num2words (from -r requirements.txt (line 1))\n",
      "  Using cached https://artifactory.alight.com/artifactory/api/pypi/python-pypi-remote/packages/packages/eb/09/b14d798bc02411b1e5a9896d680f8f417cadc53232bbf7ae9d30263dcf45/num2words-0.5.12-py3-none-any.whl (125 kB)\n",
      "Collecting tensorflow (from -r requirements.txt (line 2))\n",
      "  Using cached https://artifactory.alight.com/artifactory/api/pypi/python-pypi-remote/packages/packages/42/24/830571895f0927fe205a23309b136520c7914921420bd1e81aff1da47bb1/tensorflow-2.11.0-cp37-cp37m-manylinux_2_17_x86_64.manylinux2014_x86_64.whl (588.3 MB)\n",
      "Collecting keras (from -r requirements.txt (line 3))\n",
      "  Using cached https://artifactory.alight.com/artifactory/api/pypi/python-pypi-remote/packages/packages/de/44/bf1b0eef5b13e6201aef076ff34b91bc40aace8591cd273c1c2a94a9cc00/keras-2.11.0-py2.py3-none-any.whl (1.7 MB)\n",
      "Collecting pyathena (from -r requirements.txt (line 4))\n",
      "  Downloading https://artifactory.alight.com/artifactory/api/pypi/python-pypi-remote/packages/packages/39/1a/236386089a297a627ebed13216c9d010ede35b6f809c22569b393fdbcaf4/pyathena-2.25.2-py3-none-any.whl (68 kB)\n",
      "\u001b[2K     \u001b[90m━━━━━━━━━━━━━━━━━━━━━━━━━━━━━━━━━━━━━━━━\u001b[0m \u001b[32m68.1/68.1 kB\u001b[0m \u001b[31m1.1 MB/s\u001b[0m eta \u001b[36m0:00:00\u001b[0mta \u001b[36m0:00:01\u001b[0m\n",
      "\u001b[?25hCollecting bert-for-tf2 (from -r requirements.txt (line 5))\n",
      "  Using cached bert_for_tf2-0.14.9-py3-none-any.whl\n",
      "Collecting sentencepiece (from -r requirements.txt (line 6))\n",
      "  Downloading https://artifactory.alight.com/artifactory/api/pypi/python-pypi-remote/packages/packages/07/d9/e74bfb921061d9a75d241397f6b9bca48295ed06f4022d1da693e0a8a0df/sentencepiece-0.1.99-cp37-cp37m-manylinux_2_17_x86_64.manylinux2014_x86_64.whl (1.3 MB)\n",
      "\u001b[2K     \u001b[90m━━━━━━━━━━━━━━━━━━━━━━━━━━━━━━━━━━━━━━━━\u001b[0m \u001b[32m1.3/1.3 MB\u001b[0m \u001b[31m16.8 MB/s\u001b[0m eta \u001b[36m0:00:00\u001b[0m:00:01\u001b[0m\n",
      "\u001b[?25hCollecting tensorflow-hub (from -r requirements.txt (line 7))\n",
      "  Downloading https://artifactory.alight.com/artifactory/api/pypi/python-pypi-remote/packages/packages/30/78/9d5292a2b616901bdb075bbf0c777b293f4140bb48108ac2b33fd716c2eb/tensorflow_hub-0.14.0-py2.py3-none-any.whl (90 kB)\n",
      "\u001b[2K     \u001b[90m━━━━━━━━━━━━━━━━━━━━━━━━━━━━━━━━━━━━━━━━\u001b[0m \u001b[32m90.3/90.3 kB\u001b[0m \u001b[31m1.8 MB/s\u001b[0m eta \u001b[36m0:00:00\u001b[0mta \u001b[36m0:00:01\u001b[0m\n",
      "\u001b[?25hRequirement already satisfied: nltk in /opt/conda/lib/python3.7/site-packages (from -r requirements.txt (line 8)) (3.8.1)\n",
      "Requirement already satisfied: openpyxl in /opt/conda/lib/python3.7/site-packages (from -r requirements.txt (line 9)) (3.0.3)\n",
      "Requirement already satisfied: numpy in /opt/conda/lib/python3.7/site-packages (from -r requirements.txt (line 10)) (1.21.6)\n",
      "Requirement already satisfied: pandas==1.3.5 in /opt/conda/lib/python3.7/site-packages (from -r requirements.txt (line 11)) (1.3.5)\n",
      "Requirement already satisfied: boto3 in /opt/conda/lib/python3.7/site-packages (from -r requirements.txt (line 12)) (1.28.14)\n",
      "Collecting wordcloud (from -r requirements.txt (line 14))\n",
      "  Downloading https://artifactory.alight.com/artifactory/api/pypi/python-pypi-remote/packages/packages/03/b3/6c9b82d2569d447443ed893215b5646811330f4de6f7370316691de72f1a/wordcloud-1.9.2-cp37-cp37m-manylinux_2_17_x86_64.manylinux2014_x86_64.whl (437 kB)\n",
      "\u001b[2K     \u001b[90m━━━━━━━━━━━━━━━━━━━━━━━━━━━━━━━━━━━━━━━\u001b[0m \u001b[32m437.7/437.7 kB\u001b[0m \u001b[31m7.6 MB/s\u001b[0m eta \u001b[36m0:00:00\u001b[0m00:01\u001b[0m\n",
      "\u001b[?25hCollecting gensim (from -r requirements.txt (line 15))\n",
      "  Using cached https://artifactory.alight.com/artifactory/api/pypi/python-pypi-remote/packages/packages/1c/22/fe12d98526b54890ca0338f8bc8061e1050181b9db281b783f389367f531/gensim-4.2.0-cp37-cp37m-manylinux_2_12_x86_64.manylinux2010_x86_64.whl (24.1 MB)\n",
      "Collecting spacy==2.3.5 (from -r requirements.txt (line 16))\n",
      "  Using cached https://artifactory.alight.com/artifactory/api/pypi/python-pypi-remote/packages/packages/95/89/1539c4024c339650c222b0b2ca2b3e3f13523b7a02671f8001b7b1cee6f2/spacy-2.3.5-cp37-cp37m-manylinux2014_x86_64.whl (10.4 MB)\n",
      "Collecting xgboost (from -r requirements.txt (line 17))\n",
      "  Using cached https://artifactory.alight.com/artifactory/api/pypi/python-pypi-remote/packages/packages/a6/32/cd71fbcebde0809c4e911c9f5f65833c2a4bb43defc63d0b9377f3800bda/xgboost-1.6.2-py3-none-manylinux2014_x86_64.whl (255.9 MB)\n",
      "Collecting fastparquet (from -r requirements.txt (line 18))\n",
      "  Using cached https://artifactory.alight.com/artifactory/api/pypi/python-pypi-remote/packages/packages/f8/52/0a366a638b0203bc55c7698aa85d605ff11bc7d9af3f319023bd12275a44/fastparquet-0.8.1-cp37-cp37m-manylinux_2_17_x86_64.manylinux2014_x86_64.whl (1.5 MB)\n",
      "Requirement already satisfied: pyarrow in /opt/conda/lib/python3.7/site-packages (from -r requirements.txt (line 19)) (12.0.1)\n",
      "Requirement already satisfied: python-dateutil>=2.7.3 in /opt/conda/lib/python3.7/site-packages (from pandas==1.3.5->-r requirements.txt (line 11)) (2.8.2)\n",
      "Requirement already satisfied: pytz>=2017.3 in /opt/conda/lib/python3.7/site-packages (from pandas==1.3.5->-r requirements.txt (line 11)) (2019.3)\n",
      "Collecting murmurhash<1.1.0,>=0.28.0 (from spacy==2.3.5->-r requirements.txt (line 16))\n",
      "  Using cached https://artifactory.alight.com/artifactory/api/pypi/python-pypi-remote/packages/packages/2b/a6/88a2bcca18ea01a469844d84e666f37607b36e4f0a8946dca03b54428511/murmurhash-1.0.9-cp37-cp37m-manylinux_2_5_x86_64.manylinux1_x86_64.manylinux_2_17_x86_64.manylinux2014_x86_64.whl (21 kB)\n",
      "Collecting cymem<2.1.0,>=2.0.2 (from spacy==2.3.5->-r requirements.txt (line 16))\n",
      "  Using cached https://artifactory.alight.com/artifactory/api/pypi/python-pypi-remote/packages/packages/8a/df/dd3cb90cb45fafa41a9b8ace5dfef553d50567a9abfd75eef21efb9fc3e1/cymem-2.0.7-cp37-cp37m-manylinux_2_17_x86_64.manylinux2014_x86_64.whl (36 kB)\n",
      "Collecting preshed<3.1.0,>=3.0.2 (from spacy==2.3.5->-r requirements.txt (line 16))\n",
      "  Using cached https://artifactory.alight.com/artifactory/api/pypi/python-pypi-remote/packages/packages/13/38/e10ae90ee3cef36487aaa058dd0db60fa25dd1d9de911790c9d4c1e76e45/preshed-3.0.8-cp37-cp37m-manylinux_2_5_x86_64.manylinux1_x86_64.manylinux_2_17_x86_64.manylinux2014_x86_64.whl (126 kB)\n",
      "Collecting thinc<7.5.0,>=7.4.1 (from spacy==2.3.5->-r requirements.txt (line 16))\n",
      "  Using cached https://artifactory.alight.com/artifactory/api/pypi/python-pypi-remote/packages/packages/a8/3b/8b8d3982e0fc74a4c2837d7d3dd8ca389ca85ae493694cab4bd77c05d762/thinc-7.4.6-cp37-cp37m-manylinux_2_17_x86_64.manylinux2014_x86_64.whl (1.0 MB)\n",
      "Collecting blis<0.8.0,>=0.4.0 (from spacy==2.3.5->-r requirements.txt (line 16))\n",
      "  Downloading https://artifactory.alight.com/artifactory/api/pypi/python-pypi-remote/packages/packages/d5/57/0a694f2acbe057a31469867d2271ebdeed9a5409bb64902308596dd76432/blis-0.7.10-cp37-cp37m-manylinux_2_17_x86_64.manylinux2014_x86_64.whl (10.2 MB)\n",
      "\u001b[2K     \u001b[90m━━━━━━━━━━━━━━━━━━━━━━━━━━━━━━━━━━━━━━━━\u001b[0m \u001b[32m10.2/10.2 MB\u001b[0m \u001b[31m39.2 MB/s\u001b[0m eta \u001b[36m0:00:00\u001b[0m00:01\u001b[0m00:01\u001b[0m\n",
      "\u001b[?25hCollecting wasabi<1.1.0,>=0.4.0 (from spacy==2.3.5->-r requirements.txt (line 16))\n",
      "  Using cached https://artifactory.alight.com/artifactory/api/pypi/python-pypi-remote/packages/packages/34/74/bd566f876c2de097e75d525c2696fb9829009987a0d93a4fb3576778a0a8/wasabi-0.10.1-py3-none-any.whl (26 kB)\n",
      "Collecting srsly<1.1.0,>=1.0.2 (from spacy==2.3.5->-r requirements.txt (line 16))\n",
      "  Downloading https://artifactory.alight.com/artifactory/api/pypi/python-pypi-remote/packages/packages/29/36/8bb1aa1233fec7a7fecb925144d9bd86f702ec1c06aa9e5549364c16abf0/srsly-1.0.7-cp37-cp37m-manylinux_2_17_x86_64.manylinux2014_x86_64.whl (367 kB)\n",
      "\u001b[2K     \u001b[90m━━━━━━━━━━━━━━━━━━━━━━━━━━━━━━━━━━━━━━━\u001b[0m \u001b[32m368.0/368.0 kB\u001b[0m \u001b[31m7.0 MB/s\u001b[0m eta \u001b[36m0:00:00\u001b[0m00:01\u001b[0m\n",
      "\u001b[?25hCollecting catalogue<1.1.0,>=0.0.7 (from spacy==2.3.5->-r requirements.txt (line 16))\n",
      "  Using cached https://artifactory.alight.com/artifactory/api/pypi/python-pypi-remote/packages/packages/fb/8d/7cce983c23fe1bf5f072545853b3c22e2b76e500f2476d968c01757a70c4/catalogue-1.0.2-py2.py3-none-any.whl (16 kB)\n",
      "Requirement already satisfied: tqdm<5.0.0,>=4.38.0 in /opt/conda/lib/python3.7/site-packages (from spacy==2.3.5->-r requirements.txt (line 16)) (4.42.1)\n",
      "Requirement already satisfied: setuptools in /opt/conda/lib/python3.7/site-packages (from spacy==2.3.5->-r requirements.txt (line 16)) (65.5.1)\n",
      "Collecting plac<1.2.0,>=0.9.6 (from spacy==2.3.5->-r requirements.txt (line 16))\n",
      "  Using cached https://artifactory.alight.com/artifactory/api/pypi/python-pypi-remote/packages/packages/86/85/40b8f66c2dd8f4fd9f09d59b22720cffecf1331e788b8a0cab5bafb353d1/plac-1.1.3-py2.py3-none-any.whl (20 kB)\n",
      "Requirement already satisfied: requests<3.0.0,>=2.13.0 in /opt/conda/lib/python3.7/site-packages (from spacy==2.3.5->-r requirements.txt (line 16)) (2.31.0)\n",
      "Collecting docopt>=0.6.2 (from num2words->-r requirements.txt (line 1))\n",
      "  Downloading https://artifactory.alight.com/artifactory/api/pypi/python-pypi-remote/packages/packages/a2/55/8f8cab2afd404cf578136ef2cc5dfb50baa1761b68c9da1fb1e4eed343c9/docopt-0.6.2.tar.gz (25 kB)\n",
      "  Preparing metadata (setup.py) ... \u001b[?25ldone\n",
      "\u001b[?25hCollecting absl-py>=1.0.0 (from tensorflow->-r requirements.txt (line 2))\n",
      "  Using cached https://artifactory.alight.com/artifactory/api/pypi/python-pypi-remote/packages/packages/dd/87/de5c32fa1b1c6c3305d576e299801d8655c175ca9557019906247b994331/absl_py-1.4.0-py3-none-any.whl (126 kB)\n",
      "Collecting astunparse>=1.6.0 (from tensorflow->-r requirements.txt (line 2))\n",
      "  Using cached https://artifactory.alight.com/artifactory/api/pypi/python-pypi-remote/packages/packages/2b/03/13dde6512ad7b4557eb792fbcf0c653af6076b81e5941d36ec61f7ce6028/astunparse-1.6.3-py2.py3-none-any.whl (12 kB)\n",
      "Collecting flatbuffers>=2.0 (from tensorflow->-r requirements.txt (line 2))\n",
      "  Downloading https://artifactory.alight.com/artifactory/api/pypi/python-pypi-remote/packages/packages/6f/12/d5c79ee252793ffe845d58a913197bfa02ae9a0b5c9bc3dc4b58d477b9e7/flatbuffers-23.5.26-py2.py3-none-any.whl (26 kB)\n",
      "Collecting gast<=0.4.0,>=0.2.1 (from tensorflow->-r requirements.txt (line 2))\n",
      "  Using cached https://artifactory.alight.com/artifactory/api/pypi/python-pypi-remote/packages/packages/b6/48/583c032b79ae5b3daa02225a675aeb673e58d2cb698e78510feceb11958c/gast-0.4.0-py3-none-any.whl (9.8 kB)\n",
      "Requirement already satisfied: google-pasta>=0.1.1 in /opt/conda/lib/python3.7/site-packages (from tensorflow->-r requirements.txt (line 2)) (0.2.0)\n",
      "Collecting grpcio<2.0,>=1.24.3 (from tensorflow->-r requirements.txt (line 2))\n",
      "  Downloading https://artifactory.alight.com/artifactory/api/pypi/python-pypi-remote/packages/packages/ca/fb/a23f72166bc650652e93500cf596f724dbe9468cd1e74cc2e546d6a4fe6e/grpcio-1.57.0-cp37-cp37m-manylinux_2_17_x86_64.manylinux2014_x86_64.whl (5.3 MB)\n",
      "\u001b[2K     \u001b[90m━━━━━━━━━━━━━━━━━━━━━━━━━━━━━━━━━━━━━━━━\u001b[0m \u001b[32m5.3/5.3 MB\u001b[0m \u001b[31m18.7 MB/s\u001b[0m eta \u001b[36m0:00:00\u001b[0m00:01\u001b[0m:00:01\u001b[0m\n",
      "\u001b[?25hRequirement already satisfied: h5py>=2.9.0 in /opt/conda/lib/python3.7/site-packages (from tensorflow->-r requirements.txt (line 2)) (2.10.0)\n",
      "Collecting libclang>=13.0.0 (from tensorflow->-r requirements.txt (line 2))\n",
      "  Downloading https://artifactory.alight.com/artifactory/api/pypi/python-pypi-remote/packages/packages/ea/df/55525e489c43f9dbb6c8ea27d8a567b3dcd18a22f3c45483055f5ca6611d/libclang-16.0.6-py2.py3-none-manylinux2010_x86_64.whl (22.9 MB)\n",
      "\u001b[2K     \u001b[90m━━━━━━━━━━━━━━━━━━━━━━━━━━━━━━━━━━━━━━━━\u001b[0m \u001b[32m22.9/22.9 MB\u001b[0m \u001b[31m19.1 MB/s\u001b[0m eta \u001b[36m0:00:00\u001b[0m00:01\u001b[0m00:01\u001b[0m\n",
      "\u001b[?25hCollecting opt-einsum>=2.3.2 (from tensorflow->-r requirements.txt (line 2))\n",
      "  Using cached https://artifactory.alight.com/artifactory/api/pypi/python-pypi-remote/packages/packages/bc/19/404708a7e54ad2798907210462fd950c3442ea51acc8790f3da48d2bee8b/opt_einsum-3.3.0-py3-none-any.whl (65 kB)\n",
      "Requirement already satisfied: packaging in /opt/conda/lib/python3.7/site-packages (from tensorflow->-r requirements.txt (line 2)) (20.1)\n",
      "Collecting protobuf<3.20,>=3.9.2 (from tensorflow->-r requirements.txt (line 2))\n",
      "  Using cached https://artifactory.alight.com/artifactory/api/pypi/python-pypi-remote/packages/packages/9c/c3/6768e798cc7e08301ec0a5ef59a30dc49f5f0df2d3950cd5585cecf246a8/protobuf-3.19.6-cp37-cp37m-manylinux_2_17_x86_64.manylinux2014_x86_64.whl (1.1 MB)\n",
      "Requirement already satisfied: six>=1.12.0 in /opt/conda/lib/python3.7/site-packages (from tensorflow->-r requirements.txt (line 2)) (1.14.0)\n",
      "Collecting tensorboard<2.12,>=2.11 (from tensorflow->-r requirements.txt (line 2))\n",
      "  Using cached https://artifactory.alight.com/artifactory/api/pypi/python-pypi-remote/packages/packages/6f/77/e624b4916531721e674aa105151ffa5223fb224d3ca4bd5c10574664f944/tensorboard-2.11.2-py3-none-any.whl (6.0 MB)\n",
      "Collecting tensorflow-estimator<2.12,>=2.11.0 (from tensorflow->-r requirements.txt (line 2))\n",
      "  Using cached https://artifactory.alight.com/artifactory/api/pypi/python-pypi-remote/packages/packages/bb/e2/8bf618c7c30a525054230ee6d40b036d3e5abc2c4ff67cf7c7420a519204/tensorflow_estimator-2.11.0-py2.py3-none-any.whl (439 kB)\n",
      "Collecting termcolor>=1.1.0 (from tensorflow->-r requirements.txt (line 2))\n",
      "  Downloading https://artifactory.alight.com/artifactory/api/pypi/python-pypi-remote/packages/packages/67/e1/434566ffce04448192369c1a282931cf4ae593e91907558eaecd2e9f2801/termcolor-2.3.0-py3-none-any.whl (6.9 kB)\n",
      "Requirement already satisfied: typing-extensions>=3.6.6 in /opt/conda/lib/python3.7/site-packages (from tensorflow->-r requirements.txt (line 2)) (4.7.1)\n",
      "Requirement already satisfied: wrapt>=1.11.0 in /opt/conda/lib/python3.7/site-packages (from tensorflow->-r requirements.txt (line 2)) (1.11.2)\n",
      "Collecting tensorflow-io-gcs-filesystem>=0.23.1 (from tensorflow->-r requirements.txt (line 2))\n",
      "  Downloading https://artifactory.alight.com/artifactory/api/pypi/python-pypi-remote/packages/packages/a4/c0/f9ac791c3f6f58a343b350894a3e92d44e53d20d7cf205988279ebcbc6e5/tensorflow_io_gcs_filesystem-0.33.0-cp37-cp37m-manylinux_2_12_x86_64.manylinux2010_x86_64.whl (2.4 MB)\n",
      "\u001b[2K     \u001b[90m━━━━━━━━━━━━━━━━━━━━━━━━━━━━━━━━━━━━━━━━\u001b[0m \u001b[32m2.4/2.4 MB\u001b[0m \u001b[31m9.8 MB/s\u001b[0m eta \u001b[36m0:00:00\u001b[0m:00:01\u001b[0m:00:01\u001b[0m\n",
      "\u001b[?25hRequirement already satisfied: botocore>=1.29.4 in /opt/conda/lib/python3.7/site-packages (from pyathena->-r requirements.txt (line 4)) (1.31.14)\n",
      "Requirement already satisfied: fsspec in /opt/conda/lib/python3.7/site-packages (from pyathena->-r requirements.txt (line 4)) (2023.1.0)\n",
      "Requirement already satisfied: tenacity>=4.1.0 in /opt/conda/lib/python3.7/site-packages (from pyathena->-r requirements.txt (line 4)) (8.2.2)\n",
      "Collecting py-params>=0.9.6 (from bert-for-tf2->-r requirements.txt (line 5))\n",
      "  Using cached py_params-0.10.2-py3-none-any.whl\n",
      "Collecting params-flow>=0.8.0 (from bert-for-tf2->-r requirements.txt (line 5))\n",
      "  Using cached params_flow-0.8.2-py3-none-any.whl\n",
      "Requirement already satisfied: click in /opt/conda/lib/python3.7/site-packages (from nltk->-r requirements.txt (line 8)) (8.1.6)\n",
      "Requirement already satisfied: joblib in /opt/conda/lib/python3.7/site-packages (from nltk->-r requirements.txt (line 8)) (1.3.1)\n",
      "Requirement already satisfied: regex>=2021.8.3 in /opt/conda/lib/python3.7/site-packages (from nltk->-r requirements.txt (line 8)) (2023.6.3)\n",
      "Requirement already satisfied: jdcal in /opt/conda/lib/python3.7/site-packages (from openpyxl->-r requirements.txt (line 9)) (1.4.1)\n",
      "Requirement already satisfied: et-xmlfile in /opt/conda/lib/python3.7/site-packages (from openpyxl->-r requirements.txt (line 9)) (1.0.1)\n",
      "Requirement already satisfied: jmespath<2.0.0,>=0.7.1 in /opt/conda/lib/python3.7/site-packages (from boto3->-r requirements.txt (line 12)) (1.0.1)\n",
      "Requirement already satisfied: s3transfer<0.7.0,>=0.6.0 in /opt/conda/lib/python3.7/site-packages (from boto3->-r requirements.txt (line 12)) (0.6.1)\n",
      "Requirement already satisfied: pillow in /opt/conda/lib/python3.7/site-packages (from wordcloud->-r requirements.txt (line 14)) (9.5.0)\n",
      "Requirement already satisfied: matplotlib in /opt/conda/lib/python3.7/site-packages (from wordcloud->-r requirements.txt (line 14)) (3.1.3)\n",
      "Requirement already satisfied: scipy>=0.18.1 in /opt/conda/lib/python3.7/site-packages (from gensim->-r requirements.txt (line 15)) (1.4.1)\n",
      "Collecting smart-open>=1.8.1 (from gensim->-r requirements.txt (line 15))\n",
      "  Using cached https://artifactory.alight.com/artifactory/api/pypi/python-pypi-remote/packages/packages/47/80/c2d1bdd36c6b64ae566d9a29724291510e4f3796ce99639d3c2999286284/smart_open-6.3.0-py3-none-any.whl (56 kB)\n",
      "Collecting cramjam>=2.3.0 (from fastparquet->-r requirements.txt (line 18))\n",
      "  Downloading https://artifactory.alight.com/artifactory/api/pypi/python-pypi-remote/packages/packages/f2/de/28da0e6183d10d3e6766866f1ec4f889d8a874f76d32db2b9e5879c9933e/cramjam-2.7.0-cp37-cp37m-manylinux_2_17_x86_64.manylinux2014_x86_64.whl (1.6 MB)\n",
      "\u001b[2K     \u001b[90m━━━━━━━━━━━━━━━━━━━━━━━━━━━━━━━━━━━━━━━━\u001b[0m \u001b[32m1.6/1.6 MB\u001b[0m \u001b[31m22.9 MB/s\u001b[0m eta \u001b[36m0:00:00\u001b[0m:00:01\u001b[0m\n",
      "\u001b[?25hRequirement already satisfied: wheel<1.0,>=0.23.0 in /opt/conda/lib/python3.7/site-packages (from astunparse>=1.6.0->tensorflow->-r requirements.txt (line 2)) (0.41.0)\n",
      "Collecting urllib3<1.27,>=1.25.4 (from botocore>=1.29.4->pyathena->-r requirements.txt (line 4))\n",
      "  Downloading https://artifactory.alight.com/artifactory/api/pypi/python-pypi-remote/packages/packages/c5/05/c214b32d21c0b465506f95c4f28ccbcba15022e000b043b72b3df7728471/urllib3-1.26.16-py2.py3-none-any.whl (143 kB)\n",
      "\u001b[2K     \u001b[90m━━━━━━━━━━━━━━━━━━━━━━━━━━━━━━━━━━━━━━━\u001b[0m \u001b[32m143.1/143.1 kB\u001b[0m \u001b[31m1.6 MB/s\u001b[0m eta \u001b[36m0:00:00\u001b[0ma \u001b[36m0:00:01\u001b[0m\n",
      "\u001b[?25hRequirement already satisfied: zipp>=0.5 in /opt/conda/lib/python3.7/site-packages (from catalogue<1.1.0,>=0.0.7->spacy==2.3.5->-r requirements.txt (line 16)) (2.2.0)\n",
      "Requirement already satisfied: charset-normalizer<4,>=2 in /opt/conda/lib/python3.7/site-packages (from requests<3.0.0,>=2.13.0->spacy==2.3.5->-r requirements.txt (line 16)) (2.0.4)\n",
      "Requirement already satisfied: idna<4,>=2.5 in /opt/conda/lib/python3.7/site-packages (from requests<3.0.0,>=2.13.0->spacy==2.3.5->-r requirements.txt (line 16)) (2.8)\n",
      "Requirement already satisfied: certifi>=2017.4.17 in /opt/conda/lib/python3.7/site-packages (from requests<3.0.0,>=2.13.0->spacy==2.3.5->-r requirements.txt (line 16)) (2023.7.22)\n",
      "Collecting google-auth<3,>=1.6.3 (from tensorboard<2.12,>=2.11->tensorflow->-r requirements.txt (line 2))\n",
      "  Downloading https://artifactory.alight.com/artifactory/api/pypi/python-pypi-remote/packages/packages/9c/8d/bff87fc722553a5691d8514da5523c23547f3894189ba03b57592e37bdc2/google_auth-2.22.0-py2.py3-none-any.whl (181 kB)\n",
      "\u001b[2K     \u001b[90m━━━━━━━━━━━━━━━━━━━━━━━━━━━━━━━━━━━━━━━\u001b[0m \u001b[32m181.8/181.8 kB\u001b[0m \u001b[31m2.2 MB/s\u001b[0m eta \u001b[36m0:00:00\u001b[0ma \u001b[36m0:00:01\u001b[0m\n",
      "\u001b[?25hCollecting google-auth-oauthlib<0.5,>=0.4.1 (from tensorboard<2.12,>=2.11->tensorflow->-r requirements.txt (line 2))\n",
      "  Using cached https://artifactory.alight.com/artifactory/api/pypi/python-pypi-remote/packages/packages/b1/0e/0636cc1448a7abc444fb1b3a63655e294e0d2d49092dc3de05241be6d43c/google_auth_oauthlib-0.4.6-py2.py3-none-any.whl (18 kB)\n",
      "Collecting markdown>=2.6.8 (from tensorboard<2.12,>=2.11->tensorflow->-r requirements.txt (line 2))\n",
      "  Downloading https://artifactory.alight.com/artifactory/api/pypi/python-pypi-remote/packages/packages/1a/b5/228c1cdcfe138f1a8e01ab1b54284c8b83735476cb22b6ba251656ed13ad/Markdown-3.4.4-py3-none-any.whl (94 kB)\n",
      "\u001b[2K     \u001b[90m━━━━━━━━━━━━━━━━━━━━━━━━━━━━━━━━━━━━━━━━\u001b[0m \u001b[32m94.2/94.2 kB\u001b[0m \u001b[31m2.0 MB/s\u001b[0m eta \u001b[36m0:00:00\u001b[0m:00:01\u001b[0m\n",
      "\u001b[?25hCollecting tensorboard-data-server<0.7.0,>=0.6.0 (from tensorboard<2.12,>=2.11->tensorflow->-r requirements.txt (line 2))\n",
      "  Using cached https://artifactory.alight.com/artifactory/api/pypi/python-pypi-remote/packages/packages/60/f9/802efd84988bffd9f644c03b6e66fde8e76c3aa33db4279ddd11c5d61f4b/tensorboard_data_server-0.6.1-py3-none-manylinux2010_x86_64.whl (4.9 MB)\n",
      "Collecting tensorboard-plugin-wit>=1.6.0 (from tensorboard<2.12,>=2.11->tensorflow->-r requirements.txt (line 2))\n",
      "  Using cached https://artifactory.alight.com/artifactory/api/pypi/python-pypi-remote/packages/packages/e0/68/e8ecfac5dd594b676c23a7f07ea34c197d7d69b3313afdf8ac1b0a9905a2/tensorboard_plugin_wit-1.8.1-py3-none-any.whl (781 kB)\n",
      "Requirement already satisfied: werkzeug>=1.0.1 in /opt/conda/lib/python3.7/site-packages (from tensorboard<2.12,>=2.11->tensorflow->-r requirements.txt (line 2)) (2.2.3)\n",
      "Requirement already satisfied: importlib-metadata in /opt/conda/lib/python3.7/site-packages (from click->nltk->-r requirements.txt (line 8)) (6.7.0)\n",
      "Requirement already satisfied: cycler>=0.10 in /opt/conda/lib/python3.7/site-packages (from matplotlib->wordcloud->-r requirements.txt (line 14)) (0.10.0)\n",
      "Requirement already satisfied: kiwisolver>=1.0.1 in /opt/conda/lib/python3.7/site-packages (from matplotlib->wordcloud->-r requirements.txt (line 14)) (1.1.0)\n",
      "Requirement already satisfied: pyparsing!=2.0.4,!=2.1.2,!=2.1.6,>=2.0.1 in /opt/conda/lib/python3.7/site-packages (from matplotlib->wordcloud->-r requirements.txt (line 14)) (2.4.6)\n",
      "Collecting cachetools<6.0,>=2.0.0 (from google-auth<3,>=1.6.3->tensorboard<2.12,>=2.11->tensorflow->-r requirements.txt (line 2))\n",
      "  Downloading https://artifactory.alight.com/artifactory/api/pypi/python-pypi-remote/packages/packages/a9/c9/c8a7710f2cedcb1db9224fdd4d8307c9e48cbddc46c18b515fefc0f1abbe/cachetools-5.3.1-py3-none-any.whl (9.3 kB)\n",
      "Collecting pyasn1-modules>=0.2.1 (from google-auth<3,>=1.6.3->tensorboard<2.12,>=2.11->tensorflow->-r requirements.txt (line 2))\n",
      "  Downloading https://artifactory.alight.com/artifactory/api/pypi/python-pypi-remote/packages/packages/cd/8e/bea464350e1b8c6ed0da3a312659cb648804a08af6cacc6435867f74f8bd/pyasn1_modules-0.3.0-py2.py3-none-any.whl (181 kB)\n",
      "\u001b[2K     \u001b[90m━━━━━━━━━━━━━━━━━━━━━━━━━━━━━━━━━━━━━━━\u001b[0m \u001b[32m181.3/181.3 kB\u001b[0m \u001b[31m2.0 MB/s\u001b[0m eta \u001b[36m0:00:00\u001b[0ma \u001b[36m0:00:01\u001b[0m\n",
      "\u001b[?25hRequirement already satisfied: rsa<5,>=3.1.4 in /opt/conda/lib/python3.7/site-packages (from google-auth<3,>=1.6.3->tensorboard<2.12,>=2.11->tensorflow->-r requirements.txt (line 2)) (4.9)\n",
      "Collecting requests-oauthlib>=0.7.0 (from google-auth-oauthlib<0.5,>=0.4.1->tensorboard<2.12,>=2.11->tensorflow->-r requirements.txt (line 2))\n",
      "  Using cached https://artifactory.alight.com/artifactory/api/pypi/python-pypi-remote/packages/packages/6f/bb/5deac77a9af870143c684ab46a7934038a53eb4aa975bc0687ed6ca2c610/requests_oauthlib-1.3.1-py2.py3-none-any.whl (23 kB)\n",
      "Requirement already satisfied: MarkupSafe>=2.1.1 in /opt/conda/lib/python3.7/site-packages (from werkzeug>=1.0.1->tensorboard<2.12,>=2.11->tensorflow->-r requirements.txt (line 2)) (2.1.3)\n",
      "Requirement already satisfied: pyasn1<0.6.0,>=0.4.6 in /opt/conda/lib/python3.7/site-packages (from pyasn1-modules>=0.2.1->google-auth<3,>=1.6.3->tensorboard<2.12,>=2.11->tensorflow->-r requirements.txt (line 2)) (0.5.0)\n",
      "Collecting oauthlib>=3.0.0 (from requests-oauthlib>=0.7.0->google-auth-oauthlib<0.5,>=0.4.1->tensorboard<2.12,>=2.11->tensorflow->-r requirements.txt (line 2))\n",
      "  Using cached https://artifactory.alight.com/artifactory/api/pypi/python-pypi-remote/packages/packages/7e/80/cab10959dc1faead58dc8384a781dfbf93cb4d33d50988f7a69f1b7c9bbe/oauthlib-3.2.2-py3-none-any.whl (151 kB)\n",
      "Building wheels for collected packages: docopt\n",
      "  Building wheel for docopt (setup.py) ... \u001b[?25ldone\n",
      "\u001b[?25h  Created wheel for docopt: filename=docopt-0.6.2-py2.py3-none-any.whl size=13705 sha256=b689a64a3eb76b7a9fb11f03fdfa2bf3a220769006514d9db690346da2cb9612\n",
      "  Stored in directory: /root/.cache/pip/wheels/71/3a/57/72e5f34b2527f52c9825d5f3fad076eb06d83d3b22807a5365\n",
      "Successfully built docopt\n",
      "\u001b[33mDEPRECATION: pyodbc 4.0.0-unsupported has a non-standard version number. pip 23.3 will enforce this behaviour change. A possible replacement is to upgrade to a newer version of pyodbc or contact the author to suggest that they release a version with a conforming version number. Discussion can be found at https://github.com/pypa/pip/issues/12063\u001b[0m\u001b[33m\n",
      "\u001b[0mInstalling collected packages: wasabi, tensorboard-plugin-wit, sentencepiece, plac, libclang, flatbuffers, docopt, cymem, urllib3, termcolor, tensorflow-io-gcs-filesystem, tensorflow-estimator, tensorboard-data-server, srsly, smart-open, pyasn1-modules, py-params, protobuf, opt-einsum, oauthlib, num2words, murmurhash, keras, grpcio, gast, cramjam, catalogue, cachetools, blis, astunparse, absl-py, xgboost, tensorflow-hub, preshed, params-flow, markdown, google-auth, gensim, wordcloud, thinc, requests-oauthlib, fastparquet, bert-for-tf2, spacy, google-auth-oauthlib, tensorboard, pyathena, tensorflow\n",
      "  Attempting uninstall: urllib3\n",
      "    Found existing installation: urllib3 2.0.4\n",
      "    Uninstalling urllib3-2.0.4:\n",
      "      Successfully uninstalled urllib3-2.0.4\n",
      "  Attempting uninstall: protobuf\n",
      "    Found existing installation: protobuf 4.23.4\n",
      "    Uninstalling protobuf-4.23.4:\n",
      "      Successfully uninstalled protobuf-4.23.4\n",
      "\u001b[31mERROR: pip's dependency resolver does not currently take into account all the packages that are installed. This behaviour is the source of the following dependency conflicts.\n",
      "sparkmagic 0.20.4 requires nest-asyncio==1.5.5, but you have nest-asyncio 1.5.7 which is incompatible.\u001b[0m\u001b[31m\n",
      "\u001b[0mSuccessfully installed absl-py-1.4.0 astunparse-1.6.3 bert-for-tf2-0.14.9 blis-0.7.10 cachetools-5.3.1 catalogue-1.0.2 cramjam-2.7.0 cymem-2.0.7 docopt-0.6.2 fastparquet-0.8.1 flatbuffers-23.5.26 gast-0.4.0 gensim-4.2.0 google-auth-2.22.0 google-auth-oauthlib-0.4.6 grpcio-1.57.0 keras-2.11.0 libclang-16.0.6 markdown-3.4.4 murmurhash-1.0.9 num2words-0.5.12 oauthlib-3.2.2 opt-einsum-3.3.0 params-flow-0.8.2 plac-1.1.3 preshed-3.0.8 protobuf-3.19.6 py-params-0.10.2 pyasn1-modules-0.3.0 pyathena-2.25.2 requests-oauthlib-1.3.1 sentencepiece-0.1.99 smart-open-6.3.0 spacy-2.3.5 srsly-1.0.7 tensorboard-2.11.2 tensorboard-data-server-0.6.1 tensorboard-plugin-wit-1.8.1 tensorflow-2.11.0 tensorflow-estimator-2.11.0 tensorflow-hub-0.14.0 tensorflow-io-gcs-filesystem-0.33.0 termcolor-2.3.0 thinc-7.4.6 urllib3-1.26.16 wasabi-0.10.1 wordcloud-1.9.2 xgboost-1.6.2\n",
      "\u001b[33mWARNING: Running pip as the 'root' user can result in broken permissions and conflicting behaviour with the system package manager. It is recommended to use a virtual environment instead: https://pip.pypa.io/warnings/venv\u001b[0m\u001b[33m\n",
      "\u001b[0m"
     ]
    }
   ],
   "source": [
    "# !pip install --index-url=https://artifactory.alight.com/artifactory/api/pypi/python-pypi-remote/simple --trusted-host=artifactory.alight.com -r \"requirements.txt\""
   ]
  },
  {
   "cell_type": "code",
   "execution_count": 4,
   "id": "88f0b2ed-2f99-4386-ae0d-b8d43bb98401",
   "metadata": {},
   "outputs": [],
   "source": [
    "# pip install torch"
   ]
  },
  {
   "cell_type": "code",
   "execution_count": 5,
   "id": "08ae52da",
   "metadata": {},
   "outputs": [],
   "source": [
    "import numpy as np\n",
    "import pandas as pd\n",
    "import warnings, os, sys, json, re, time, pickle, logging, collections\n",
    "import multiprocessing as mp\n",
    "import string\n",
    "import nltk\n",
    "import matplotlib.pyplot as plt\n",
    "\n",
    "import multiprocessing\n",
    "import time\n",
    "\n",
    "from joblib import Parallel, delayed\n",
    "from collections import Counter, defaultdict\n",
    "\n",
    "\n",
    "from nltk.corpus import stopwords\n",
    "from gensim.parsing.preprocessing import STOPWORDS\n",
    "from nltk.stem.wordnet import WordNetLemmatizer\n",
    "from nltk import word_tokenize\n",
    "from nltk.corpus import wordnet\n",
    "\n",
    "\n",
    "\n",
    "set1 = set(list(STOPWORDS))\n",
    "set2 = set(stopwords.words(\"english\"))\n",
    "filler_words = set([\"uh\",\"uhh\",\"ohh\",\"oh\",\"ah\",\"ahh\",\"um\",\"umm\",\"umb\",\"hmm\",\"mhm\",\n",
    "                    \"huh\",\"er\",\"err\",\"ok\",\"okay\",\"hi\",\"hello\",\"please\",\"may\",\"thank\",\n",
    "                    \"yes\",\"today\",\"no\", \"bye\", \"pii\"])\n",
    "stop_words = set1.union(set2).union(filler_words)\n",
    "lemma = WordNetLemmatizer()\n",
    "pattern = r'[^a-zA-Z0-9\\s]'\n",
    "only_nums = re.compile(r'[0-9]+\\s|[0-9]+[^a-zA-Z0-9\\s]')\n",
    "\n",
    "\n",
    "\n",
    "with open(\"contractions_dict.json\") as f:\n",
    "    contractions_dict = json.load(f)\n",
    "\n",
    "\n",
    "\n",
    "contractions_re = re.compile('(%s)' % '|'.join(contractions_dict.keys()))\n",
    "\n",
    "\n",
    "\n",
    "def expand_contractions(s, contractions_dict=contractions_dict):\n",
    "    def replace(match):\n",
    "        return contractions_dict[match.group(0)]\n",
    "    return contractions_re.sub(replace, s)\n",
    "\n",
    "\n",
    "\n",
    "def preprocess_text(text):\n",
    "   # expand contractions\n",
    "    text = expand_contractions(text)\n",
    "    # convert to lower case\n",
    "    text = text.lower()\n",
    "    text = nltk.word_tokenize(text)\n",
    "    # remove stopwords\n",
    "    text = \" \".join(i for i in text if i not in stop_words)\n",
    "    # lemmatize the text\n",
    "    text = \" \".join(lemma.lemmatize(word, pos=\"v\") for word in text.split())\n",
    "    # remove extra whitespaces\n",
    "    text = re.sub(' +', ' ', text)\n",
    "    # tokenize transcripts into sentences\n",
    "    sentences_per_trans = [re.sub(pattern, ' ', sent) for sent in nltk.sent_tokenize(text, language='english')]\n",
    "    # tokenize all sentences into words\n",
    "    words_per_trans = [nltk.word_tokenize(sent) for sent in sentences_per_trans]\n",
    "    return [word for sent_tokens in words_per_trans for word in sent_tokens if word.isalpha()]"
   ]
  },
  {
   "cell_type": "code",
   "execution_count": 6,
   "id": "c2a326a2",
   "metadata": {},
   "outputs": [],
   "source": [
    "# function to prepare n-grams\n",
    "def count_ngrams(lines, min_length=1, max_length=3):\n",
    "    lengths = range(min_length, max_length+1)\n",
    "    ngrams = {length: collections.Counter() for length in lengths}\n",
    "    queue = collections.deque(maxlen = max_length)\n",
    "    def add_queue():\n",
    "        current = tuple(queue)\n",
    "        for length in lengths:\n",
    "            if len(current)>= length:\n",
    "                ngrams[length][current[:length]] +=1\n",
    "    for line in lines:\n",
    "        for word in nltk.word_tokenize(line):\n",
    "            queue.append(word)\n",
    "            if len(queue) >= max_length:\n",
    "                add_queue()\n",
    "    while len(queue) > min_length:\n",
    "        queue.popleft()\n",
    "        add_queue()\n",
    "    return ngrams"
   ]
  },
  {
   "cell_type": "code",
   "execution_count": 40,
   "id": "08306b98",
   "metadata": {},
   "outputs": [],
   "source": [
    "def Runner(df,return_dict):\n",
    "    WordCloud_df = pd.DataFrame()\n",
    "    for group, frame in df.groupby([\"client_id\", \"segment_start_time\", \"primary_predicted\",\n",
    "                                        \"secondary_predicted\",\"tertiary_predicted\",\"root_cause_predicted\"]):\n",
    "        frame[\"transcripts\"] = frame[\"transcripts\"].apply(lambda text: preprocess_text(text))\n",
    "        frame[\"transcripts\"] = frame[\"transcripts\"].apply(lambda x: \" \".join(x))\n",
    "        frame.segment_start_time = pd.to_datetime(frame.segment_start_time).dt.date\n",
    "\n",
    "        ngram_dict = count_ngrams(frame.transcripts)\n",
    "        ngram_df = (\n",
    "            pd.concat([pd.DataFrame.from_dict(ngram_dict[1].items()).assign(Type=\"Unigram\"), \n",
    "                       pd.DataFrame.from_dict(ngram_dict[2].items()).assign(Type=\"Bigram\"),\n",
    "                       pd.DataFrame.from_dict(ngram_dict[3].items()).assign(Type=\"Trigram\")])\n",
    "            .rename(columns={0:\"Words/Tokens\", 1:\"Count\"})\n",
    "        )\n",
    "\n",
    "        ngram_df = ngram_df.assign(Client_Id=group[0], Date=group[1], Primary_Driver=group[2], \n",
    "                                   Secondary_Driver=group[3], Tertiary_Driver=group[4], Root_Cause=group[5])\n",
    "        WordCloud_df = pd.concat([WordCloud_df, ngram_df])\n",
    "    WordCloud_df = WordCloud_df[WordCloud_df.columns[5:].tolist() + WordCloud_df.columns[:5].tolist()]\n",
    "    # tmstmp = str(time.time()).replace(\".\",\"_\")\n",
    "    # return_dict[f\"df_{tmstmp}\"] = WordCloud_df.copy()\n",
    "    return_dict.put_nowait(WordCloud_df)"
   ]
  },
  {
   "cell_type": "code",
   "execution_count": 48,
   "id": "249abdf8",
   "metadata": {},
   "outputs": [
    {
     "name": "stdout",
     "output_type": "stream",
     "text": [
      "CPU times: user 825 ms, sys: 611 ms, total: 1.44 s\n",
      "Wall time: 1.11 s\n"
     ]
    }
   ],
   "source": [
    "%%time\n",
    "df = pd.read_parquet(\"Final_Preds.parquet\")\n",
    "df.columns = [col.lower() for col in df.columns]"
   ]
  },
  {
   "cell_type": "code",
   "execution_count": 49,
   "id": "1287971e",
   "metadata": {},
   "outputs": [
    {
     "data": {
      "text/plain": [
       "(43490, 26)"
      ]
     },
     "execution_count": 49,
     "metadata": {},
     "output_type": "execute_result"
    }
   ],
   "source": [
    "df.shape"
   ]
  },
  {
   "cell_type": "code",
   "execution_count": 50,
   "id": "eb806798",
   "metadata": {
    "tags": []
   },
   "outputs": [
    {
     "data": {
      "text/plain": [
       "(43490, 26)"
      ]
     },
     "execution_count": 50,
     "metadata": {},
     "output_type": "execute_result"
    }
   ],
   "source": [
    "df.shape"
   ]
  },
  {
   "cell_type": "code",
   "execution_count": 51,
   "id": "bf1ab91c-608f-417e-ace7-fc257c978660",
   "metadata": {
    "tags": []
   },
   "outputs": [],
   "source": [
    "df[['primary_predicted', 'secondary_predicted', 'tertiary_predicted']] = df['prediction'].str.split('_',expand=True)\n",
    "\n",
    " \n",
    "\n",
    "# df.rename(columns={\"root_cause_predicted\":\"root_cause\"}, inplace=True)\n",
    "\n",
    " \n",
    "\n",
    "#reading the data file- need to comment this once the data is fed using the function parameter\n",
    "#data = pd.read_parquet(path='s3://adl-core-sagemaker-studio/external/Yashasvi/TranscriptOnly_Intent_Classification/Monthly_prediction/predicted_result_2022-10-11_15:27:34.parquet.gzip')\n",
    "\n",
    " \n",
    "\n",
    "#renaming the datetime columns to the ons which was sent earlier\n",
    "df.rename(columns={\"starttime\":\"segment_start_time\",\"endtime\":\"segment_end_time\"},inplace=True)\n",
    "\n",
    " \n",
    "\n",
    "#pickingnonly required columns for final display purpose\n",
    "df = df[['client_id', 'client_name', 'universal_id', 'segment_start_time', 'segment_end_time',\n",
    "         'root_cause_predicted', 'primary_predicted', 'secondary_predicted', 'tertiary_predicted','transcripts','recordingid','sub_bucket','conversationid']]\n",
    "\n",
    " \n",
    "\n",
    "#converting date time to desired format as required for display purpose\n",
    "df['segment_start_time'] = pd.to_datetime(df['segment_start_time'])\n",
    "df['segment_end_time'] = pd.to_datetime(df['segment_end_time'])\n",
    "\n",
    " \n",
    "\n",
    "df['segment_start_time'] = df['segment_start_time'].dt.strftime('%Y-%m-%d %H:%M')\n",
    "df['segment_end_time'] = df['segment_end_time'].dt.strftime('%Y-%m-%d %H:%M')\n",
    "\n",
    " \n",
    "\n",
    "#dropping duplicates\n",
    "df = df.drop_duplicates().reset_index(drop=True)\n",
    "\n",
    "\n"
   ]
  },
  {
   "cell_type": "code",
   "execution_count": 52,
   "id": "aa7b0a2f-898c-4eef-bfe9-61cb68306d8e",
   "metadata": {},
   "outputs": [],
   "source": [
    "# df = df.sample(n=5000)\n"
   ]
  },
  {
   "cell_type": "code",
   "execution_count": 53,
   "id": "31d180e0",
   "metadata": {},
   "outputs": [
    {
     "name": "stdout",
     "output_type": "stream",
     "text": [
      "CPU times: user 756 ms, sys: 7.17 s, total: 7.93 s\n",
      "Wall time: 5min 29s\n"
     ]
    }
   ],
   "source": [
    "%%time\n",
    "\n",
    "\n",
    "manager = multiprocessing.Manager()\n",
    "return_dict = manager.Queue()\n",
    "\n",
    "processes = []\n",
    "\n",
    "NB_BATCHES = 25\n",
    "len_batch = len(df)//NB_BATCHES\n",
    "\n",
    "for j in range(NB_BATCHES+1):\n",
    "    temp_df = df.copy().iloc[j*len_batch:(j+1)*len_batch]\n",
    "    p = multiprocessing.Process(target=Runner, args=(temp_df, return_dict))\n",
    "    processes.append(p)\n",
    "    p.start()\n",
    "\n",
    "for i in processes:\n",
    "    i.join()"
   ]
  },
  {
   "cell_type": "code",
   "execution_count": 56,
   "id": "21602b2b-b35e-4392-8b6e-ded74f10b67f",
   "metadata": {
    "tags": []
   },
   "outputs": [],
   "source": [
    "WordCloud_df = []\n",
    "while not return_dict.empty():\n",
    "    WordCloud_df.append(return_dict.get())\n",
    "\n",
    "WordCloud_df = pd.concat(WordCloud_df, ignore_index=True)"
   ]
  },
  {
   "cell_type": "code",
   "execution_count": 57,
   "id": "8e15eddb",
   "metadata": {},
   "outputs": [],
   "source": [
    "# collect_df = return_dict.values()"
   ]
  },
  {
   "cell_type": "code",
   "execution_count": 58,
   "id": "2b3467f2",
   "metadata": {},
   "outputs": [
    {
     "name": "stdout",
     "output_type": "stream",
     "text": [
      "CPU times: user 4 µs, sys: 0 ns, total: 4 µs\n",
      "Wall time: 6.91 µs\n"
     ]
    }
   ],
   "source": [
    "%%time\n",
    "# WordCloud_df = pd.concat(collect_df)"
   ]
  },
  {
   "cell_type": "code",
   "execution_count": 59,
   "id": "9a73bc3c",
   "metadata": {},
   "outputs": [
    {
     "data": {
      "text/html": [
       "<div>\n",
       "<style scoped>\n",
       "    .dataframe tbody tr th:only-of-type {\n",
       "        vertical-align: middle;\n",
       "    }\n",
       "\n",
       "    .dataframe tbody tr th {\n",
       "        vertical-align: top;\n",
       "    }\n",
       "\n",
       "    .dataframe thead th {\n",
       "        text-align: right;\n",
       "    }\n",
       "</style>\n",
       "<table border=\"1\" class=\"dataframe\">\n",
       "  <thead>\n",
       "    <tr style=\"text-align: right;\">\n",
       "      <th></th>\n",
       "      <th>Primary_Driver</th>\n",
       "      <th>Secondary_Driver</th>\n",
       "      <th>Tertiary_Driver</th>\n",
       "      <th>Root_Cause</th>\n",
       "      <th>Words/Tokens</th>\n",
       "      <th>Count</th>\n",
       "      <th>Type</th>\n",
       "      <th>Client_Id</th>\n",
       "      <th>Date</th>\n",
       "    </tr>\n",
       "  </thead>\n",
       "  <tbody>\n",
       "    <tr>\n",
       "      <th>0</th>\n",
       "      <td>Cross Solution</td>\n",
       "      <td>Access</td>\n",
       "      <td>Proxy/Delegate access</td>\n",
       "      <td>Education</td>\n",
       "      <td>(patience,)</td>\n",
       "      <td>1</td>\n",
       "      <td>Unigram</td>\n",
       "      <td>1012</td>\n",
       "      <td>2023-06-13 18:22</td>\n",
       "    </tr>\n",
       "    <tr>\n",
       "      <th>1</th>\n",
       "      <td>Cross Solution</td>\n",
       "      <td>Access</td>\n",
       "      <td>Proxy/Delegate access</td>\n",
       "      <td>Education</td>\n",
       "      <td>(cigna,)</td>\n",
       "      <td>2</td>\n",
       "      <td>Unigram</td>\n",
       "      <td>1012</td>\n",
       "      <td>2023-06-13 18:22</td>\n",
       "    </tr>\n",
       "    <tr>\n",
       "      <th>2</th>\n",
       "      <td>Cross Solution</td>\n",
       "      <td>Access</td>\n",
       "      <td>Proxy/Delegate access</td>\n",
       "      <td>Education</td>\n",
       "      <td>(employee,)</td>\n",
       "      <td>1</td>\n",
       "      <td>Unigram</td>\n",
       "      <td>1012</td>\n",
       "      <td>2023-06-13 18:22</td>\n",
       "    </tr>\n",
       "    <tr>\n",
       "      <th>3</th>\n",
       "      <td>Cross Solution</td>\n",
       "      <td>Access</td>\n",
       "      <td>Proxy/Delegate access</td>\n",
       "      <td>Education</td>\n",
       "      <td>(service,)</td>\n",
       "      <td>1</td>\n",
       "      <td>Unigram</td>\n",
       "      <td>1012</td>\n",
       "      <td>2023-06-13 18:22</td>\n",
       "    </tr>\n",
       "    <tr>\n",
       "      <th>4</th>\n",
       "      <td>Cross Solution</td>\n",
       "      <td>Access</td>\n",
       "      <td>Proxy/Delegate access</td>\n",
       "      <td>Education</td>\n",
       "      <td>(center,)</td>\n",
       "      <td>1</td>\n",
       "      <td>Unigram</td>\n",
       "      <td>1012</td>\n",
       "      <td>2023-06-13 18:22</td>\n",
       "    </tr>\n",
       "  </tbody>\n",
       "</table>\n",
       "</div>"
      ],
      "text/plain": [
       "   Primary_Driver Secondary_Driver        Tertiary_Driver Root_Cause  \\\n",
       "0  Cross Solution           Access  Proxy/Delegate access  Education   \n",
       "1  Cross Solution           Access  Proxy/Delegate access  Education   \n",
       "2  Cross Solution           Access  Proxy/Delegate access  Education   \n",
       "3  Cross Solution           Access  Proxy/Delegate access  Education   \n",
       "4  Cross Solution           Access  Proxy/Delegate access  Education   \n",
       "\n",
       "  Words/Tokens  Count     Type  Client_Id              Date  \n",
       "0  (patience,)      1  Unigram       1012  2023-06-13 18:22  \n",
       "1     (cigna,)      2  Unigram       1012  2023-06-13 18:22  \n",
       "2  (employee,)      1  Unigram       1012  2023-06-13 18:22  \n",
       "3   (service,)      1  Unigram       1012  2023-06-13 18:22  \n",
       "4    (center,)      1  Unigram       1012  2023-06-13 18:22  "
      ]
     },
     "execution_count": 59,
     "metadata": {},
     "output_type": "execute_result"
    }
   ],
   "source": [
    "WordCloud_df.head()"
   ]
  },
  {
   "cell_type": "code",
   "execution_count": 60,
   "id": "ed96b744",
   "metadata": {
    "tags": []
   },
   "outputs": [
    {
     "data": {
      "text/plain": [
       "(30610437, 9)"
      ]
     },
     "execution_count": 60,
     "metadata": {},
     "output_type": "execute_result"
    }
   ],
   "source": [
    "WordCloud_df.shape"
   ]
  },
  {
   "cell_type": "code",
   "execution_count": 61,
   "id": "da9eb8fc-1d13-427f-8879-dd9d3617525e",
   "metadata": {},
   "outputs": [],
   "source": [
    "grouped_sum = WordCloud_df.groupby(['Primary_Driver', 'Type','Client_Id'], as_index=False)[[\"Count\"]].sum().rename(columns={\"Count\":\"Overall_Count_By_Type\"})\n"
   ]
  },
  {
   "cell_type": "code",
   "execution_count": 62,
   "id": "288810fc-bef4-4fd1-bb42-f4a3be1741a8",
   "metadata": {
    "tags": []
   },
   "outputs": [],
   "source": [
    "# grouped_sum"
   ]
  },
  {
   "cell_type": "code",
   "execution_count": 63,
   "id": "d72d1f99-ee8a-4230-9cad-7f37fdc6e8ab",
   "metadata": {},
   "outputs": [],
   "source": [
    "WordCloud_df = WordCloud_df.merge(grouped_sum, how=\"left\",on=['Primary_Driver', 'Type','Client_Id'], copy=False)\n",
    "WordCloud_df = WordCloud_df.assign(Normalized_Count=WordCloud_df.Count/WordCloud_df.Overall_Count_By_Type)"
   ]
  },
  {
   "cell_type": "code",
   "execution_count": 64,
   "id": "4f8ef6cd-5f42-4407-9878-dd87dfe0df66",
   "metadata": {},
   "outputs": [],
   "source": [
    "# WordCloud_df.head(2)"
   ]
  },
  {
   "cell_type": "code",
   "execution_count": 65,
   "id": "e368d1a4",
   "metadata": {},
   "outputs": [
    {
     "name": "stdout",
     "output_type": "stream",
     "text": [
      "['Primary_Driver', 'Secondary_Driver', 'Tertiary_Driver', 'Root_Cause', 'Words/Tokens', 'Type', 'Client_Id', 'Date', 'Overall_Count_By_Type', 'Normalized_Count']\n"
     ]
    }
   ],
   "source": [
    "groupby_list = [col for col in WordCloud_df.columns if col != \"Count\"]\n",
    "print(groupby_list)"
   ]
  },
  {
   "cell_type": "code",
   "execution_count": 66,
   "id": "320df7b7",
   "metadata": {},
   "outputs": [],
   "source": [
    "Wc_updated_df = WordCloud_df.groupby(groupby_list, as_index=False)[\"Count\"].sum()"
   ]
  },
  {
   "cell_type": "code",
   "execution_count": 67,
   "id": "e416d0a9",
   "metadata": {},
   "outputs": [],
   "source": [
    "# Wc_updated_df.to_parquet(\"s3://adl-core-dev-sagemaker-studio/external/Kartik/WordCloud_Data_Sep22_With_Bigrams_Trigrams.parquet\", index=False)"
   ]
  },
  {
   "cell_type": "code",
   "execution_count": 68,
   "id": "59d94836",
   "metadata": {},
   "outputs": [],
   "source": [
    "groupby_list.remove('Date')"
   ]
  },
  {
   "cell_type": "code",
   "execution_count": 25,
   "id": "195be68c",
   "metadata": {},
   "outputs": [],
   "source": [
    "writer_obj = pd.ExcelWriter('WordCloud_Data_Sample_for_Analysis.xlsx')"
   ]
  },
  {
   "cell_type": "code",
   "execution_count": 26,
   "id": "b303253b",
   "metadata": {},
   "outputs": [],
   "source": [
    "(\n",
    "    Wc_updated_df.query('Primary_Driver == \"Cross Solution\" & Secondary_Driver == \"Leaves\" & Tertiary_Driver == \"Leaves Pay\" \\\n",
    "                    & Type == \"Unigram\" & Root_Cause == \"Education\" & Client_Id == 1012')\n",
    "    .groupby(groupby_list, as_index=False)[\"Count\"].sum().sort_values(by=\"Count\", ascending=False)\n",
    "    .to_excel(writer_obj,sheet_name='Unigram',startrow=2,index=False)\n",
    ")\n",
    "\n",
    "(\n",
    "    Wc_updated_df.query('Primary_Driver == \"Cross Solution\" & Secondary_Driver == \"Leaves\" & Tertiary_Driver == \"Leaves Pay\" \\\n",
    "                    & Type == \"Bigram\" & Root_Cause == \"Education\" & Client_Id == 1012')\n",
    "    .groupby(groupby_list, as_index=False)[\"Count\"].sum().sort_values(by=\"Count\", ascending=False)\n",
    "    .to_excel(writer_obj,sheet_name='Bigram',startrow=2,index=False)\n",
    ")\n",
    "\n",
    "(\n",
    "    Wc_updated_df.query('Primary_Driver == \"Cross Solution\" & Secondary_Driver == \"Leaves\" & Tertiary_Driver == \"Leaves Pay\" \\\n",
    "                    & Type == \"Trigram\" & Root_Cause == \"Education\" & Client_Id == 1012')\n",
    "    .groupby(groupby_list, as_index=False)[\"Count\"].sum().sort_values(by=\"Count\", ascending=False)\n",
    "    .to_excel(writer_obj,sheet_name='Trigram',startrow=2,index=False)\n",
    ")\n",
    "\n",
    "writer_obj.save()\n",
    "writer_obj.close()"
   ]
  },
  {
   "cell_type": "code",
   "execution_count": 27,
   "id": "f9d7369b",
   "metadata": {},
   "outputs": [],
   "source": [
    "# Wc_updated_df.query('Type == \"Trigram\" & Root_Cause == \"Education\" & Client_Id == 1012').sort_values(by=\"Count\", ascending=False).head(10)"
   ]
  },
  {
   "cell_type": "markdown",
   "id": "f6514894",
   "metadata": {},
   "source": [
    "=====================Ends Here ================================"
   ]
  },
  {
   "cell_type": "code",
   "execution_count": 31,
   "id": "c8374ff7-0007-468c-accf-f01a048673ce",
   "metadata": {},
   "outputs": [
    {
     "data": {
      "text/plain": [
       "(18032116, 11)"
      ]
     },
     "execution_count": 31,
     "metadata": {},
     "output_type": "execute_result"
    }
   ],
   "source": [
    "Wc_updated_df.shape"
   ]
  },
  {
   "cell_type": "code",
   "execution_count": 32,
   "id": "76f6ec6e-9a11-4c87-8857-f320a4e9fa92",
   "metadata": {},
   "outputs": [],
   "source": [
    "Wc_updated_df['Words/Tokens'] = Wc_updated_df['Words/Tokens'].apply(lambda x: ', '.join(x) if isinstance(x,tuple) else x)\n"
   ]
  },
  {
   "cell_type": "code",
   "execution_count": 33,
   "id": "28ac58f6-a293-4ea0-8257-fb58668ad58d",
   "metadata": {},
   "outputs": [],
   "source": [
    "ngrams = Wc_updated_df['Words/Tokens'].tolist()"
   ]
  },
  {
   "cell_type": "code",
   "execution_count": 34,
   "id": "9b295519-a05a-4b76-a1c8-00e78ad8eed7",
   "metadata": {},
   "outputs": [],
   "source": [
    "df_kw =pd.read_csv(\"s3://adl-core-dev-sagemaker-studio/external/Kartik/keywords.csv\")\n",
    "\n",
    "df_kw[\"Keywords\"]= df_kw[\"Keywords\"].str.split(\" \")\n",
    "\n",
    "\n",
    "df_kw[\"Keywords\"] = [','.join(map(str, l)) for l in df_kw[\"Keywords\"]]\n",
    "\n",
    "df_kw[\"Keywords\"]  = df_kw[\"Keywords\"].str.replace(',', ' ')\n",
    "\n",
    "kw_arg = df_kw[\"Keywords\"].tolist()"
   ]
  },
  {
   "cell_type": "code",
   "execution_count": 37,
   "id": "9eb3206e-9211-4712-9095-90ff21ee1f03",
   "metadata": {
    "tags": []
   },
   "outputs": [],
   "source": [
    "# pip install sentence_transformers"
   ]
  },
  {
   "cell_type": "code",
   "execution_count": 38,
   "id": "096b572a-a878-4405-85b0-8dac7d6f4120",
   "metadata": {},
   "outputs": [],
   "source": [
    "from sentence_transformers import SentenceTransformer\n",
    "from sentence_transformers.util import cos_sim"
   ]
  },
  {
   "cell_type": "code",
   "execution_count": 39,
   "id": "97ff5b30-fafe-4653-88c5-b39d673b0d13",
   "metadata": {},
   "outputs": [],
   "source": [
    "model = SentenceTransformer('all-MiniLM-L6-v2')\n"
   ]
  },
  {
   "cell_type": "code",
   "execution_count": 40,
   "id": "fd39ebc0-210c-4c47-a0d6-0dadc1c3a5c2",
   "metadata": {},
   "outputs": [],
   "source": [
    "embedded_list_ngrams = model.encode(ngrams)"
   ]
  },
  {
   "cell_type": "code",
   "execution_count": 41,
   "id": "1ca3ae3d-9b00-4b3e-acca-c240a49c6071",
   "metadata": {},
   "outputs": [
    {
     "data": {
      "text/plain": [
       "(18032116, 384)"
      ]
     },
     "execution_count": 41,
     "metadata": {},
     "output_type": "execute_result"
    }
   ],
   "source": [
    "embedded_list_ngrams.shape"
   ]
  },
  {
   "cell_type": "code",
   "execution_count": 42,
   "id": "13102fb6-28a0-47f6-a295-953c0319faa7",
   "metadata": {},
   "outputs": [],
   "source": [
    "embedded_list_kw = model.encode(kw_arg)"
   ]
  },
  {
   "cell_type": "code",
   "execution_count": 43,
   "id": "21d29b4c-d552-4eb6-9695-88252eea50b7",
   "metadata": {},
   "outputs": [
    {
     "data": {
      "text/plain": [
       "(177, 384)"
      ]
     },
     "execution_count": 43,
     "metadata": {},
     "output_type": "execute_result"
    }
   ],
   "source": [
    "embedded_list_kw.shape"
   ]
  },
  {
   "cell_type": "markdown",
   "id": "c9a8f047-4c39-4367-a78b-2cb8b997f8ef",
   "metadata": {},
   "source": [
    "cosine Similarities"
   ]
  },
  {
   "cell_type": "code",
   "execution_count": 44,
   "id": "3e0116ff-c320-438c-acd4-31e6b832e134",
   "metadata": {},
   "outputs": [],
   "source": [
    "from sklearn.metrics.pairwise import cosine_similarity\n",
    "from scipy.spatial.distance import cosine"
   ]
  },
  {
   "cell_type": "code",
   "execution_count": 45,
   "id": "76e4b7c6-ba2e-4d4c-89fc-25a4e03152aa",
   "metadata": {},
   "outputs": [],
   "source": [
    "cosiinnn = cosine_similarity(embedded_list_ngrams,embedded_list_kw)"
   ]
  },
  {
   "cell_type": "code",
   "execution_count": 46,
   "id": "1b993cda-2f1b-4e5b-b45d-218c194e3c93",
   "metadata": {},
   "outputs": [
    {
     "data": {
      "text/plain": [
       "(18032116, 177)"
      ]
     },
     "execution_count": 46,
     "metadata": {},
     "output_type": "execute_result"
    }
   ],
   "source": [
    "cosiinnn.shape"
   ]
  },
  {
   "cell_type": "code",
   "execution_count": 48,
   "id": "b15a3cf7-b76d-44ea-a3e7-85f3f9154dc3",
   "metadata": {},
   "outputs": [],
   "source": [
    "max_indices = np.argmax(cosiinnn, axis=1)\n",
    "max_scores = np.max(cosiinnn, axis=1)"
   ]
  },
  {
   "cell_type": "code",
   "execution_count": 49,
   "id": "66545d1f-ea4b-48cf-b1e6-fc201a18e37e",
   "metadata": {},
   "outputs": [],
   "source": [
    "kw_series = df_kw.iloc[max_indices,:].Keywords.tolist()"
   ]
  },
  {
   "cell_type": "code",
   "execution_count": 50,
   "id": "c77ed88b-d795-4a73-bb3f-756c80ae56fa",
   "metadata": {},
   "outputs": [],
   "source": [
    "Wc_updated_df = Wc_updated_df.assign(max_score=max_scores, keyword=kw_series)"
   ]
  },
  {
   "cell_type": "code",
   "execution_count": 44,
   "id": "ad46e2bc-ce6f-409b-9ef4-b8ee424ed294",
   "metadata": {},
   "outputs": [],
   "source": [
    "# Wc_updated_df[Wc_updated_df.max_score > Wc_updated_df.max_score.quantile(0.75)]"
   ]
  },
  {
   "cell_type": "code",
   "execution_count": null,
   "id": "aaa156d3-3359-4817-bdc9-5df1de66654e",
   "metadata": {},
   "outputs": [],
   "source": []
  },
  {
   "cell_type": "code",
   "execution_count": null,
   "id": "214980b8-bc15-4438-8ec3-de02b3b38913",
   "metadata": {},
   "outputs": [],
   "source": [
    "# Wc_updated_df['Words/Tokens']"
   ]
  },
  {
   "cell_type": "code",
   "execution_count": null,
   "id": "5fd6b445-8d90-4276-8039-2e6196ba7ad1",
   "metadata": {},
   "outputs": [],
   "source": [
    "#############Grouping client-id, ngrams,primary drivers #############"
   ]
  },
  {
   "cell_type": "code",
   "execution_count": null,
   "id": "01799622-aba6-45cf-88d1-46178f5416a8",
   "metadata": {},
   "outputs": [],
   "source": [
    "# Wc_updated_df.shape"
   ]
  },
  {
   "cell_type": "code",
   "execution_count": 51,
   "id": "de3dbd1d-7a25-4092-bf0b-3a1556edf208",
   "metadata": {},
   "outputs": [],
   "source": [
    "Wc_updated_df['Words/Tokens'] = Wc_updated_df['Words/Tokens'].str.replace(',', ' ')\n",
    "# Wc_updated_df['Words/Tokens']  = Wc_updated_df['Words/Tokens'].str.replace(' ', '_')"
   ]
  },
  {
   "cell_type": "code",
   "execution_count": null,
   "id": "0145c811-421b-4670-a8f5-46fd642f900c",
   "metadata": {},
   "outputs": [],
   "source": []
  },
  {
   "cell_type": "code",
   "execution_count": 6,
   "id": "c657d6a2-244e-4156-91e5-4ee9c2cbecb6",
   "metadata": {
    "tags": []
   },
   "outputs": [],
   "source": [
    "df2 = pd.read_parquet(\"s3://adl-core-dev-sagemaker-studio/external/Kartik/Bigrams_Trigrams0823.parquet\")"
   ]
  },
  {
   "cell_type": "code",
   "execution_count": 7,
   "id": "39120964-4977-4d3c-a54d-9edc2f439f43",
   "metadata": {
    "tags": []
   },
   "outputs": [
    {
     "data": {
      "text/html": [
       "<div>\n",
       "<style scoped>\n",
       "    .dataframe tbody tr th:only-of-type {\n",
       "        vertical-align: middle;\n",
       "    }\n",
       "\n",
       "    .dataframe tbody tr th {\n",
       "        vertical-align: top;\n",
       "    }\n",
       "\n",
       "    .dataframe thead th {\n",
       "        text-align: right;\n",
       "    }\n",
       "</style>\n",
       "<table border=\"1\" class=\"dataframe\">\n",
       "  <thead>\n",
       "    <tr style=\"text-align: right;\">\n",
       "      <th></th>\n",
       "      <th>Primary_Driver</th>\n",
       "      <th>Secondary_Driver</th>\n",
       "      <th>Tertiary_Driver</th>\n",
       "      <th>Root_Cause</th>\n",
       "      <th>Words/Tokens</th>\n",
       "      <th>Type</th>\n",
       "      <th>Client_Id</th>\n",
       "      <th>Date</th>\n",
       "      <th>Overall_Count_By_Type</th>\n",
       "      <th>Normalized_Count</th>\n",
       "      <th>Count</th>\n",
       "      <th>max_score</th>\n",
       "      <th>keyword</th>\n",
       "    </tr>\n",
       "  </thead>\n",
       "  <tbody>\n",
       "    <tr>\n",
       "      <th>0</th>\n",
       "      <td>401k</td>\n",
       "      <td>Contributions</td>\n",
       "      <td>Contribution Change</td>\n",
       "      <td>Education</td>\n",
       "      <td>able</td>\n",
       "      <td>Unigram</td>\n",
       "      <td>1881</td>\n",
       "      <td>2022-08-03 17:21</td>\n",
       "      <td>12453.0</td>\n",
       "      <td>0.000080</td>\n",
       "      <td>1.0</td>\n",
       "      <td>0.465185</td>\n",
       "      <td>course</td>\n",
       "    </tr>\n",
       "    <tr>\n",
       "      <th>1</th>\n",
       "      <td>401k</td>\n",
       "      <td>Contributions</td>\n",
       "      <td>Contribution Change</td>\n",
       "      <td>Education</td>\n",
       "      <td>able  assist</td>\n",
       "      <td>Bigram</td>\n",
       "      <td>1881</td>\n",
       "      <td>2022-08-03 17:21</td>\n",
       "      <td>12407.0</td>\n",
       "      <td>0.000081</td>\n",
       "      <td>1.0</td>\n",
       "      <td>0.343863</td>\n",
       "      <td>request feedback</td>\n",
       "    </tr>\n",
       "    <tr>\n",
       "      <th>2</th>\n",
       "      <td>401k</td>\n",
       "      <td>Contributions</td>\n",
       "      <td>Contribution Change</td>\n",
       "      <td>Education</td>\n",
       "      <td>account</td>\n",
       "      <td>Unigram</td>\n",
       "      <td>1881</td>\n",
       "      <td>2022-08-03 17:21</td>\n",
       "      <td>12453.0</td>\n",
       "      <td>0.000080</td>\n",
       "      <td>1.0</td>\n",
       "      <td>0.651683</td>\n",
       "      <td>account balance</td>\n",
       "    </tr>\n",
       "    <tr>\n",
       "      <th>3</th>\n",
       "      <td>401k</td>\n",
       "      <td>Contributions</td>\n",
       "      <td>Contribution Change</td>\n",
       "      <td>Education</td>\n",
       "      <td>account  get</td>\n",
       "      <td>Bigram</td>\n",
       "      <td>1881</td>\n",
       "      <td>2022-08-03 17:21</td>\n",
       "      <td>12407.0</td>\n",
       "      <td>0.000081</td>\n",
       "      <td>1.0</td>\n",
       "      <td>0.507701</td>\n",
       "      <td>account balance</td>\n",
       "    </tr>\n",
       "    <tr>\n",
       "      <th>4</th>\n",
       "      <td>401k</td>\n",
       "      <td>Contributions</td>\n",
       "      <td>Contribution Change</td>\n",
       "      <td>Education</td>\n",
       "      <td>account  get  error</td>\n",
       "      <td>Trigram</td>\n",
       "      <td>1881</td>\n",
       "      <td>2022-08-03 17:21</td>\n",
       "      <td>12361.0</td>\n",
       "      <td>0.000081</td>\n",
       "      <td>1.0</td>\n",
       "      <td>0.470523</td>\n",
       "      <td>account balance</td>\n",
       "    </tr>\n",
       "  </tbody>\n",
       "</table>\n",
       "</div>"
      ],
      "text/plain": [
       "  Primary_Driver Secondary_Driver      Tertiary_Driver Root_Cause  \\\n",
       "0           401k    Contributions  Contribution Change  Education   \n",
       "1           401k    Contributions  Contribution Change  Education   \n",
       "2           401k    Contributions  Contribution Change  Education   \n",
       "3           401k    Contributions  Contribution Change  Education   \n",
       "4           401k    Contributions  Contribution Change  Education   \n",
       "\n",
       "          Words/Tokens     Type  Client_Id              Date  \\\n",
       "0                 able  Unigram       1881  2022-08-03 17:21   \n",
       "1         able  assist   Bigram       1881  2022-08-03 17:21   \n",
       "2              account  Unigram       1881  2022-08-03 17:21   \n",
       "3         account  get   Bigram       1881  2022-08-03 17:21   \n",
       "4  account  get  error  Trigram       1881  2022-08-03 17:21   \n",
       "\n",
       "   Overall_Count_By_Type  Normalized_Count  Count  max_score           keyword  \n",
       "0                12453.0          0.000080    1.0   0.465185            course  \n",
       "1                12407.0          0.000081    1.0   0.343863  request feedback  \n",
       "2                12453.0          0.000080    1.0   0.651683   account balance  \n",
       "3                12407.0          0.000081    1.0   0.507701   account balance  \n",
       "4                12361.0          0.000081    1.0   0.470523   account balance  "
      ]
     },
     "execution_count": 7,
     "metadata": {},
     "output_type": "execute_result"
    }
   ],
   "source": [
    "df2.head(5)"
   ]
  },
  {
   "cell_type": "code",
   "execution_count": null,
   "id": "43fe673e-b1a5-4a6f-8947-c8683a0e5f02",
   "metadata": {},
   "outputs": [],
   "source": [
    "df2.describe()"
   ]
  },
  {
   "cell_type": "code",
   "execution_count": 8,
   "id": "a30943d3-1784-4522-b571-77ac4f1e3675",
   "metadata": {
    "tags": []
   },
   "outputs": [
    {
     "data": {
      "text/plain": [
       "(18032116, 13)"
      ]
     },
     "execution_count": 8,
     "metadata": {},
     "output_type": "execute_result"
    }
   ],
   "source": [
    "df2.shape"
   ]
  },
  {
   "cell_type": "code",
   "execution_count": 75,
   "id": "63dcc640-ac73-41d0-a39c-a289505e905c",
   "metadata": {
    "tags": []
   },
   "outputs": [],
   "source": [
    "df3 = df2.loc[df2['Type'].isin(['Bigram','Trigram'])]"
   ]
  },
  {
   "cell_type": "code",
   "execution_count": 76,
   "id": "b9cb1ebe-43d0-457c-b0e0-cf921307d3a1",
   "metadata": {
    "tags": []
   },
   "outputs": [
    {
     "data": {
      "text/plain": [
       "(14666594, 13)"
      ]
     },
     "execution_count": 76,
     "metadata": {},
     "output_type": "execute_result"
    }
   ],
   "source": [
    "df3.shape"
   ]
  },
  {
   "cell_type": "code",
   "execution_count": 76,
   "id": "e3b7d0df-4b7a-4c60-a59a-58f421a084a0",
   "metadata": {
    "tags": []
   },
   "outputs": [
    {
     "data": {
      "text/plain": [
       "(14666594, 13)"
      ]
     },
     "execution_count": 76,
     "metadata": {},
     "output_type": "execute_result"
    }
   ],
   "source": [
    "df3.shape"
   ]
  },
  {
   "cell_type": "code",
   "execution_count": null,
   "id": "dff2ea7a-6ceb-4c09-90d5-ab9dccb7961c",
   "metadata": {},
   "outputs": [],
   "source": []
  },
  {
   "cell_type": "code",
   "execution_count": 77,
   "id": "6919649e-b519-4df6-bd81-32eb8a3e62f3",
   "metadata": {},
   "outputs": [],
   "source": [
    "def final_threshold(value):\n",
    "    rslt_df = df3[(df3['max_score'] >=int(value))].sort_values(by=\"Normalized_Count\", ascending=False)\n",
    "    final_dict = dict(zip(rslt_df['Words/Tokens'], rslt_df['Normalized_Count']))\n",
    "    return final_dict"
   ]
  },
  {
   "cell_type": "code",
   "execution_count": 78,
   "id": "ae98a942-bded-4e07-b9f5-cc3ee1c9cc88",
   "metadata": {},
   "outputs": [],
   "source": [
    "# pip install WordCloud"
   ]
  },
  {
   "cell_type": "code",
   "execution_count": 79,
   "id": "c72fc4ec-d764-4eff-a12a-17a4876ac3e7",
   "metadata": {},
   "outputs": [],
   "source": [
    "from wordcloud import WordCloud\n",
    "import matplotlib.pyplot as plt"
   ]
  },
  {
   "cell_type": "code",
   "execution_count": 80,
   "id": "21131108-8d98-4e00-b376-0b2e51cd931f",
   "metadata": {},
   "outputs": [],
   "source": [
    "def plot_wordcloud(thresh):\n",
    "    wordcloud = WordCloud(width =1000, height=900)\n",
    "    wordcloud.generate_from_frequencies(frequencies= final_threshold(thresh))\n",
    "    plt.figure(figsize=(10,9))\n",
    "    plt.imshow(wordcloud)\n",
    "    plt.axis(\"off\")\n",
    "    plt.show()"
   ]
  },
  {
   "cell_type": "code",
   "execution_count": 87,
   "id": "16f33065-3387-4ef7-96fc-55f5d8bce379",
   "metadata": {},
   "outputs": [
    {
     "data": {
      "image/png": "[encoded data removed]",
      "text/plain": [
       "<Figure size 1000x900 with 1 Axes>"
      ]
     },
     "metadata": {},
     "output_type": "display_data"
    }
   ],
   "source": [
    "plot_wordcloud(0.2)"
   ]
  },
  {
   "cell_type": "code",
   "execution_count": 83,
   "id": "e7de2425-e4cb-4fb8-8d01-8a76ee6620c3",
   "metadata": {},
   "outputs": [],
   "source": [
    "# plot_wordcloud(0.6)"
   ]
  },
  {
   "cell_type": "code",
   "execution_count": 84,
   "id": "b21d9669-34b8-415c-8949-b13bcc9473b2",
   "metadata": {},
   "outputs": [],
   "source": [
    "# plot_wordcloud(0.7)"
   ]
  },
  {
   "cell_type": "code",
   "execution_count": 85,
   "id": "93cc5505-ea12-4c57-a897-ddb99ff5feb5",
   "metadata": {},
   "outputs": [],
   "source": [
    "# plot_wordcloud(0.8)"
   ]
  },
  {
   "cell_type": "code",
   "execution_count": 86,
   "id": "a4618fe4-9da1-403f-abcc-db11ad7afad2",
   "metadata": {},
   "outputs": [],
   "source": [
    "# plot_wordcloud(0.9)"
   ]
  },
  {
   "cell_type": "code",
   "execution_count": 74,
   "id": "d84bfdf6-5303-4b4e-aea4-735e75117286",
   "metadata": {},
   "outputs": [],
   "source": [
    "# Wc_updated_df=Wc_updated_df[(Wc_updated_df['max_score'] <=0.5)]"
   ]
  },
  {
   "cell_type": "code",
   "execution_count": 75,
   "id": "0fedff7b-044c-49f6-a91b-e03152c457f1",
   "metadata": {},
   "outputs": [
    {
     "data": {
      "text/plain": [
       "(1, 13)"
      ]
     },
     "execution_count": 75,
     "metadata": {},
     "output_type": "execute_result"
    }
   ],
   "source": [
    "Wc_updated_df.shape"
   ]
  },
  {
   "cell_type": "code",
   "execution_count": 53,
   "id": "2257fa86-6439-4ea0-8332-b87dfdc773a6",
   "metadata": {},
   "outputs": [],
   "source": [
    "Wc_updated_df.to_parquet(\"s3://adl-core-dev-sagemaker-studio/external/Kartik/Bigrams_Trigrams0823.parquet\", index=False)"
   ]
  },
  {
   "cell_type": "code",
   "execution_count": 62,
   "id": "d3348c9c-dc42-4d03-9c14-3de6d13794e4",
   "metadata": {},
   "outputs": [],
   "source": [
    "# Wc_updated_df.to_excel(\"Similarity_value_Wordcloud_full_volume_data.xlsx\", index=False)"
   ]
  },
  {
   "cell_type": "code",
   "execution_count": 54,
   "id": "d167753a-73ef-4b18-82a1-76949bf95fe3",
   "metadata": {},
   "outputs": [],
   "source": [
    "df2 = pd.read_parquet(\"s3://adl-core-dev-sagemaker-studio/external/Kartik/Bigrams_Trigrams0823.parquet\")"
   ]
  },
  {
   "cell_type": "code",
   "execution_count": 56,
   "id": "0b33e284-a14b-4512-857b-2939073f03b4",
   "metadata": {},
   "outputs": [
    {
     "data": {
      "text/plain": [
       "(18032116, 13)"
      ]
     },
     "execution_count": 56,
     "metadata": {},
     "output_type": "execute_result"
    }
   ],
   "source": [
    "df2.shape"
   ]
  },
  {
   "cell_type": "code",
   "execution_count": 59,
   "id": "30993cb2-8d8d-4f2e-842c-a5e8d2b8c421",
   "metadata": {
    "tags": []
   },
   "outputs": [
    {
     "data": {
      "text/html": [
       "<div>\n",
       "<style scoped>\n",
       "    .dataframe tbody tr th:only-of-type {\n",
       "        vertical-align: middle;\n",
       "    }\n",
       "\n",
       "    .dataframe tbody tr th {\n",
       "        vertical-align: top;\n",
       "    }\n",
       "\n",
       "    .dataframe thead th {\n",
       "        text-align: right;\n",
       "    }\n",
       "</style>\n",
       "<table border=\"1\" class=\"dataframe\">\n",
       "  <thead>\n",
       "    <tr style=\"text-align: right;\">\n",
       "      <th></th>\n",
       "      <th>Primary_Driver</th>\n",
       "      <th>Secondary_Driver</th>\n",
       "      <th>Tertiary_Driver</th>\n",
       "      <th>Root_Cause</th>\n",
       "      <th>Words/Tokens</th>\n",
       "      <th>Type</th>\n",
       "      <th>Client_Id</th>\n",
       "      <th>Date</th>\n",
       "      <th>Overall_Count_By_Type</th>\n",
       "      <th>Normalized_Count</th>\n",
       "      <th>Count</th>\n",
       "      <th>max_score</th>\n",
       "      <th>keyword</th>\n",
       "    </tr>\n",
       "  </thead>\n",
       "  <tbody>\n",
       "    <tr>\n",
       "      <th>0</th>\n",
       "      <td>401k</td>\n",
       "      <td>Contributions</td>\n",
       "      <td>Contribution Change</td>\n",
       "      <td>Education</td>\n",
       "      <td>able</td>\n",
       "      <td>Unigram</td>\n",
       "      <td>1881</td>\n",
       "      <td>2022-08-03 17:21</td>\n",
       "      <td>12453.0</td>\n",
       "      <td>0.000080</td>\n",
       "      <td>1.0</td>\n",
       "      <td>0.465185</td>\n",
       "      <td>course</td>\n",
       "    </tr>\n",
       "    <tr>\n",
       "      <th>1</th>\n",
       "      <td>401k</td>\n",
       "      <td>Contributions</td>\n",
       "      <td>Contribution Change</td>\n",
       "      <td>Education</td>\n",
       "      <td>able  assist</td>\n",
       "      <td>Bigram</td>\n",
       "      <td>1881</td>\n",
       "      <td>2022-08-03 17:21</td>\n",
       "      <td>12407.0</td>\n",
       "      <td>0.000081</td>\n",
       "      <td>1.0</td>\n",
       "      <td>0.343863</td>\n",
       "      <td>request feedback</td>\n",
       "    </tr>\n",
       "    <tr>\n",
       "      <th>2</th>\n",
       "      <td>401k</td>\n",
       "      <td>Contributions</td>\n",
       "      <td>Contribution Change</td>\n",
       "      <td>Education</td>\n",
       "      <td>account</td>\n",
       "      <td>Unigram</td>\n",
       "      <td>1881</td>\n",
       "      <td>2022-08-03 17:21</td>\n",
       "      <td>12453.0</td>\n",
       "      <td>0.000080</td>\n",
       "      <td>1.0</td>\n",
       "      <td>0.651683</td>\n",
       "      <td>account balance</td>\n",
       "    </tr>\n",
       "    <tr>\n",
       "      <th>3</th>\n",
       "      <td>401k</td>\n",
       "      <td>Contributions</td>\n",
       "      <td>Contribution Change</td>\n",
       "      <td>Education</td>\n",
       "      <td>account  get</td>\n",
       "      <td>Bigram</td>\n",
       "      <td>1881</td>\n",
       "      <td>2022-08-03 17:21</td>\n",
       "      <td>12407.0</td>\n",
       "      <td>0.000081</td>\n",
       "      <td>1.0</td>\n",
       "      <td>0.507701</td>\n",
       "      <td>account balance</td>\n",
       "    </tr>\n",
       "    <tr>\n",
       "      <th>4</th>\n",
       "      <td>401k</td>\n",
       "      <td>Contributions</td>\n",
       "      <td>Contribution Change</td>\n",
       "      <td>Education</td>\n",
       "      <td>account  get  error</td>\n",
       "      <td>Trigram</td>\n",
       "      <td>1881</td>\n",
       "      <td>2022-08-03 17:21</td>\n",
       "      <td>12361.0</td>\n",
       "      <td>0.000081</td>\n",
       "      <td>1.0</td>\n",
       "      <td>0.470523</td>\n",
       "      <td>account balance</td>\n",
       "    </tr>\n",
       "  </tbody>\n",
       "</table>\n",
       "</div>"
      ],
      "text/plain": [
       "  Primary_Driver Secondary_Driver      Tertiary_Driver Root_Cause  \\\n",
       "0           401k    Contributions  Contribution Change  Education   \n",
       "1           401k    Contributions  Contribution Change  Education   \n",
       "2           401k    Contributions  Contribution Change  Education   \n",
       "3           401k    Contributions  Contribution Change  Education   \n",
       "4           401k    Contributions  Contribution Change  Education   \n",
       "\n",
       "          Words/Tokens     Type  Client_Id              Date  \\\n",
       "0                 able  Unigram       1881  2022-08-03 17:21   \n",
       "1         able  assist   Bigram       1881  2022-08-03 17:21   \n",
       "2              account  Unigram       1881  2022-08-03 17:21   \n",
       "3         account  get   Bigram       1881  2022-08-03 17:21   \n",
       "4  account  get  error  Trigram       1881  2022-08-03 17:21   \n",
       "\n",
       "   Overall_Count_By_Type  Normalized_Count  Count  max_score           keyword  \n",
       "0                12453.0          0.000080    1.0   0.465185            course  \n",
       "1                12407.0          0.000081    1.0   0.343863  request feedback  \n",
       "2                12453.0          0.000080    1.0   0.651683   account balance  \n",
       "3                12407.0          0.000081    1.0   0.507701   account balance  \n",
       "4                12361.0          0.000081    1.0   0.470523   account balance  "
      ]
     },
     "execution_count": 59,
     "metadata": {},
     "output_type": "execute_result"
    }
   ],
   "source": [
    "df2.head(5)"
   ]
  },
  {
   "cell_type": "code",
   "execution_count": null,
   "id": "46d3cebd-b818-426b-b6f7-4846ea499894",
   "metadata": {},
   "outputs": [],
   "source": []
  },
  {
   "cell_type": "code",
   "execution_count": null,
   "id": "9223f81a-2c07-465b-95a8-e445018ac95a",
   "metadata": {},
   "outputs": [],
   "source": []
  },
  {
   "cell_type": "code",
   "execution_count": 69,
   "id": "c32638e9-bbe4-40a9-b601-e628c5afa885",
   "metadata": {},
   "outputs": [],
   "source": [
    "Wc_updated_df.to_csv(\"s3://adl-core-dev-sagemaker-studio/external/Kartik/WordCloud_Data_Sep22_With_Bigrams_Trigrams.csv\", index=False)"
   ]
  },
  {
   "cell_type": "code",
   "execution_count": null,
   "id": "ea8a91a5-9906-4c9d-a017-1d03f11d0eaf",
   "metadata": {},
   "outputs": [],
   "source": []
  }
 ],
 "metadata": {
  "availableInstances": [
   {
    "_defaultOrder": 0,
    "_isFastLaunch": true,
    "category": "General purpose",
    "gpuNum": 0,
    "hideHardwareSpecs": false,
    "memoryGiB": 4,
    "name": "ml.t3.medium",
    "vcpuNum": 2
   },
   {
    "_defaultOrder": 1,
    "_isFastLaunch": false,
    "category": "General purpose",
    "gpuNum": 0,
    "hideHardwareSpecs": false,
    "memoryGiB": 8,
    "name": "ml.t3.large",
    "vcpuNum": 2
   },
   {
    "_defaultOrder": 2,
    "_isFastLaunch": false,
    "category": "General purpose",
    "gpuNum": 0,
    "hideHardwareSpecs": false,
    "memoryGiB": 16,
    "name": "ml.t3.xlarge",
    "vcpuNum": 4
   },
   {
    "_defaultOrder": 3,
    "_isFastLaunch": false,
    "category": "General purpose",
    "gpuNum": 0,
    "hideHardwareSpecs": false,
    "memoryGiB": 32,
    "name": "ml.t3.2xlarge",
    "vcpuNum": 8
   },
   {
    "_defaultOrder": 4,
    "_isFastLaunch": true,
    "category": "General purpose",
    "gpuNum": 0,
    "hideHardwareSpecs": false,
    "memoryGiB": 8,
    "name": "ml.m5.large",
    "vcpuNum": 2
   },
   {
    "_defaultOrder": 5,
    "_isFastLaunch": false,
    "category": "General purpose",
    "gpuNum": 0,
    "hideHardwareSpecs": false,
    "memoryGiB": 16,
    "name": "ml.m5.xlarge",
    "vcpuNum": 4
   },
   {
    "_defaultOrder": 6,
    "_isFastLaunch": false,
    "category": "General purpose",
    "gpuNum": 0,
    "hideHardwareSpecs": false,
    "memoryGiB": 32,
    "name": "ml.m5.2xlarge",
    "vcpuNum": 8
   },
   {
    "_defaultOrder": 7,
    "_isFastLaunch": false,
    "category": "General purpose",
    "gpuNum": 0,
    "hideHardwareSpecs": false,
    "memoryGiB": 64,
    "name": "ml.m5.4xlarge",
    "vcpuNum": 16
   },
   {
    "_defaultOrder": 8,
    "_isFastLaunch": false,
    "category": "General purpose",
    "gpuNum": 0,
    "hideHardwareSpecs": false,
    "memoryGiB": 128,
    "name": "ml.m5.8xlarge",
    "vcpuNum": 32
   },
   {
    "_defaultOrder": 9,
    "_isFastLaunch": false,
    "category": "General purpose",
    "gpuNum": 0,
    "hideHardwareSpecs": false,
    "memoryGiB": 192,
    "name": "ml.m5.12xlarge",
    "vcpuNum": 48
   },
   {
    "_defaultOrder": 10,
    "_isFastLaunch": false,
    "category": "General purpose",
    "gpuNum": 0,
    "hideHardwareSpecs": false,
    "memoryGiB": 256,
    "name": "ml.m5.16xlarge",
    "vcpuNum": 64
   },
   {
    "_defaultOrder": 11,
    "_isFastLaunch": false,
    "category": "General purpose",
    "gpuNum": 0,
    "hideHardwareSpecs": false,
    "memoryGiB": 384,
    "name": "ml.m5.24xlarge",
    "vcpuNum": 96
   },
   {
    "_defaultOrder": 12,
    "_isFastLaunch": false,
    "category": "General purpose",
    "gpuNum": 0,
    "hideHardwareSpecs": false,
    "memoryGiB": 8,
    "name": "ml.m5d.large",
    "vcpuNum": 2
   },
   {
    "_defaultOrder": 13,
    "_isFastLaunch": false,
    "category": "General purpose",
    "gpuNum": 0,
    "hideHardwareSpecs": false,
    "memoryGiB": 16,
    "name": "ml.m5d.xlarge",
    "vcpuNum": 4
   },
   {
    "_defaultOrder": 14,
    "_isFastLaunch": false,
    "category": "General purpose",
    "gpuNum": 0,
    "hideHardwareSpecs": false,
    "memoryGiB": 32,
    "name": "ml.m5d.2xlarge",
    "vcpuNum": 8
   },
   {
    "_defaultOrder": 15,
    "_isFastLaunch": false,
    "category": "General purpose",
    "gpuNum": 0,
    "hideHardwareSpecs": false,
    "memoryGiB": 64,
    "name": "ml.m5d.4xlarge",
    "vcpuNum": 16
   },
   {
    "_defaultOrder": 16,
    "_isFastLaunch": false,
    "category": "General purpose",
    "gpuNum": 0,
    "hideHardwareSpecs": false,
    "memoryGiB": 128,
    "name": "ml.m5d.8xlarge",
    "vcpuNum": 32
   },
   {
    "_defaultOrder": 17,
    "_isFastLaunch": false,
    "category": "General purpose",
    "gpuNum": 0,
    "hideHardwareSpecs": false,
    "memoryGiB": 192,
    "name": "ml.m5d.12xlarge",
    "vcpuNum": 48
   },
   {
    "_defaultOrder": 18,
    "_isFastLaunch": false,
    "category": "General purpose",
    "gpuNum": 0,
    "hideHardwareSpecs": false,
    "memoryGiB": 256,
    "name": "ml.m5d.16xlarge",
    "vcpuNum": 64
   },
   {
    "_defaultOrder": 19,
    "_isFastLaunch": false,
    "category": "General purpose",
    "gpuNum": 0,
    "hideHardwareSpecs": false,
    "memoryGiB": 384,
    "name": "ml.m5d.24xlarge",
    "vcpuNum": 96
   },
   {
    "_defaultOrder": 20,
    "_isFastLaunch": false,
    "category": "General purpose",
    "gpuNum": 0,
    "hideHardwareSpecs": true,
    "memoryGiB": 0,
    "name": "ml.geospatial.interactive",
    "supportedImageNames": [
     "sagemaker-geospatial-v1-0"
    ],
    "vcpuNum": 0
   },
   {
    "_defaultOrder": 21,
    "_isFastLaunch": true,
    "category": "Compute optimized",
    "gpuNum": 0,
    "hideHardwareSpecs": false,
    "memoryGiB": 4,
    "name": "ml.c5.large",
    "vcpuNum": 2
   },
   {
    "_defaultOrder": 22,
    "_isFastLaunch": false,
    "category": "Compute optimized",
    "gpuNum": 0,
    "hideHardwareSpecs": false,
    "memoryGiB": 8,
    "name": "ml.c5.xlarge",
    "vcpuNum": 4
   },
   {
    "_defaultOrder": 23,
    "_isFastLaunch": false,
    "category": "Compute optimized",
    "gpuNum": 0,
    "hideHardwareSpecs": false,
    "memoryGiB": 16,
    "name": "ml.c5.2xlarge",
    "vcpuNum": 8
   },
   {
    "_defaultOrder": 24,
    "_isFastLaunch": false,
    "category": "Compute optimized",
    "gpuNum": 0,
    "hideHardwareSpecs": false,
    "memoryGiB": 32,
    "name": "ml.c5.4xlarge",
    "vcpuNum": 16
   },
   {
    "_defaultOrder": 25,
    "_isFastLaunch": false,
    "category": "Compute optimized",
    "gpuNum": 0,
    "hideHardwareSpecs": false,
    "memoryGiB": 72,
    "name": "ml.c5.9xlarge",
    "vcpuNum": 36
   },
   {
    "_defaultOrder": 26,
    "_isFastLaunch": false,
    "category": "Compute optimized",
    "gpuNum": 0,
    "hideHardwareSpecs": false,
    "memoryGiB": 96,
    "name": "ml.c5.12xlarge",
    "vcpuNum": 48
   },
   {
    "_defaultOrder": 27,
    "_isFastLaunch": false,
    "category": "Compute optimized",
    "gpuNum": 0,
    "hideHardwareSpecs": false,
    "memoryGiB": 144,
    "name": "ml.c5.18xlarge",
    "vcpuNum": 72
   },
   {
    "_defaultOrder": 28,
    "_isFastLaunch": false,
    "category": "Compute optimized",
    "gpuNum": 0,
    "hideHardwareSpecs": false,
    "memoryGiB": 192,
    "name": "ml.c5.24xlarge",
    "vcpuNum": 96
   },
   {
    "_defaultOrder": 29,
    "_isFastLaunch": true,
    "category": "Accelerated computing",
    "gpuNum": 1,
    "hideHardwareSpecs": false,
    "memoryGiB": 16,
    "name": "ml.g4dn.xlarge",
    "vcpuNum": 4
   },
   {
    "_defaultOrder": 30,
    "_isFastLaunch": false,
    "category": "Accelerated computing",
    "gpuNum": 1,
    "hideHardwareSpecs": false,
    "memoryGiB": 32,
    "name": "ml.g4dn.2xlarge",
    "vcpuNum": 8
   },
   {
    "_defaultOrder": 31,
    "_isFastLaunch": false,
    "category": "Accelerated computing",
    "gpuNum": 1,
    "hideHardwareSpecs": false,
    "memoryGiB": 64,
    "name": "ml.g4dn.4xlarge",
    "vcpuNum": 16
   },
   {
    "_defaultOrder": 32,
    "_isFastLaunch": false,
    "category": "Accelerated computing",
    "gpuNum": 1,
    "hideHardwareSpecs": false,
    "memoryGiB": 128,
    "name": "ml.g4dn.8xlarge",
    "vcpuNum": 32
   },
   {
    "_defaultOrder": 33,
    "_isFastLaunch": false,
    "category": "Accelerated computing",
    "gpuNum": 4,
    "hideHardwareSpecs": false,
    "memoryGiB": 192,
    "name": "ml.g4dn.12xlarge",
    "vcpuNum": 48
   },
   {
    "_defaultOrder": 34,
    "_isFastLaunch": false,
    "category": "Accelerated computing",
    "gpuNum": 1,
    "hideHardwareSpecs": false,
    "memoryGiB": 256,
    "name": "ml.g4dn.16xlarge",
    "vcpuNum": 64
   },
   {
    "_defaultOrder": 35,
    "_isFastLaunch": false,
    "category": "Accelerated computing",
    "gpuNum": 1,
    "hideHardwareSpecs": false,
    "memoryGiB": 61,
    "name": "ml.p3.2xlarge",
    "vcpuNum": 8
   },
   {
    "_defaultOrder": 36,
    "_isFastLaunch": false,
    "category": "Accelerated computing",
    "gpuNum": 4,
    "hideHardwareSpecs": false,
    "memoryGiB": 244,
    "name": "ml.p3.8xlarge",
    "vcpuNum": 32
   },
   {
    "_defaultOrder": 37,
    "_isFastLaunch": false,
    "category": "Accelerated computing",
    "gpuNum": 8,
    "hideHardwareSpecs": false,
    "memoryGiB": 488,
    "name": "ml.p3.16xlarge",
    "vcpuNum": 64
   },
   {
    "_defaultOrder": 38,
    "_isFastLaunch": false,
    "category": "Accelerated computing",
    "gpuNum": 8,
    "hideHardwareSpecs": false,
    "memoryGiB": 768,
    "name": "ml.p3dn.24xlarge",
    "vcpuNum": 96
   },
   {
    "_defaultOrder": 39,
    "_isFastLaunch": false,
    "category": "Memory Optimized",
    "gpuNum": 0,
    "hideHardwareSpecs": false,
    "memoryGiB": 16,
    "name": "ml.r5.large",
    "vcpuNum": 2
   },
   {
    "_defaultOrder": 40,
    "_isFastLaunch": false,
    "category": "Memory Optimized",
    "gpuNum": 0,
    "hideHardwareSpecs": false,
    "memoryGiB": 32,
    "name": "ml.r5.xlarge",
    "vcpuNum": 4
   },
   {
    "_defaultOrder": 41,
    "_isFastLaunch": false,
    "category": "Memory Optimized",
    "gpuNum": 0,
    "hideHardwareSpecs": false,
    "memoryGiB": 64,
    "name": "ml.r5.2xlarge",
    "vcpuNum": 8
   },
   {
    "_defaultOrder": 42,
    "_isFastLaunch": false,
    "category": "Memory Optimized",
    "gpuNum": 0,
    "hideHardwareSpecs": false,
    "memoryGiB": 128,
    "name": "ml.r5.4xlarge",
    "vcpuNum": 16
   },
   {
    "_defaultOrder": 43,
    "_isFastLaunch": false,
    "category": "Memory Optimized",
    "gpuNum": 0,
    "hideHardwareSpecs": false,
    "memoryGiB": 256,
    "name": "ml.r5.8xlarge",
    "vcpuNum": 32
   },
   {
    "_defaultOrder": 44,
    "_isFastLaunch": false,
    "category": "Memory Optimized",
    "gpuNum": 0,
    "hideHardwareSpecs": false,
    "memoryGiB": 384,
    "name": "ml.r5.12xlarge",
    "vcpuNum": 48
   },
   {
    "_defaultOrder": 45,
    "_isFastLaunch": false,
    "category": "Memory Optimized",
    "gpuNum": 0,
    "hideHardwareSpecs": false,
    "memoryGiB": 512,
    "name": "ml.r5.16xlarge",
    "vcpuNum": 64
   },
   {
    "_defaultOrder": 46,
    "_isFastLaunch": false,
    "category": "Memory Optimized",
    "gpuNum": 0,
    "hideHardwareSpecs": false,
    "memoryGiB": 768,
    "name": "ml.r5.24xlarge",
    "vcpuNum": 96
   },
   {
    "_defaultOrder": 47,
    "_isFastLaunch": false,
    "category": "Accelerated computing",
    "gpuNum": 1,
    "hideHardwareSpecs": false,
    "memoryGiB": 16,
    "name": "ml.g5.xlarge",
    "vcpuNum": 4
   },
   {
    "_defaultOrder": 48,
    "_isFastLaunch": false,
    "category": "Accelerated computing",
    "gpuNum": 1,
    "hideHardwareSpecs": false,
    "memoryGiB": 32,
    "name": "ml.g5.2xlarge",
    "vcpuNum": 8
   },
   {
    "_defaultOrder": 49,
    "_isFastLaunch": false,
    "category": "Accelerated computing",
    "gpuNum": 1,
    "hideHardwareSpecs": false,
    "memoryGiB": 64,
    "name": "ml.g5.4xlarge",
    "vcpuNum": 16
   },
   {
    "_defaultOrder": 50,
    "_isFastLaunch": false,
    "category": "Accelerated computing",
    "gpuNum": 1,
    "hideHardwareSpecs": false,
    "memoryGiB": 128,
    "name": "ml.g5.8xlarge",
    "vcpuNum": 32
   },
   {
    "_defaultOrder": 51,
    "_isFastLaunch": false,
    "category": "Accelerated computing",
    "gpuNum": 1,
    "hideHardwareSpecs": false,
    "memoryGiB": 256,
    "name": "ml.g5.16xlarge",
    "vcpuNum": 64
   },
   {
    "_defaultOrder": 52,
    "_isFastLaunch": false,
    "category": "Accelerated computing",
    "gpuNum": 4,
    "hideHardwareSpecs": false,
    "memoryGiB": 192,
    "name": "ml.g5.12xlarge",
    "vcpuNum": 48
   },
   {
    "_defaultOrder": 53,
    "_isFastLaunch": false,
    "category": "Accelerated computing",
    "gpuNum": 4,
    "hideHardwareSpecs": false,
    "memoryGiB": 384,
    "name": "ml.g5.24xlarge",
    "vcpuNum": 96
   },
   {
    "_defaultOrder": 54,
    "_isFastLaunch": false,
    "category": "Accelerated computing",
    "gpuNum": 8,
    "hideHardwareSpecs": false,
    "memoryGiB": 768,
    "name": "ml.g5.48xlarge",
    "vcpuNum": 192
   },
   {
    "_defaultOrder": 55,
    "_isFastLaunch": false,
    "category": "Accelerated computing",
    "gpuNum": 8,
    "hideHardwareSpecs": false,
    "memoryGiB": 1152,
    "name": "ml.p4d.24xlarge",
    "vcpuNum": 96
   },
   {
    "_defaultOrder": 56,
    "_isFastLaunch": false,
    "category": "Accelerated computing",
    "gpuNum": 8,
    "hideHardwareSpecs": false,
    "memoryGiB": 1152,
    "name": "ml.p4de.24xlarge",
    "vcpuNum": 96
   }
  ],
  "instance_type": "ml.t3.medium",
  "kernelspec": {
   "display_name": "Python 3 (Data Science)",
   "language": "python",
   "name": "python3__SAGEMAKER_INTERNAL__arn:aws:sagemaker:us-east-1:081325390199:image/datascience-1.0"
  },
  "language_info": {
   "codemirror_mode": {
    "name": "ipython",
    "version": 3
   },
   "file_extension": ".py",
   "mimetype": "text/x-python",
   "name": "python",
   "nbconvert_exporter": "python",
   "pygments_lexer": "ipython3",
   "version": "3.7.10"
  }
 },
 "nbformat": 4,
 "nbformat_minor": 5
}
