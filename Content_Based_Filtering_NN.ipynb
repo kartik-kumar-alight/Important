{
 "cells": [
  {
   "cell_type": "code",
   "execution_count": 2,
   "id": "2a107f97-b7a3-43f2-84e2-9ebcfe7950fe",
   "metadata": {
    "tags": []
   },
   "outputs": [
    {
     "name": "stderr",
     "output_type": "stream",
     "text": [
      "2023-08-16 08:39:03.872609: I tensorflow/core/platform/cpu_feature_guard.cc:193] This TensorFlow binary is optimized with oneAPI Deep Neural Network Library (oneDNN) to use the following CPU instructions in performance-critical operations:  AVX512F AVX512_VNNI\n",
      "To enable them in other operations, rebuild TensorFlow with the appropriate compiler flags.\n",
      "2023-08-16 08:39:04.022148: W tensorflow/core/profiler/internal/smprofiler_timeline.cc:460] Initializing the SageMaker Profiler.\n",
      "2023-08-16 08:39:04.022248: W tensorflow/core/profiler/internal/smprofiler_timeline.cc:105] SageMaker Profiler is not enabled. The timeline writer thread will not be started, future recorded events will be dropped.\n",
      "2023-08-16 08:39:04.022435: I tensorflow/core/util/util.cc:169] oneDNN custom operations are on. You may see slightly different numerical results due to floating-point round-off errors from different computation orders. To turn them off, set the environment variable `TF_ENABLE_ONEDNN_OPTS=0`.\n",
      "2023-08-16 08:39:04.060374: E tensorflow/stream_executor/cuda/cuda_blas.cc:2981] Unable to register cuBLAS factory: Attempting to register factory for plugin cuBLAS when one has already been registered\n",
      "2023-08-16 08:39:04.068959: W tensorflow/core/profiler/internal/smprofiler_timeline.cc:460] Initializing the SageMaker Profiler.\n"
     ]
    }
   ],
   "source": [
    "import numpy as np\n",
    "import numpy.ma as ma\n",
    "import pandas as pd\n",
    "import tensorflow as tf\n",
    "from tensorflow import keras\n",
    "from sklearn.preprocessing import StandardScaler, MinMaxScaler\n",
    "from sklearn.model_selection import train_test_split\n",
    "import tabulate\n",
    "#from recsysNN_utils import *\n",
    "pd.set_option(\"display.precision\", 1)"
   ]
  },
  {
   "cell_type": "markdown",
   "id": "3df0e93a-8c8d-4c98-a575-1359d05ec116",
   "metadata": {
    "tags": []
   },
   "source": [
    "## Content-based filtering with a neural network\n",
    "\n",
    "\n",
    "<figure>\n",
    "    <img src=\"RecSysNN.png\"   style=\"width:500px;height:280px;\" >\n",
    "</figure>"
   ]
  },
  {
   "cell_type": "markdown",
   "id": "409e954f-66f9-468d-8b21-54def7a291e4",
   "metadata": {
    "tags": []
   },
   "source": [
    "```python\n",
    "from numpy import genfromtxt\n",
    "\n",
    "offers_train_ = genfromtxt('Offers_Train_Data.csv', delimiter=',')[:,2:]\n",
    "user_train = genfromtxt('User_Train_Data.csv', delimiter=',')\n",
    "y_train_    = genfromtxt('Conversions_Label_Train_data.csv', delimiter=',')\n",
    "\n",
    "import pandas as pd\n",
    "user_df = pd.DataFrame(user_train)\n",
    "user_df[3] = user_df[3].fillna(\n",
    "    user_df[3].quantile(0.5)\n",
    ")\n",
    "user_train = user_df.values\n",
    "```"
   ]
  },
  {
   "cell_type": "code",
   "execution_count": 3,
   "id": "1f2f5311-aef2-4484-8b52-96e57a570505",
   "metadata": {
    "tags": []
   },
   "outputs": [],
   "source": [
    "#user_df.head()"
   ]
  },
  {
   "cell_type": "code",
   "execution_count": 4,
   "id": "455f0870-1f0a-4be1-b3c8-6e7840e1d52f",
   "metadata": {
    "tags": []
   },
   "outputs": [],
   "source": [
    "user_train_ = pd.read_csv(\"user_features.csv\")\n",
    "#user_train_.drop(\n",
    "   # user_train_.index[user_train_.segment_id.isin(\n",
    "       # ['ODellCaptivate_Livongo_Pre_Diabetes',\n",
    "         #'ODellFindaPCPER',\n",
    "         #'ODELL_OptimizeFinancialWellness_Older_highrisk'])], inplace=True)"
   ]
  },
  {
   "cell_type": "code",
   "execution_count": 5,
   "id": "ebb49683-8627-44f7-9070-ee19bc4b8ab8",
   "metadata": {
    "tags": []
   },
   "outputs": [
    {
     "data": {
      "text/plain": [
       "person_id                                     0\n",
       "client_id                                     0\n",
       "impression_flag                               0\n",
       "engagement_flag                               0\n",
       "segment_id                                    0\n",
       "eligibility_start_date                        0\n",
       "eligibility_end_date                          0\n",
       "conversion_id                            165702\n",
       "conversion_flag                               0\n",
       "conversion_description                   165745\n",
       "one_yr_lookup_date                            0\n",
       "num_unique_offers_engag_till_date             0\n",
       "num_engag_till_date                           0\n",
       "eligibility_year                              0\n",
       "total_engagements_cust                        0\n",
       "total_conversions_cust                        0\n",
       "total_impression_cust                         0\n",
       "unique_segments_engaged_cust                  0\n",
       "avg_engagements_per_day_cust              52203\n",
       "avg_engagements_per_conversion                0\n",
       "avg_engagement_to_conversion_time        185097\n",
       "engagement_rate                               0\n",
       "age                                           0\n",
       "base_pay_regular_expectedannualsalary         0\n",
       "ST_AA                                         0\n",
       "ST_AB                                         0\n",
       "ST_AE                                         0\n",
       "ST_AK                                         0\n",
       "ST_AL                                         0\n",
       "ST_AP                                         0\n",
       "ST_AR                                         0\n",
       "ST_AS                                         0\n",
       "ST_AZ                                         0\n",
       "ST_BC                                         0\n",
       "ST_CA                                         0\n",
       "ST_CO                                         0\n",
       "ST_CT                                         0\n",
       "ST_DC                                         0\n",
       "ST_DE                                         0\n",
       "ST_FL                                         0\n",
       "ST_GA                                         0\n",
       "ST_GB                                         0\n",
       "ST_GU                                         0\n",
       "ST_HI                                         0\n",
       "ST_IA                                         0\n",
       "ST_ID                                         0\n",
       "ST_IL                                         0\n",
       "ST_IN                                         0\n",
       "ST_IT                                         0\n",
       "ST_KA                                         0\n",
       "ST_KS                                         0\n",
       "ST_KY                                         0\n",
       "ST_LA                                         0\n",
       "ST_MA                                         0\n",
       "ST_MB                                         0\n",
       "ST_MD                                         0\n",
       "ST_ME                                         0\n",
       "ST_MH                                         0\n",
       "ST_MI                                         0\n",
       "ST_MN                                         0\n",
       "ST_MO                                         0\n",
       "ST_MP                                         0\n",
       "ST_MS                                         0\n",
       "ST_MT                                         0\n",
       "ST_NB                                         0\n",
       "ST_NC                                         0\n",
       "ST_ND                                         0\n",
       "ST_NE                                         0\n",
       "ST_NH                                         0\n",
       "ST_NJ                                         0\n",
       "ST_NL                                         0\n",
       "ST_NM                                         0\n",
       "ST_NS                                         0\n",
       "ST_NT                                         0\n",
       "ST_NV                                         0\n",
       "ST_NY                                         0\n",
       "ST_OH                                         0\n",
       "ST_OK                                         0\n",
       "ST_ON                                         0\n",
       "ST_OR                                         0\n",
       "ST_OTHERS                                     0\n",
       "ST_PA                                         0\n",
       "ST_PE                                         0\n",
       "ST_PR                                         0\n",
       "ST_QA                                         0\n",
       "ST_QC                                         0\n",
       "ST_RI                                         0\n",
       "ST_SC                                         0\n",
       "ST_SD                                         0\n",
       "ST_SG                                         0\n",
       "ST_SK                                         0\n",
       "ST_TN                                         0\n",
       "ST_TX                                         0\n",
       "ST_UP                                         0\n",
       "ST_UT                                         0\n",
       "ST_VA                                         0\n",
       "ST_VI                                         0\n",
       "ST_VT                                         0\n",
       "ST_WA                                         0\n",
       "ST_WI                                         0\n",
       "ST_WV                                         0\n",
       "ST_WY                                         0\n",
       "ST_XX                                         0\n",
       "ST_ZZ                                         0\n",
       "G_F                                           0\n",
       "G_M                                           0\n",
       "G_UNKNOWN                                     0\n",
       "FPflag_DNM                                    0\n",
       "FPflag_FullTime                               0\n",
       "FPflag_PartTime                               0\n",
       "HC_DNM                                        0\n",
       "HC_No                                         0\n",
       "HC_Yes                                        0\n",
       "EMP_STATUS_Active                             0\n",
       "EMP_STATUS_COBRA_Dependent                    0\n",
       "EMP_STATUS_COBRA_Employee                     0\n",
       "EMP_STATUS_DNM                                0\n",
       "EMP_STATUS_Deceased_In_Service                0\n",
       "EMP_STATUS_Deceased_Outofservice              0\n",
       "EMP_STATUS_Disability_Long_Term               0\n",
       "EMP_STATUS_Disability_Short_Term              0\n",
       "EMP_STATUS_Enrolled_Beneficiary               0\n",
       "EMP_STATUS_Enrolled_QDRO                      0\n",
       "EMP_STATUS_LOA_Family_Medical                 0\n",
       "EMP_STATUS_LOA_Military                       0\n",
       "EMP_STATUS_LOA_No_Pay                         0\n",
       "EMP_STATUS_LOA_With_Pay                       0\n",
       "EMP_STATUS_LOA_Workers_Compensation           0\n",
       "EMP_STATUS_Layoff                             0\n",
       "EMP_STATUS_Retired                            0\n",
       "EMP_STATUS_Severance_Pay                      0\n",
       "EMP_STATUS_Termination                        0\n",
       "dtype: int64"
      ]
     },
     "execution_count": 5,
     "metadata": {},
     "output_type": "execute_result"
    }
   ],
   "source": [
    "pd.set_option('display.max_rows', None)\n",
    "user_train_.isnull().sum()"
   ]
  },
  {
   "cell_type": "code",
   "execution_count": 6,
   "id": "5fc893cc-0c1d-4b28-89a7-074772a0d903",
   "metadata": {
    "tags": []
   },
   "outputs": [
    {
     "data": {
      "text/plain": [
       "Index(['person_id', 'client_id', 'impression_flag', 'engagement_flag',\n",
       "       'segment_id', 'eligibility_start_date', 'eligibility_end_date',\n",
       "       'conversion_id', 'conversion_flag', 'conversion_description',\n",
       "       ...\n",
       "       'EMP_STATUS_Enrolled_QDRO', 'EMP_STATUS_LOA_Family_Medical',\n",
       "       'EMP_STATUS_LOA_Military', 'EMP_STATUS_LOA_No_Pay',\n",
       "       'EMP_STATUS_LOA_With_Pay', 'EMP_STATUS_LOA_Workers_Compensation',\n",
       "       'EMP_STATUS_Layoff', 'EMP_STATUS_Retired', 'EMP_STATUS_Severance_Pay',\n",
       "       'EMP_STATUS_Termination'],\n",
       "      dtype='object', length=132)"
      ]
     },
     "execution_count": 6,
     "metadata": {},
     "output_type": "execute_result"
    }
   ],
   "source": [
    "user_train_.columns"
   ]
  },
  {
   "cell_type": "code",
   "execution_count": 7,
   "id": "5728acb3-b882-4c1e-927c-6be05f5a5861",
   "metadata": {
    "tags": []
   },
   "outputs": [],
   "source": [
    "#user_train_['avg_engagements_per_day_cust'] = user_train_['avg_engagements_per_day_cust'].dropna()"
   ]
  },
  {
   "cell_type": "code",
   "execution_count": 8,
   "id": "881efb19-d655-411b-a191-4b085640b542",
   "metadata": {
    "tags": []
   },
   "outputs": [],
   "source": [
    "# (user_train_.isnull().sum().to_frame())"
   ]
  },
  {
   "cell_type": "code",
   "execution_count": 9,
   "id": "65e6031b-84c4-4e88-93c1-2d1ae50c6f3c",
   "metadata": {
    "tags": []
   },
   "outputs": [],
   "source": [
    "# user_train_.dropna()"
   ]
  },
  {
   "cell_type": "code",
   "execution_count": 10,
   "id": "b70fb755-5c51-43cc-9357-f06e3c4e2cf9",
   "metadata": {
    "tags": []
   },
   "outputs": [
    {
     "data": {
      "text/plain": [
       "(233495, 132)"
      ]
     },
     "execution_count": 10,
     "metadata": {},
     "output_type": "execute_result"
    }
   ],
   "source": [
    "user_train_.shape"
   ]
  },
  {
   "cell_type": "code",
   "execution_count": 11,
   "id": "c43768c1-9baa-48fc-bfab-f213d0aecd96",
   "metadata": {
    "tags": []
   },
   "outputs": [
    {
     "data": {
      "text/html": [
       "<div>\n",
       "<style scoped>\n",
       "    .dataframe tbody tr th:only-of-type {\n",
       "        vertical-align: middle;\n",
       "    }\n",
       "\n",
       "    .dataframe tbody tr th {\n",
       "        vertical-align: top;\n",
       "    }\n",
       "\n",
       "    .dataframe thead th {\n",
       "        text-align: right;\n",
       "    }\n",
       "</style>\n",
       "<table border=\"1\" class=\"dataframe\">\n",
       "  <thead>\n",
       "    <tr style=\"text-align: right;\">\n",
       "      <th></th>\n",
       "      <th>person_id</th>\n",
       "      <th>client_id</th>\n",
       "      <th>impression_flag</th>\n",
       "      <th>engagement_flag</th>\n",
       "      <th>segment_id</th>\n",
       "      <th>eligibility_start_date</th>\n",
       "      <th>eligibility_end_date</th>\n",
       "      <th>conversion_id</th>\n",
       "      <th>conversion_flag</th>\n",
       "      <th>conversion_description</th>\n",
       "      <th>...</th>\n",
       "      <th>EMP_STATUS_Enrolled_QDRO</th>\n",
       "      <th>EMP_STATUS_LOA_Family_Medical</th>\n",
       "      <th>EMP_STATUS_LOA_Military</th>\n",
       "      <th>EMP_STATUS_LOA_No_Pay</th>\n",
       "      <th>EMP_STATUS_LOA_With_Pay</th>\n",
       "      <th>EMP_STATUS_LOA_Workers_Compensation</th>\n",
       "      <th>EMP_STATUS_Layoff</th>\n",
       "      <th>EMP_STATUS_Retired</th>\n",
       "      <th>EMP_STATUS_Severance_Pay</th>\n",
       "      <th>EMP_STATUS_Termination</th>\n",
       "    </tr>\n",
       "  </thead>\n",
       "  <tbody>\n",
       "    <tr>\n",
       "      <th>0</th>\n",
       "      <td>10032.0</td>\n",
       "      <td>5977</td>\n",
       "      <td>1</td>\n",
       "      <td>1</td>\n",
       "      <td>ODellNewHireEnrl</td>\n",
       "      <td>2021-08-05 00:08:00</td>\n",
       "      <td>2021-08-11 00:00:00</td>\n",
       "      <td>CODellNewHireEnrl</td>\n",
       "      <td>1</td>\n",
       "      <td>Convert: Enroll in your Dell health and insura...</td>\n",
       "      <td>...</td>\n",
       "      <td>0</td>\n",
       "      <td>0</td>\n",
       "      <td>0</td>\n",
       "      <td>0</td>\n",
       "      <td>0</td>\n",
       "      <td>0</td>\n",
       "      <td>0</td>\n",
       "      <td>0</td>\n",
       "      <td>0</td>\n",
       "      <td>0</td>\n",
       "    </tr>\n",
       "  </tbody>\n",
       "</table>\n",
       "<p>1 rows × 132 columns</p>\n",
       "</div>"
      ],
      "text/plain": [
       "   person_id  client_id  impression_flag  engagement_flag        segment_id  \\\n",
       "0    10032.0       5977                1                1  ODellNewHireEnrl   \n",
       "\n",
       "  eligibility_start_date eligibility_end_date      conversion_id  \\\n",
       "0    2021-08-05 00:08:00  2021-08-11 00:00:00  CODellNewHireEnrl   \n",
       "\n",
       "   conversion_flag                             conversion_description  ...  \\\n",
       "0                1  Convert: Enroll in your Dell health and insura...  ...   \n",
       "\n",
       "  EMP_STATUS_Enrolled_QDRO  EMP_STATUS_LOA_Family_Medical  \\\n",
       "0                        0                              0   \n",
       "\n",
       "   EMP_STATUS_LOA_Military  EMP_STATUS_LOA_No_Pay  EMP_STATUS_LOA_With_Pay  \\\n",
       "0                        0                      0                        0   \n",
       "\n",
       "   EMP_STATUS_LOA_Workers_Compensation  EMP_STATUS_Layoff  EMP_STATUS_Retired  \\\n",
       "0                                    0                  0                   0   \n",
       "\n",
       "   EMP_STATUS_Severance_Pay  EMP_STATUS_Termination  \n",
       "0                         0                       0  \n",
       "\n",
       "[1 rows x 132 columns]"
      ]
     },
     "execution_count": 11,
     "metadata": {},
     "output_type": "execute_result"
    }
   ],
   "source": [
    "user_train_.head(1)"
   ]
  },
  {
   "cell_type": "code",
   "execution_count": 12,
   "id": "43bdd5d1-45f8-4619-a258-58b35eea9902",
   "metadata": {
    "tags": []
   },
   "outputs": [],
   "source": [
    "#np.sum((user_train_.values != user_train).astype(int))"
   ]
  },
  {
   "cell_type": "code",
   "execution_count": 13,
   "id": "94d19f19-c926-491b-961d-eaecc5822075",
   "metadata": {
    "tags": []
   },
   "outputs": [],
   "source": [
    "#user_train = user_train.sample(n=len(user_train)).reset_index(drop=True)\n",
    "\n",
    "#user_train.shape"
   ]
  },
  {
   "cell_type": "code",
   "execution_count": 14,
   "id": "c0e3b86d-02e9-45b1-84bb-ea477e87d866",
   "metadata": {
    "tags": []
   },
   "outputs": [],
   "source": [
    "# pip install awswrangler"
   ]
  },
  {
   "cell_type": "code",
   "execution_count": 15,
   "id": "538ba025-61f3-402f-b4c2-d63a5964a2ed",
   "metadata": {
    "tags": []
   },
   "outputs": [],
   "source": [
    "offers_train_ = pd.read_csv(\"offers_train_csv.csv\")"
   ]
  },
  {
   "cell_type": "code",
   "execution_count": 16,
   "id": "b423863d-62b1-4b7c-82a7-8b2050e4880c",
   "metadata": {
    "tags": []
   },
   "outputs": [
    {
     "data": {
      "text/html": [
       "<div>\n",
       "<style scoped>\n",
       "    .dataframe tbody tr th:only-of-type {\n",
       "        vertical-align: middle;\n",
       "    }\n",
       "\n",
       "    .dataframe tbody tr th {\n",
       "        vertical-align: top;\n",
       "    }\n",
       "\n",
       "    .dataframe thead th {\n",
       "        text-align: right;\n",
       "    }\n",
       "</style>\n",
       "<table border=\"1\" class=\"dataframe\">\n",
       "  <thead>\n",
       "    <tr style=\"text-align: right;\">\n",
       "      <th></th>\n",
       "      <th>segment_id</th>\n",
       "      <th>Description</th>\n",
       "      <th>Clinical_No</th>\n",
       "      <th>Clinical_Yes</th>\n",
       "      <th>Campaign_Access diabetes support</th>\n",
       "      <th>Campaign_Annual Enrollment</th>\n",
       "      <th>Campaign_Family Matters</th>\n",
       "      <th>Campaign_Find a PCP</th>\n",
       "      <th>Campaign_Get help for high spend</th>\n",
       "      <th>Campaign_Keep up with preventive care</th>\n",
       "      <th>...</th>\n",
       "      <th>Campaign_Use Benefits Wisely</th>\n",
       "      <th>Campaign_Welcome to Navigation</th>\n",
       "      <th>Offer_Group_Alight_Financial_Path,_Wealth_Essentials_+</th>\n",
       "      <th>Offer_Group_Annual_Enrollment</th>\n",
       "      <th>Offer_Group_Health_Custom</th>\n",
       "      <th>Offer_Group_Navigation</th>\n",
       "      <th>Offer_Group_New_Hire</th>\n",
       "      <th>avg_eligible_ppts_per_year</th>\n",
       "      <th>avg_ppts_engaged_per_year</th>\n",
       "      <th>unique_customers_engaged_seg</th>\n",
       "    </tr>\n",
       "  </thead>\n",
       "  <tbody>\n",
       "    <tr>\n",
       "      <th>0</th>\n",
       "      <td>ODellNewHireEnrl</td>\n",
       "      <td>New Hire - Enroll</td>\n",
       "      <td>1.0</td>\n",
       "      <td>0.0</td>\n",
       "      <td>0.0</td>\n",
       "      <td>0.0</td>\n",
       "      <td>0.0</td>\n",
       "      <td>0.0</td>\n",
       "      <td>0.0</td>\n",
       "      <td>0.0</td>\n",
       "      <td>...</td>\n",
       "      <td>0.0</td>\n",
       "      <td>0.0</td>\n",
       "      <td>0.0</td>\n",
       "      <td>0.0</td>\n",
       "      <td>0.0</td>\n",
       "      <td>0.0</td>\n",
       "      <td>1.0</td>\n",
       "      <td>164.0</td>\n",
       "      <td>163.7</td>\n",
       "      <td>586.0</td>\n",
       "    </tr>\n",
       "    <tr>\n",
       "      <th>1</th>\n",
       "      <td>ODellNewHireEnrl</td>\n",
       "      <td>New Hire - Enroll</td>\n",
       "      <td>1.0</td>\n",
       "      <td>0.0</td>\n",
       "      <td>0.0</td>\n",
       "      <td>0.0</td>\n",
       "      <td>0.0</td>\n",
       "      <td>0.0</td>\n",
       "      <td>0.0</td>\n",
       "      <td>0.0</td>\n",
       "      <td>...</td>\n",
       "      <td>0.0</td>\n",
       "      <td>0.0</td>\n",
       "      <td>0.0</td>\n",
       "      <td>0.0</td>\n",
       "      <td>0.0</td>\n",
       "      <td>0.0</td>\n",
       "      <td>1.0</td>\n",
       "      <td>164.0</td>\n",
       "      <td>163.7</td>\n",
       "      <td>586.0</td>\n",
       "    </tr>\n",
       "    <tr>\n",
       "      <th>2</th>\n",
       "      <td>ODellNewHireEnrl</td>\n",
       "      <td>New Hire - Enroll</td>\n",
       "      <td>1.0</td>\n",
       "      <td>0.0</td>\n",
       "      <td>0.0</td>\n",
       "      <td>0.0</td>\n",
       "      <td>0.0</td>\n",
       "      <td>0.0</td>\n",
       "      <td>0.0</td>\n",
       "      <td>0.0</td>\n",
       "      <td>...</td>\n",
       "      <td>0.0</td>\n",
       "      <td>0.0</td>\n",
       "      <td>0.0</td>\n",
       "      <td>0.0</td>\n",
       "      <td>0.0</td>\n",
       "      <td>0.0</td>\n",
       "      <td>1.0</td>\n",
       "      <td>164.0</td>\n",
       "      <td>163.7</td>\n",
       "      <td>586.0</td>\n",
       "    </tr>\n",
       "    <tr>\n",
       "      <th>3</th>\n",
       "      <td>O0006</td>\n",
       "      <td>Preventive Annual Physical</td>\n",
       "      <td>0.0</td>\n",
       "      <td>1.0</td>\n",
       "      <td>0.0</td>\n",
       "      <td>0.0</td>\n",
       "      <td>0.0</td>\n",
       "      <td>0.0</td>\n",
       "      <td>0.0</td>\n",
       "      <td>1.0</td>\n",
       "      <td>...</td>\n",
       "      <td>0.0</td>\n",
       "      <td>0.0</td>\n",
       "      <td>0.0</td>\n",
       "      <td>0.0</td>\n",
       "      <td>0.0</td>\n",
       "      <td>1.0</td>\n",
       "      <td>0.0</td>\n",
       "      <td>396.5</td>\n",
       "      <td>161.5</td>\n",
       "      <td>2767.0</td>\n",
       "    </tr>\n",
       "    <tr>\n",
       "      <th>4</th>\n",
       "      <td>O0006</td>\n",
       "      <td>Preventive Annual Physical</td>\n",
       "      <td>0.0</td>\n",
       "      <td>1.0</td>\n",
       "      <td>0.0</td>\n",
       "      <td>0.0</td>\n",
       "      <td>0.0</td>\n",
       "      <td>0.0</td>\n",
       "      <td>0.0</td>\n",
       "      <td>1.0</td>\n",
       "      <td>...</td>\n",
       "      <td>0.0</td>\n",
       "      <td>0.0</td>\n",
       "      <td>0.0</td>\n",
       "      <td>0.0</td>\n",
       "      <td>0.0</td>\n",
       "      <td>1.0</td>\n",
       "      <td>0.0</td>\n",
       "      <td>396.5</td>\n",
       "      <td>161.5</td>\n",
       "      <td>2767.0</td>\n",
       "    </tr>\n",
       "  </tbody>\n",
       "</table>\n",
       "<p>5 rows × 27 columns</p>\n",
       "</div>"
      ],
      "text/plain": [
       "         segment_id                 Description  Clinical_No  Clinical_Yes  \\\n",
       "0  ODellNewHireEnrl           New Hire - Enroll          1.0           0.0   \n",
       "1  ODellNewHireEnrl           New Hire - Enroll          1.0           0.0   \n",
       "2  ODellNewHireEnrl           New Hire - Enroll          1.0           0.0   \n",
       "3             O0006  Preventive Annual Physical          0.0           1.0   \n",
       "4             O0006  Preventive Annual Physical          0.0           1.0   \n",
       "\n",
       "   Campaign_Access diabetes support  Campaign_Annual Enrollment  \\\n",
       "0                               0.0                         0.0   \n",
       "1                               0.0                         0.0   \n",
       "2                               0.0                         0.0   \n",
       "3                               0.0                         0.0   \n",
       "4                               0.0                         0.0   \n",
       "\n",
       "   Campaign_Family Matters  Campaign_Find a PCP  \\\n",
       "0                      0.0                  0.0   \n",
       "1                      0.0                  0.0   \n",
       "2                      0.0                  0.0   \n",
       "3                      0.0                  0.0   \n",
       "4                      0.0                  0.0   \n",
       "\n",
       "   Campaign_Get help for high spend  Campaign_Keep up with preventive care  \\\n",
       "0                               0.0                                    0.0   \n",
       "1                               0.0                                    0.0   \n",
       "2                               0.0                                    0.0   \n",
       "3                               0.0                                    1.0   \n",
       "4                               0.0                                    1.0   \n",
       "\n",
       "   ...  Campaign_Use Benefits Wisely  Campaign_Welcome to Navigation  \\\n",
       "0  ...                           0.0                             0.0   \n",
       "1  ...                           0.0                             0.0   \n",
       "2  ...                           0.0                             0.0   \n",
       "3  ...                           0.0                             0.0   \n",
       "4  ...                           0.0                             0.0   \n",
       "\n",
       "   Offer_Group_Alight_Financial_Path,_Wealth_Essentials_+  \\\n",
       "0                                                0.0        \n",
       "1                                                0.0        \n",
       "2                                                0.0        \n",
       "3                                                0.0        \n",
       "4                                                0.0        \n",
       "\n",
       "   Offer_Group_Annual_Enrollment  Offer_Group_Health_Custom  \\\n",
       "0                            0.0                        0.0   \n",
       "1                            0.0                        0.0   \n",
       "2                            0.0                        0.0   \n",
       "3                            0.0                        0.0   \n",
       "4                            0.0                        0.0   \n",
       "\n",
       "   Offer_Group_Navigation  Offer_Group_New_Hire  avg_eligible_ppts_per_year  \\\n",
       "0                     0.0                   1.0                       164.0   \n",
       "1                     0.0                   1.0                       164.0   \n",
       "2                     0.0                   1.0                       164.0   \n",
       "3                     1.0                   0.0                       396.5   \n",
       "4                     1.0                   0.0                       396.5   \n",
       "\n",
       "   avg_ppts_engaged_per_year  unique_customers_engaged_seg  \n",
       "0                      163.7                         586.0  \n",
       "1                      163.7                         586.0  \n",
       "2                      163.7                         586.0  \n",
       "3                      161.5                        2767.0  \n",
       "4                      161.5                        2767.0  \n",
       "\n",
       "[5 rows x 27 columns]"
      ]
     },
     "execution_count": 16,
     "metadata": {},
     "output_type": "execute_result"
    }
   ],
   "source": [
    "offers_train_.head()"
   ]
  },
  {
   "cell_type": "code",
   "execution_count": 17,
   "id": "e75f257e-0957-4922-a371-318cbb921f11",
   "metadata": {
    "tags": []
   },
   "outputs": [
    {
     "data": {
      "text/plain": [
       "segment_id                                                   0\n",
       "Description                                               6857\n",
       "Clinical_No                                               6857\n",
       "Clinical_Yes                                              6857\n",
       "Campaign_Access diabetes support                          6857\n",
       "Campaign_Annual Enrollment                                6857\n",
       "Campaign_Family Matters                                   6857\n",
       "Campaign_Find a PCP                                       6857\n",
       "Campaign_Get help for high spend                          6857\n",
       "Campaign_Keep up with preventive care                     6857\n",
       "Campaign_Manage cancer                                    6857\n",
       "Campaign_Maximize financial wellbeing                     6857\n",
       "Campaign_Mitigate MSK                                     6857\n",
       "Campaign_New Hire                                         6857\n",
       "Campaign_Pregnancy                                        6857\n",
       "Campaign_Prioritize mental health                         6857\n",
       "Campaign_RX compliance                                    6857\n",
       "Campaign_Use Benefits Wisely                              6857\n",
       "Campaign_Welcome to Navigation                            6857\n",
       "Offer_Group_Alight_Financial_Path,_Wealth_Essentials_+    6857\n",
       "Offer_Group_Annual_Enrollment                             6857\n",
       "Offer_Group_Health_Custom                                 6857\n",
       "Offer_Group_Navigation                                    6857\n",
       "Offer_Group_New_Hire                                      6857\n",
       "avg_eligible_ppts_per_year                                6857\n",
       "avg_ppts_engaged_per_year                                 6857\n",
       "unique_customers_engaged_seg                              6857\n",
       "dtype: int64"
      ]
     },
     "execution_count": 17,
     "metadata": {},
     "output_type": "execute_result"
    }
   ],
   "source": [
    "offers_train_.isnull().sum()"
   ]
  },
  {
   "cell_type": "code",
   "execution_count": 18,
   "id": "fbc43016-c87c-4c56-b950-ac650b67d59e",
   "metadata": {
    "tags": []
   },
   "outputs": [],
   "source": [
    "# offers_train_ = offers_train_.drop(\"unique_customers_engaged_seg\",axis =1)"
   ]
  },
  {
   "cell_type": "code",
   "execution_count": 19,
   "id": "017556e9-369e-4abe-99f1-599872c4f14a",
   "metadata": {
    "tags": []
   },
   "outputs": [
    {
     "data": {
      "text/plain": [
       "(233495, 27)"
      ]
     },
     "execution_count": 19,
     "metadata": {},
     "output_type": "execute_result"
    }
   ],
   "source": [
    "offers_train_.shape"
   ]
  },
  {
   "cell_type": "code",
   "execution_count": 20,
   "id": "0db76258-6b52-42e7-9b39-12036174d474",
   "metadata": {
    "tags": []
   },
   "outputs": [
    {
     "data": {
      "text/html": [
       "<div>\n",
       "<style scoped>\n",
       "    .dataframe tbody tr th:only-of-type {\n",
       "        vertical-align: middle;\n",
       "    }\n",
       "\n",
       "    .dataframe tbody tr th {\n",
       "        vertical-align: top;\n",
       "    }\n",
       "\n",
       "    .dataframe thead th {\n",
       "        text-align: right;\n",
       "    }\n",
       "</style>\n",
       "<table border=\"1\" class=\"dataframe\">\n",
       "  <thead>\n",
       "    <tr style=\"text-align: right;\">\n",
       "      <th></th>\n",
       "      <th>segment_id</th>\n",
       "      <th>Description</th>\n",
       "      <th>Clinical_No</th>\n",
       "      <th>Clinical_Yes</th>\n",
       "      <th>Campaign_Access diabetes support</th>\n",
       "      <th>Campaign_Annual Enrollment</th>\n",
       "      <th>Campaign_Family Matters</th>\n",
       "      <th>Campaign_Find a PCP</th>\n",
       "      <th>Campaign_Get help for high spend</th>\n",
       "      <th>Campaign_Keep up with preventive care</th>\n",
       "      <th>...</th>\n",
       "      <th>Campaign_Use Benefits Wisely</th>\n",
       "      <th>Campaign_Welcome to Navigation</th>\n",
       "      <th>Offer_Group_Alight_Financial_Path,_Wealth_Essentials_+</th>\n",
       "      <th>Offer_Group_Annual_Enrollment</th>\n",
       "      <th>Offer_Group_Health_Custom</th>\n",
       "      <th>Offer_Group_Navigation</th>\n",
       "      <th>Offer_Group_New_Hire</th>\n",
       "      <th>avg_eligible_ppts_per_year</th>\n",
       "      <th>avg_ppts_engaged_per_year</th>\n",
       "      <th>unique_customers_engaged_seg</th>\n",
       "    </tr>\n",
       "  </thead>\n",
       "  <tbody>\n",
       "    <tr>\n",
       "      <th>0</th>\n",
       "      <td>ODellNewHireEnrl</td>\n",
       "      <td>New Hire - Enroll</td>\n",
       "      <td>1.0</td>\n",
       "      <td>0.0</td>\n",
       "      <td>0.0</td>\n",
       "      <td>0.0</td>\n",
       "      <td>0.0</td>\n",
       "      <td>0.0</td>\n",
       "      <td>0.0</td>\n",
       "      <td>0.0</td>\n",
       "      <td>...</td>\n",
       "      <td>0.0</td>\n",
       "      <td>0.0</td>\n",
       "      <td>0.0</td>\n",
       "      <td>0.0</td>\n",
       "      <td>0.0</td>\n",
       "      <td>0.0</td>\n",
       "      <td>1.0</td>\n",
       "      <td>164.0</td>\n",
       "      <td>163.7</td>\n",
       "      <td>586.0</td>\n",
       "    </tr>\n",
       "    <tr>\n",
       "      <th>1</th>\n",
       "      <td>ODellNewHireEnrl</td>\n",
       "      <td>New Hire - Enroll</td>\n",
       "      <td>1.0</td>\n",
       "      <td>0.0</td>\n",
       "      <td>0.0</td>\n",
       "      <td>0.0</td>\n",
       "      <td>0.0</td>\n",
       "      <td>0.0</td>\n",
       "      <td>0.0</td>\n",
       "      <td>0.0</td>\n",
       "      <td>...</td>\n",
       "      <td>0.0</td>\n",
       "      <td>0.0</td>\n",
       "      <td>0.0</td>\n",
       "      <td>0.0</td>\n",
       "      <td>0.0</td>\n",
       "      <td>0.0</td>\n",
       "      <td>1.0</td>\n",
       "      <td>164.0</td>\n",
       "      <td>163.7</td>\n",
       "      <td>586.0</td>\n",
       "    </tr>\n",
       "  </tbody>\n",
       "</table>\n",
       "<p>2 rows × 27 columns</p>\n",
       "</div>"
      ],
      "text/plain": [
       "         segment_id        Description  Clinical_No  Clinical_Yes  \\\n",
       "0  ODellNewHireEnrl  New Hire - Enroll          1.0           0.0   \n",
       "1  ODellNewHireEnrl  New Hire - Enroll          1.0           0.0   \n",
       "\n",
       "   Campaign_Access diabetes support  Campaign_Annual Enrollment  \\\n",
       "0                               0.0                         0.0   \n",
       "1                               0.0                         0.0   \n",
       "\n",
       "   Campaign_Family Matters  Campaign_Find a PCP  \\\n",
       "0                      0.0                  0.0   \n",
       "1                      0.0                  0.0   \n",
       "\n",
       "   Campaign_Get help for high spend  Campaign_Keep up with preventive care  \\\n",
       "0                               0.0                                    0.0   \n",
       "1                               0.0                                    0.0   \n",
       "\n",
       "   ...  Campaign_Use Benefits Wisely  Campaign_Welcome to Navigation  \\\n",
       "0  ...                           0.0                             0.0   \n",
       "1  ...                           0.0                             0.0   \n",
       "\n",
       "   Offer_Group_Alight_Financial_Path,_Wealth_Essentials_+  \\\n",
       "0                                                0.0        \n",
       "1                                                0.0        \n",
       "\n",
       "   Offer_Group_Annual_Enrollment  Offer_Group_Health_Custom  \\\n",
       "0                            0.0                        0.0   \n",
       "1                            0.0                        0.0   \n",
       "\n",
       "   Offer_Group_Navigation  Offer_Group_New_Hire  avg_eligible_ppts_per_year  \\\n",
       "0                     0.0                   1.0                       164.0   \n",
       "1                     0.0                   1.0                       164.0   \n",
       "\n",
       "   avg_ppts_engaged_per_year  unique_customers_engaged_seg  \n",
       "0                      163.7                         586.0  \n",
       "1                      163.7                         586.0  \n",
       "\n",
       "[2 rows x 27 columns]"
      ]
     },
     "execution_count": 20,
     "metadata": {},
     "output_type": "execute_result"
    }
   ],
   "source": [
    "offers_train_.head(2)"
   ]
  },
  {
   "cell_type": "code",
   "execution_count": 21,
   "id": "f830a6ac-6001-4c8f-9ca4-f3daabb06b9c",
   "metadata": {
    "tags": []
   },
   "outputs": [],
   "source": [
    "offers_train_ = offers_train_.dropna()"
   ]
  },
  {
   "cell_type": "code",
   "execution_count": 22,
   "id": "6a852bb7-becc-4997-b404-d33e16bab410",
   "metadata": {
    "tags": []
   },
   "outputs": [
    {
     "data": {
      "text/plain": [
       "segment_id                                                0\n",
       "Description                                               0\n",
       "Clinical_No                                               0\n",
       "Clinical_Yes                                              0\n",
       "Campaign_Access diabetes support                          0\n",
       "Campaign_Annual Enrollment                                0\n",
       "Campaign_Family Matters                                   0\n",
       "Campaign_Find a PCP                                       0\n",
       "Campaign_Get help for high spend                          0\n",
       "Campaign_Keep up with preventive care                     0\n",
       "Campaign_Manage cancer                                    0\n",
       "Campaign_Maximize financial wellbeing                     0\n",
       "Campaign_Mitigate MSK                                     0\n",
       "Campaign_New Hire                                         0\n",
       "Campaign_Pregnancy                                        0\n",
       "Campaign_Prioritize mental health                         0\n",
       "Campaign_RX compliance                                    0\n",
       "Campaign_Use Benefits Wisely                              0\n",
       "Campaign_Welcome to Navigation                            0\n",
       "Offer_Group_Alight_Financial_Path,_Wealth_Essentials_+    0\n",
       "Offer_Group_Annual_Enrollment                             0\n",
       "Offer_Group_Health_Custom                                 0\n",
       "Offer_Group_Navigation                                    0\n",
       "Offer_Group_New_Hire                                      0\n",
       "avg_eligible_ppts_per_year                                0\n",
       "avg_ppts_engaged_per_year                                 0\n",
       "unique_customers_engaged_seg                              0\n",
       "dtype: int64"
      ]
     },
     "execution_count": 22,
     "metadata": {},
     "output_type": "execute_result"
    }
   ],
   "source": [
    "offers_train_.isnull().sum()"
   ]
  },
  {
   "cell_type": "code",
   "execution_count": 23,
   "id": "3add4e6b-1e9f-4a2e-8044-55c038973aa4",
   "metadata": {
    "tags": []
   },
   "outputs": [],
   "source": [
    "# (offers_train_.isnull().sum())"
   ]
  },
  {
   "cell_type": "code",
   "execution_count": 24,
   "id": "b11ae9a7-64f1-45b0-9eb2-a978537ff683",
   "metadata": {
    "tags": []
   },
   "outputs": [
    {
     "data": {
      "text/plain": [
       "(226638, 27)"
      ]
     },
     "execution_count": 24,
     "metadata": {},
     "output_type": "execute_result"
    }
   ],
   "source": [
    "offers_train_.shape"
   ]
  },
  {
   "cell_type": "code",
   "execution_count": 25,
   "id": "f3f46ba5-02df-43b5-9be0-78eeb5f5097b",
   "metadata": {
    "tags": []
   },
   "outputs": [],
   "source": [
    "# offers_train_.columns"
   ]
  },
  {
   "cell_type": "code",
   "execution_count": 26,
   "id": "b5ce005d-b0bb-4e94-b682-13bddbbf6127",
   "metadata": {
    "tags": []
   },
   "outputs": [],
   "source": [
    "# offers_train_[~offers_train_.segment_id.isin(user_train_.segment_id.unique())].segment_id.unique()"
   ]
  },
  {
   "cell_type": "code",
   "execution_count": 27,
   "id": "77974f14-2361-44f7-b93b-5ec24b2fefcc",
   "metadata": {
    "tags": []
   },
   "outputs": [],
   "source": [
    "user_train_.drop(user_train_.index[~user_train_.segment_id.isin(offers_train_.segment_id.unique())], inplace=True)"
   ]
  },
  {
   "cell_type": "code",
   "execution_count": 28,
   "id": "ab699f7b-989d-4779-a8e4-48ee91973315",
   "metadata": {
    "tags": []
   },
   "outputs": [],
   "source": [
    "user_train_.reset_index(drop=True, inplace=True)"
   ]
  },
  {
   "cell_type": "code",
   "execution_count": 29,
   "id": "f11a1d33-4151-4755-a0e0-faf6582a21e3",
   "metadata": {
    "tags": []
   },
   "outputs": [],
   "source": [
    "# user_train_.shape"
   ]
  },
  {
   "cell_type": "code",
   "execution_count": 30,
   "id": "2c9baf89-6d48-4728-b1b2-1cef844c6a63",
   "metadata": {
    "tags": []
   },
   "outputs": [],
   "source": [
    "# offers_train_.describe"
   ]
  },
  {
   "cell_type": "code",
   "execution_count": 31,
   "id": "3fcba765-7de3-4b6a-8347-3655850f876c",
   "metadata": {
    "tags": []
   },
   "outputs": [
    {
     "data": {
      "text/plain": [
       "(226638, 132)"
      ]
     },
     "execution_count": 31,
     "metadata": {},
     "output_type": "execute_result"
    }
   ],
   "source": [
    "user_train_.shape"
   ]
  },
  {
   "cell_type": "code",
   "execution_count": 32,
   "id": "1dca0200-cf4e-4e36-927b-b2bfd054edc0",
   "metadata": {
    "tags": []
   },
   "outputs": [],
   "source": [
    "# offers_train_1 = offers_train_.values"
   ]
  },
  {
   "cell_type": "code",
   "execution_count": 33,
   "id": "4975158c-b434-4f55-ab31-1422784fa658",
   "metadata": {
    "tags": []
   },
   "outputs": [],
   "source": [
    "# offers_train_1"
   ]
  },
  {
   "cell_type": "code",
   "execution_count": 34,
   "id": "dd3be18e-071d-4794-8b82-f49f81d4d47b",
   "metadata": {
    "tags": []
   },
   "outputs": [],
   "source": [
    "# user_train_.columns"
   ]
  },
  {
   "cell_type": "code",
   "execution_count": 35,
   "id": "53e173fa-2f06-4ab7-9c2a-ffc2bb02c989",
   "metadata": {
    "tags": []
   },
   "outputs": [],
   "source": [
    "#y_train_ = user_train_.engagement_flag.values\n",
    "offers_train_ = offers_train_.drop([\"segment_id\",\"Description\"],axis = 1)\n",
    "offers_train_ = offers_train_.values\n",
    "\n",
    "# offers_train_ = (\n",
    "#     user_train_[[\"segment_id\"]].merge(offers_train_,on=\"segment_id\")\n",
    "#     .drop([\"segment_id\",\"Description\"], axis=1)\n",
    "# ).values"
   ]
  },
  {
   "cell_type": "code",
   "execution_count": 36,
   "id": "4c5ca3a9-8d62-4a14-abf8-3061d83ccdc2",
   "metadata": {
    "tags": []
   },
   "outputs": [
    {
     "data": {
      "text/plain": [
       "(226638, 25)"
      ]
     },
     "execution_count": 36,
     "metadata": {},
     "output_type": "execute_result"
    }
   ],
   "source": [
    "offers_train_.shape"
   ]
  },
  {
   "cell_type": "code",
   "execution_count": null,
   "id": "544cf071-1ae4-4f4a-a0bc-37232cb4eeed",
   "metadata": {},
   "outputs": [],
   "source": []
  },
  {
   "cell_type": "code",
   "execution_count": 37,
   "id": "366f15c2-adff-4220-9d8f-bc722ccdbd2f",
   "metadata": {
    "tags": []
   },
   "outputs": [],
   "source": [
    "user_train_ = user_train_.drop([\"person_id\",\"client_id\",\"eligibility_end_date\",\"conversion_description\",\"conversion_id\",\n",
    "                                     \"segment_id\",\"eligibility_start_date\",\"one_yr_lookup_date\", \n",
    "                                \"segment_id\"], axis=1)\n"
   ]
  },
  {
   "cell_type": "code",
   "execution_count": null,
   "id": "39e838ea-9f81-4b99-9cb3-f0a302df029e",
   "metadata": {},
   "outputs": [],
   "source": []
  },
  {
   "cell_type": "code",
   "execution_count": 38,
   "id": "53e31d52-3a20-47fa-8844-d87e4f36015c",
   "metadata": {
    "tags": []
   },
   "outputs": [],
   "source": [
    "# y_train_ = user_train_.conversion_flag.values\n",
    "\n",
    "# offers_train_ = (\n",
    "#     user_train_[[\"segment_id\"]].merge(offer_features, how=\"left\", on=\"segment_id\")\n",
    "#     .drop([\"segment_id\",\"Description\"], axis=1)\n",
    "# ).values"
   ]
  },
  {
   "cell_type": "code",
   "execution_count": 39,
   "id": "850c137c-ab6f-4d64-9297-be832a1de64e",
   "metadata": {
    "tags": []
   },
   "outputs": [
    {
     "data": {
      "text/plain": [
       "(226638, 25)"
      ]
     },
     "execution_count": 39,
     "metadata": {},
     "output_type": "execute_result"
    }
   ],
   "source": [
    "offers_train_.shape"
   ]
  },
  {
   "cell_type": "code",
   "execution_count": 40,
   "id": "978c6c3e-43ef-4884-9ef7-13f9d44251fe",
   "metadata": {
    "tags": []
   },
   "outputs": [],
   "source": [
    "# offers_train_[np.isnan(offers_train_)]"
   ]
  },
  {
   "cell_type": "code",
   "execution_count": 41,
   "id": "cc9c4631-d657-466c-bea9-7237ec69d8b5",
   "metadata": {
    "tags": []
   },
   "outputs": [],
   "source": [
    "# user_train_ = user_train_.drop([\"data_source_clientid\",\"data_source_personid\",\n",
    "#                               \"person_internal_id\", \"client_id\",\n",
    "#                               \"segment_id\",\"eligibility_start_date\",\n",
    "#                               \"one_yr_lookup_date\",\"conversion_flag\"], axis=1)"
   ]
  },
  {
   "cell_type": "code",
   "execution_count": 42,
   "id": "19230cbd-2820-4f29-96e6-e4d0e3229d89",
   "metadata": {
    "tags": []
   },
   "outputs": [
    {
     "data": {
      "text/plain": [
       "(226638, 124)"
      ]
     },
     "execution_count": 42,
     "metadata": {},
     "output_type": "execute_result"
    }
   ],
   "source": [
    "user_train_.shape"
   ]
  },
  {
   "cell_type": "code",
   "execution_count": 43,
   "id": "0c8a58ea-22a2-4dfd-b4d2-970ea26c9e1f",
   "metadata": {
    "tags": []
   },
   "outputs": [
    {
     "data": {
      "text/plain": [
       "impression_flag                               0\n",
       "engagement_flag                               0\n",
       "conversion_flag                               0\n",
       "num_unique_offers_engag_till_date             0\n",
       "num_engag_till_date                           0\n",
       "eligibility_year                              0\n",
       "total_engagements_cust                        0\n",
       "total_conversions_cust                        0\n",
       "total_impression_cust                         0\n",
       "unique_segments_engaged_cust                  0\n",
       "avg_engagements_per_day_cust              49722\n",
       "avg_engagements_per_conversion                0\n",
       "avg_engagement_to_conversion_time        179163\n",
       "engagement_rate                               0\n",
       "age                                           0\n",
       "base_pay_regular_expectedannualsalary         0\n",
       "ST_AA                                         0\n",
       "ST_AB                                         0\n",
       "ST_AE                                         0\n",
       "ST_AK                                         0\n",
       "ST_AL                                         0\n",
       "ST_AP                                         0\n",
       "ST_AR                                         0\n",
       "ST_AS                                         0\n",
       "ST_AZ                                         0\n",
       "ST_BC                                         0\n",
       "ST_CA                                         0\n",
       "ST_CO                                         0\n",
       "ST_CT                                         0\n",
       "ST_DC                                         0\n",
       "ST_DE                                         0\n",
       "ST_FL                                         0\n",
       "ST_GA                                         0\n",
       "ST_GB                                         0\n",
       "ST_GU                                         0\n",
       "ST_HI                                         0\n",
       "ST_IA                                         0\n",
       "ST_ID                                         0\n",
       "ST_IL                                         0\n",
       "ST_IN                                         0\n",
       "ST_IT                                         0\n",
       "ST_KA                                         0\n",
       "ST_KS                                         0\n",
       "ST_KY                                         0\n",
       "ST_LA                                         0\n",
       "ST_MA                                         0\n",
       "ST_MB                                         0\n",
       "ST_MD                                         0\n",
       "ST_ME                                         0\n",
       "ST_MH                                         0\n",
       "ST_MI                                         0\n",
       "ST_MN                                         0\n",
       "ST_MO                                         0\n",
       "ST_MP                                         0\n",
       "ST_MS                                         0\n",
       "ST_MT                                         0\n",
       "ST_NB                                         0\n",
       "ST_NC                                         0\n",
       "ST_ND                                         0\n",
       "ST_NE                                         0\n",
       "ST_NH                                         0\n",
       "ST_NJ                                         0\n",
       "ST_NL                                         0\n",
       "ST_NM                                         0\n",
       "ST_NS                                         0\n",
       "ST_NT                                         0\n",
       "ST_NV                                         0\n",
       "ST_NY                                         0\n",
       "ST_OH                                         0\n",
       "ST_OK                                         0\n",
       "ST_ON                                         0\n",
       "ST_OR                                         0\n",
       "ST_OTHERS                                     0\n",
       "ST_PA                                         0\n",
       "ST_PE                                         0\n",
       "ST_PR                                         0\n",
       "ST_QA                                         0\n",
       "ST_QC                                         0\n",
       "ST_RI                                         0\n",
       "ST_SC                                         0\n",
       "ST_SD                                         0\n",
       "ST_SG                                         0\n",
       "ST_SK                                         0\n",
       "ST_TN                                         0\n",
       "ST_TX                                         0\n",
       "ST_UP                                         0\n",
       "ST_UT                                         0\n",
       "ST_VA                                         0\n",
       "ST_VI                                         0\n",
       "ST_VT                                         0\n",
       "ST_WA                                         0\n",
       "ST_WI                                         0\n",
       "ST_WV                                         0\n",
       "ST_WY                                         0\n",
       "ST_XX                                         0\n",
       "ST_ZZ                                         0\n",
       "G_F                                           0\n",
       "G_M                                           0\n",
       "G_UNKNOWN                                     0\n",
       "FPflag_DNM                                    0\n",
       "FPflag_FullTime                               0\n",
       "FPflag_PartTime                               0\n",
       "HC_DNM                                        0\n",
       "HC_No                                         0\n",
       "HC_Yes                                        0\n",
       "EMP_STATUS_Active                             0\n",
       "EMP_STATUS_COBRA_Dependent                    0\n",
       "EMP_STATUS_COBRA_Employee                     0\n",
       "EMP_STATUS_DNM                                0\n",
       "EMP_STATUS_Deceased_In_Service                0\n",
       "EMP_STATUS_Deceased_Outofservice              0\n",
       "EMP_STATUS_Disability_Long_Term               0\n",
       "EMP_STATUS_Disability_Short_Term              0\n",
       "EMP_STATUS_Enrolled_Beneficiary               0\n",
       "EMP_STATUS_Enrolled_QDRO                      0\n",
       "EMP_STATUS_LOA_Family_Medical                 0\n",
       "EMP_STATUS_LOA_Military                       0\n",
       "EMP_STATUS_LOA_No_Pay                         0\n",
       "EMP_STATUS_LOA_With_Pay                       0\n",
       "EMP_STATUS_LOA_Workers_Compensation           0\n",
       "EMP_STATUS_Layoff                             0\n",
       "EMP_STATUS_Retired                            0\n",
       "EMP_STATUS_Severance_Pay                      0\n",
       "EMP_STATUS_Termination                        0\n",
       "dtype: int64"
      ]
     },
     "execution_count": 43,
     "metadata": {},
     "output_type": "execute_result"
    }
   ],
   "source": [
    "user_train_.isnull().sum()"
   ]
  },
  {
   "cell_type": "code",
   "execution_count": 44,
   "id": "3a3c3823-b5f3-45da-b2cf-b2e59ac6818c",
   "metadata": {
    "tags": []
   },
   "outputs": [],
   "source": [
    "# user_train_.columns"
   ]
  },
  {
   "cell_type": "code",
   "execution_count": 45,
   "id": "28d30588-207a-4af3-ab43-47941a79d935",
   "metadata": {
    "tags": []
   },
   "outputs": [],
   "source": [
    "user_train_.fillna(0, inplace=True)"
   ]
  },
  {
   "cell_type": "code",
   "execution_count": 46,
   "id": "5afd6bbc-21d9-4139-b6ae-117792a62496",
   "metadata": {
    "tags": []
   },
   "outputs": [],
   "source": [
    "y_train_ = user_train_.engagement_flag.values\n",
    "user_train_.drop(\"engagement_flag\", axis=1, inplace=True)"
   ]
  },
  {
   "cell_type": "code",
   "execution_count": 47,
   "id": "b239b824-633e-4f3f-ae86-2f06363ed88a",
   "metadata": {
    "tags": []
   },
   "outputs": [],
   "source": [
    "columns_index = {k:v for v,k in enumerate(user_train_.columns)}"
   ]
  },
  {
   "cell_type": "code",
   "execution_count": 48,
   "id": "8d4bb5d4-5717-404d-9ff8-9925d319e4e8",
   "metadata": {
    "tags": []
   },
   "outputs": [],
   "source": [
    "# avg_engagements_per_day_cust"
   ]
  },
  {
   "cell_type": "code",
   "execution_count": 49,
   "id": "84947268-93cf-4a1a-884b-41510d2732f6",
   "metadata": {
    "tags": []
   },
   "outputs": [],
   "source": [
    "features_dict = \\\n",
    "{\n",
    "    \"features_list_1\":[\"num_unique_offers_engag_till_date\",\"num_engag_till_date\",\"unique_segments_engaged_cust\",\n",
    "                       \"engagement_rate\"],\n",
    "    \"features_list_2\":[\"num_unique_offers_engag_till_date\",\"avg_engagements_per_conversion\",\n",
    "                       \"unique_segments_engaged_cust\",\"total_engagements_cust\",\"age\"],\n",
    "    \"features_list_3\":[\"num_unique_offers_engag_till_date\",\"avg_engagements_per_conversion\",\n",
    "                       \"unique_segments_engaged_cust\",\"total_engagements_cust\",\"total_impression_cust\",\"age\",\n",
    "                       \"base_pay_regular_expectedannualsalary\"],\n",
    "    \"features_list_4\":[\"num_unique_offers_engag_till_date\",\"avg_engagements_per_conversion\",\n",
    "                       \"unique_segments_engaged_cust\",\"total_engagements_cust\",\"total_impression_cust\",\n",
    "                       \"avg_engagements_per_day_cust\",\"engagement_rate\",\"total_conversions_cust\",\n",
    "                       \"num_engag_till_date\",\"avg_engagement_to_conversion_time\",\n",
    "                       \"base_pay_regular_expectedannualsalary\"],\n",
    "    \"features_list_5\":[\"num_unique_offers_engag_till_date\",\"avg_engagements_per_conversion\",\n",
    "                       \"unique_segments_engaged_cust\",\"total_engagements_cust\",\"total_impression_cust\",\n",
    "                       \"avg_engagements_per_day_cust\",\"engagement_rate\",\"total_conversions_cust\",\n",
    "                       \"num_engag_till_date\",\"avg_engagement_to_conversion_time\",\"age\",\n",
    "                       \"base_pay_regular_expectedannualsalary\",\n",
    "                        'G_F', 'G_M', 'G_UNKNOWN'],\n",
    "    \"features_list_5\":[\"num_unique_offers_engag_till_date\",\"avg_engagements_per_conversion\",\n",
    "                       \"unique_segments_engaged_cust\",\"total_engagements_cust\",\"total_impression_cust\",\n",
    "                       \"avg_engagements_per_day_cust\",\"engagement_rate\",\"total_conversions_cust\",\n",
    "                       \"num_engag_till_date\",\"avg_engagement_to_conversion_time\",\"age\",\n",
    "                       \"base_pay_regular_expectedannualsalary\",\n",
    "                        'G_F', 'G_M', 'G_UNKNOWN'],\n",
    "     \"features_list_6\":[\"num_unique_offers_engag_till_date\",\"avg_engagements_per_conversion\",\n",
    "                       \"unique_segments_engaged_cust\",\"total_engagements_cust\",\"total_impression_cust\",\n",
    "                       \"avg_engagements_per_day_cust\",\"engagement_rate\",\"total_conversions_cust\",\n",
    "                       \"num_engag_till_date\",\"avg_engagement_to_conversion_time\",\"age\",\n",
    "                       \"base_pay_regular_expectedannualsalary\",\n",
    "                        'G_F', 'G_M', 'G_UNKNOWN','EMP_STATUS_Active', \n",
    "                        'EMP_STATUS_COBRA_Dependent', 'EMP_STATUS_COBRA_Employee',\n",
    "                        'EMP_STATUS_DNM', 'EMP_STATUS_Deceased_In_Service', \n",
    "                        'EMP_STATUS_Deceased_Outofservice', \n",
    "                        'EMP_STATUS_Disability_Long_Term', \n",
    "                        'EMP_STATUS_Disability_Short_Term',\n",
    "                        'EMP_STATUS_Enrolled_Beneficiary', \n",
    "                        'EMP_STATUS_Enrolled_QDRO', \n",
    "                        'EMP_STATUS_LOA_Family_Medical', \n",
    "                        'EMP_STATUS_LOA_Military', 'EMP_STATUS_LOA_No_Pay', \n",
    "                        'EMP_STATUS_LOA_With_Pay', \n",
    "                        'EMP_STATUS_LOA_Workers_Compensation', \n",
    "                        'EMP_STATUS_Layoff', 'EMP_STATUS_Retired', \n",
    "                        'EMP_STATUS_Severance_Pay', 'EMP_STATUS_Termination'],\n",
    "    \"features_list_7\":user_train_.columns.tolist()\n",
    "}\n",
    " "
   ]
  },
  {
   "cell_type": "code",
   "execution_count": 50,
   "id": "3dcfc6ad-f414-4651-a24c-08ed81b04320",
   "metadata": {
    "tags": []
   },
   "outputs": [
    {
     "data": {
      "text/html": [
       "<div>\n",
       "<style scoped>\n",
       "    .dataframe tbody tr th:only-of-type {\n",
       "        vertical-align: middle;\n",
       "    }\n",
       "\n",
       "    .dataframe tbody tr th {\n",
       "        vertical-align: top;\n",
       "    }\n",
       "\n",
       "    .dataframe thead th {\n",
       "        text-align: right;\n",
       "    }\n",
       "</style>\n",
       "<table border=\"1\" class=\"dataframe\">\n",
       "  <thead>\n",
       "    <tr style=\"text-align: right;\">\n",
       "      <th></th>\n",
       "      <th>impression_flag</th>\n",
       "      <th>conversion_flag</th>\n",
       "      <th>num_unique_offers_engag_till_date</th>\n",
       "      <th>num_engag_till_date</th>\n",
       "      <th>eligibility_year</th>\n",
       "      <th>total_engagements_cust</th>\n",
       "      <th>total_conversions_cust</th>\n",
       "      <th>total_impression_cust</th>\n",
       "      <th>unique_segments_engaged_cust</th>\n",
       "      <th>avg_engagements_per_day_cust</th>\n",
       "      <th>...</th>\n",
       "      <th>EMP_STATUS_Enrolled_QDRO</th>\n",
       "      <th>EMP_STATUS_LOA_Family_Medical</th>\n",
       "      <th>EMP_STATUS_LOA_Military</th>\n",
       "      <th>EMP_STATUS_LOA_No_Pay</th>\n",
       "      <th>EMP_STATUS_LOA_With_Pay</th>\n",
       "      <th>EMP_STATUS_LOA_Workers_Compensation</th>\n",
       "      <th>EMP_STATUS_Layoff</th>\n",
       "      <th>EMP_STATUS_Retired</th>\n",
       "      <th>EMP_STATUS_Severance_Pay</th>\n",
       "      <th>EMP_STATUS_Termination</th>\n",
       "    </tr>\n",
       "  </thead>\n",
       "  <tbody>\n",
       "    <tr>\n",
       "      <th>0</th>\n",
       "      <td>1</td>\n",
       "      <td>1</td>\n",
       "      <td>0</td>\n",
       "      <td>0</td>\n",
       "      <td>2021</td>\n",
       "      <td>3</td>\n",
       "      <td>2</td>\n",
       "      <td>3</td>\n",
       "      <td>3</td>\n",
       "      <td>8.3e-02</td>\n",
       "      <td>...</td>\n",
       "      <td>0</td>\n",
       "      <td>0</td>\n",
       "      <td>0</td>\n",
       "      <td>0</td>\n",
       "      <td>0</td>\n",
       "      <td>0</td>\n",
       "      <td>0</td>\n",
       "      <td>0</td>\n",
       "      <td>0</td>\n",
       "      <td>0</td>\n",
       "    </tr>\n",
       "    <tr>\n",
       "      <th>1</th>\n",
       "      <td>1</td>\n",
       "      <td>1</td>\n",
       "      <td>0</td>\n",
       "      <td>0</td>\n",
       "      <td>2021</td>\n",
       "      <td>3</td>\n",
       "      <td>2</td>\n",
       "      <td>3</td>\n",
       "      <td>3</td>\n",
       "      <td>8.3e-02</td>\n",
       "      <td>...</td>\n",
       "      <td>0</td>\n",
       "      <td>0</td>\n",
       "      <td>0</td>\n",
       "      <td>0</td>\n",
       "      <td>0</td>\n",
       "      <td>0</td>\n",
       "      <td>0</td>\n",
       "      <td>0</td>\n",
       "      <td>0</td>\n",
       "      <td>0</td>\n",
       "    </tr>\n",
       "  </tbody>\n",
       "</table>\n",
       "<p>2 rows × 123 columns</p>\n",
       "</div>"
      ],
      "text/plain": [
       "   impression_flag  conversion_flag  num_unique_offers_engag_till_date  \\\n",
       "0                1                1                                  0   \n",
       "1                1                1                                  0   \n",
       "\n",
       "   num_engag_till_date  eligibility_year  total_engagements_cust  \\\n",
       "0                    0              2021                       3   \n",
       "1                    0              2021                       3   \n",
       "\n",
       "   total_conversions_cust  total_impression_cust  \\\n",
       "0                       2                      3   \n",
       "1                       2                      3   \n",
       "\n",
       "   unique_segments_engaged_cust  avg_engagements_per_day_cust  ...  \\\n",
       "0                             3                       8.3e-02  ...   \n",
       "1                             3                       8.3e-02  ...   \n",
       "\n",
       "   EMP_STATUS_Enrolled_QDRO  EMP_STATUS_LOA_Family_Medical  \\\n",
       "0                         0                              0   \n",
       "1                         0                              0   \n",
       "\n",
       "   EMP_STATUS_LOA_Military  EMP_STATUS_LOA_No_Pay  EMP_STATUS_LOA_With_Pay  \\\n",
       "0                        0                      0                        0   \n",
       "1                        0                      0                        0   \n",
       "\n",
       "   EMP_STATUS_LOA_Workers_Compensation  EMP_STATUS_Layoff  EMP_STATUS_Retired  \\\n",
       "0                                    0                  0                   0   \n",
       "1                                    0                  0                   0   \n",
       "\n",
       "   EMP_STATUS_Severance_Pay  EMP_STATUS_Termination  \n",
       "0                         0                       0  \n",
       "1                         0                       0  \n",
       "\n",
       "[2 rows x 123 columns]"
      ]
     },
     "execution_count": 50,
     "metadata": {},
     "output_type": "execute_result"
    }
   ],
   "source": [
    "user_train_.head(2)"
   ]
  },
  {
   "cell_type": "code",
   "execution_count": 51,
   "id": "54f3294d-f3c6-481e-8bbd-6a21605d99b3",
   "metadata": {
    "tags": []
   },
   "outputs": [],
   "source": [
    "new_feataures_dict = features_dict.copy()\n",
    "for k,v in features_dict.items():\n",
    "    new_feataures_dict[k] = [columns_index[col] for col in v]"
   ]
  },
  {
   "cell_type": "code",
   "execution_count": 52,
   "id": "927ef2de-3f4f-42c7-a342-9f80d0a7004e",
   "metadata": {
    "tags": []
   },
   "outputs": [
    {
     "data": {
      "text/plain": [
       "{'features_list_1': [2, 3, 8, 12],\n",
       " 'features_list_2': [2, 10, 8, 5, 13],\n",
       " 'features_list_3': [2, 10, 8, 5, 7, 13, 14],\n",
       " 'features_list_4': [2, 10, 8, 5, 7, 9, 12, 6, 3, 11, 14],\n",
       " 'features_list_5': [2, 10, 8, 5, 7, 9, 12, 6, 3, 11, 13, 14, 95, 96, 97],\n",
       " 'features_list_6': [2,\n",
       "  10,\n",
       "  8,\n",
       "  5,\n",
       "  7,\n",
       "  9,\n",
       "  12,\n",
       "  6,\n",
       "  3,\n",
       "  11,\n",
       "  13,\n",
       "  14,\n",
       "  95,\n",
       "  96,\n",
       "  97,\n",
       "  104,\n",
       "  105,\n",
       "  106,\n",
       "  107,\n",
       "  108,\n",
       "  109,\n",
       "  110,\n",
       "  111,\n",
       "  112,\n",
       "  113,\n",
       "  114,\n",
       "  115,\n",
       "  116,\n",
       "  117,\n",
       "  118,\n",
       "  119,\n",
       "  120,\n",
       "  121,\n",
       "  122],\n",
       " 'features_list_7': [0,\n",
       "  1,\n",
       "  2,\n",
       "  3,\n",
       "  4,\n",
       "  5,\n",
       "  6,\n",
       "  7,\n",
       "  8,\n",
       "  9,\n",
       "  10,\n",
       "  11,\n",
       "  12,\n",
       "  13,\n",
       "  14,\n",
       "  15,\n",
       "  16,\n",
       "  17,\n",
       "  18,\n",
       "  19,\n",
       "  20,\n",
       "  21,\n",
       "  22,\n",
       "  23,\n",
       "  24,\n",
       "  25,\n",
       "  26,\n",
       "  27,\n",
       "  28,\n",
       "  29,\n",
       "  30,\n",
       "  31,\n",
       "  32,\n",
       "  33,\n",
       "  34,\n",
       "  35,\n",
       "  36,\n",
       "  37,\n",
       "  38,\n",
       "  39,\n",
       "  40,\n",
       "  41,\n",
       "  42,\n",
       "  43,\n",
       "  44,\n",
       "  45,\n",
       "  46,\n",
       "  47,\n",
       "  48,\n",
       "  49,\n",
       "  50,\n",
       "  51,\n",
       "  52,\n",
       "  53,\n",
       "  54,\n",
       "  55,\n",
       "  56,\n",
       "  57,\n",
       "  58,\n",
       "  59,\n",
       "  60,\n",
       "  61,\n",
       "  62,\n",
       "  63,\n",
       "  64,\n",
       "  65,\n",
       "  66,\n",
       "  67,\n",
       "  68,\n",
       "  69,\n",
       "  70,\n",
       "  71,\n",
       "  72,\n",
       "  73,\n",
       "  74,\n",
       "  75,\n",
       "  76,\n",
       "  77,\n",
       "  78,\n",
       "  79,\n",
       "  80,\n",
       "  81,\n",
       "  82,\n",
       "  83,\n",
       "  84,\n",
       "  85,\n",
       "  86,\n",
       "  87,\n",
       "  88,\n",
       "  89,\n",
       "  90,\n",
       "  91,\n",
       "  92,\n",
       "  93,\n",
       "  94,\n",
       "  95,\n",
       "  96,\n",
       "  97,\n",
       "  98,\n",
       "  99,\n",
       "  100,\n",
       "  101,\n",
       "  102,\n",
       "  103,\n",
       "  104,\n",
       "  105,\n",
       "  106,\n",
       "  107,\n",
       "  108,\n",
       "  109,\n",
       "  110,\n",
       "  111,\n",
       "  112,\n",
       "  113,\n",
       "  114,\n",
       "  115,\n",
       "  116,\n",
       "  117,\n",
       "  118,\n",
       "  119,\n",
       "  120,\n",
       "  121,\n",
       "  122]}"
      ]
     },
     "execution_count": 52,
     "metadata": {},
     "output_type": "execute_result"
    }
   ],
   "source": [
    "new_feataures_dict"
   ]
  },
  {
   "cell_type": "code",
   "execution_count": 53,
   "id": "ceb83f32-f387-461c-afab-ce19c7c51999",
   "metadata": {
    "tags": []
   },
   "outputs": [],
   "source": [
    "user_train_ = user_train_.values"
   ]
  },
  {
   "cell_type": "code",
   "execution_count": 54,
   "id": "b87524da-1400-4bd0-b88c-ad67682da021",
   "metadata": {
    "tags": []
   },
   "outputs": [
    {
     "name": "stdout",
     "output_type": "stream",
     "text": [
      "Number of training vectors: 226638\n"
     ]
    }
   ],
   "source": [
    "print(f\"Number of training vectors: {len(offers_train_)}\")"
   ]
  },
  {
   "cell_type": "markdown",
   "id": "edddf125-a7fe-4a28-ad71-8406a75fe28b",
   "metadata": {
    "tags": []
   },
   "source": [
    "### Building the NN architecture"
   ]
  },
  {
   "cell_type": "code",
   "execution_count": 55,
   "id": "9f488a4c-5540-4337-89d2-781496bd9be7",
   "metadata": {
    "tags": []
   },
   "outputs": [],
   "source": [
    "def create_model(l1, l2, num_outputs):\n",
    "\n",
    "    tf.random.set_seed(1)\n",
    "    user_NN = tf.keras.models.Sequential([\n",
    "        #tf.keras.layers.BatchNormalization(),\n",
    "        tf.keras.layers.Dense(l1, activation=\"relu\", name=\"U1\"),\n",
    "        #tf.keras.layers.BatchNormalization(),\n",
    "        tf.keras.layers.Dense(l2, activation=\"relu\", name=\"U2\"),\n",
    "        tf.keras.layers.Dense(num_outputs, activation=\"linear\",\n",
    "                              name=\"User_embeddings\")\n",
    "    ])\n",
    "\n",
    "    offers_NN = tf.keras.models.Sequential([\n",
    "        #tf.keras.layers.BatchNormalization(),\n",
    "        tf.keras.layers.Dense(l1, activation=\"relu\", name=\"M1\"),\n",
    "        #tf.keras.layers.BatchNormalization(),\n",
    "        tf.keras.layers.Dense(l2, activation=\"relu\", name=\"M2\"),\n",
    "        tf.keras.layers.Dense(num_outputs, activation=\"linear\",\n",
    "                              name=\"Offers_embeddings\")  \n",
    "    ])\n",
    "\n",
    "    # create the user input and point to the base network\n",
    "    input_user = tf.keras.layers.Input(shape=(num_user_features))\n",
    "    vu = user_NN(input_user)\n",
    "    vu = tf.linalg.l2_normalize(vu, axis=1)\n",
    "\n",
    "    # create the offers input and point to the base network\n",
    "    input_offers = tf.keras.layers.Input(shape=(num_offers_features))\n",
    "    vm = offers_NN(input_offers)\n",
    "    vm = tf.linalg.l2_normalize(vm, axis=1)\n",
    "\n",
    "    # compute the dot product of the two vectors vu and vm\n",
    "    output = tf.keras.layers.Dot(axes=1)([vu, vm])\n",
    "    # specify the inputs and output of the model\n",
    "    model = tf.keras.Model([input_user, input_offers], output)\n",
    "    \n",
    "    cost_fn = tf.keras.losses.BinaryCrossentropy()\n",
    "    opt = keras.optimizers.Adam(learning_rate=0.01)\n",
    "    model.compile(optimizer=opt, loss=cost_fn)\n",
    "    \n",
    "    print(model.summary())\n",
    "    \n",
    "    return model"
   ]
  },
  {
   "cell_type": "code",
   "execution_count": 56,
   "id": "3d866858-1b7b-4c86-8e1a-3576f77bdd78",
   "metadata": {
    "tags": []
   },
   "outputs": [
    {
     "data": {
      "text/plain": [
       "array([[0., 0., 3., 1.],\n",
       "       [0., 0., 3., 1.],\n",
       "       [0., 0., 3., 1.],\n",
       "       ...,\n",
       "       [0., 0., 2., 0.],\n",
       "       [1., 1., 2., 1.],\n",
       "       [1., 1., 2., 0.]])"
      ]
     },
     "execution_count": 56,
     "metadata": {},
     "output_type": "execute_result"
    }
   ],
   "source": [
    "user_train_[:,new_feataures_dict[\"features_list_1\"]]"
   ]
  },
  {
   "cell_type": "code",
   "execution_count": 57,
   "id": "bc350a3f-c094-4007-9084-ee221bccf661",
   "metadata": {
    "tags": []
   },
   "outputs": [
    {
     "data": {
      "text/plain": [
       "[2, 3, 8, 12]"
      ]
     },
     "execution_count": 57,
     "metadata": {},
     "output_type": "execute_result"
    }
   ],
   "source": [
    "new_feataures_dict[\"features_list_1\"]"
   ]
  },
  {
   "cell_type": "markdown",
   "id": "270f0d29-f30c-4d89-ba14-979b0956de3b",
   "metadata": {
    "tags": []
   },
   "source": [
    "### Preparing the training data / Model Training"
   ]
  },
  {
   "cell_type": "code",
   "execution_count": 58,
   "id": "063b55bb-e297-4aa5-8613-51bd8a5db085",
   "metadata": {
    "tags": []
   },
   "outputs": [
    {
     "name": "stdout",
     "output_type": "stream",
     "text": [
      "Number of User Features:  4\n",
      "\n",
      "\n",
      "Number of Offer Features:  25\n",
      "\n",
      "\n",
      "Offers_train_unscaled matches inverse transform:  True\n",
      "User_train_unscaled matches inverse transform:  True\n"
     ]
    },
    {
     "name": "stderr",
     "output_type": "stream",
     "text": [
      "2023-08-16 08:39:14.107370: I tensorflow/stream_executor/cuda/cuda_gpu_executor.cc:980] successful NUMA node read from SysFS had negative value (-1), but there must be at least one NUMA node, so returning NUMA node zero\n",
      "2023-08-16 08:39:14.113540: I tensorflow/stream_executor/cuda/cuda_gpu_executor.cc:980] successful NUMA node read from SysFS had negative value (-1), but there must be at least one NUMA node, so returning NUMA node zero\n",
      "2023-08-16 08:39:14.114162: I tensorflow/stream_executor/cuda/cuda_gpu_executor.cc:980] successful NUMA node read from SysFS had negative value (-1), but there must be at least one NUMA node, so returning NUMA node zero\n",
      "2023-08-16 08:39:14.115489: I tensorflow/core/platform/cpu_feature_guard.cc:193] This TensorFlow binary is optimized with oneAPI Deep Neural Network Library (oneDNN) to use the following CPU instructions in performance-critical operations:  AVX512F AVX512_VNNI\n",
      "To enable them in other operations, rebuild TensorFlow with the appropriate compiler flags.\n",
      "2023-08-16 08:39:14.115904: I tensorflow/stream_executor/cuda/cuda_gpu_executor.cc:980] successful NUMA node read from SysFS had negative value (-1), but there must be at least one NUMA node, so returning NUMA node zero\n",
      "2023-08-16 08:39:14.116490: I tensorflow/stream_executor/cuda/cuda_gpu_executor.cc:980] successful NUMA node read from SysFS had negative value (-1), but there must be at least one NUMA node, so returning NUMA node zero\n",
      "2023-08-16 08:39:14.117008: I tensorflow/stream_executor/cuda/cuda_gpu_executor.cc:980] successful NUMA node read from SysFS had negative value (-1), but there must be at least one NUMA node, so returning NUMA node zero\n",
      "2023-08-16 08:39:14.557943: I tensorflow/stream_executor/cuda/cuda_gpu_executor.cc:980] successful NUMA node read from SysFS had negative value (-1), but there must be at least one NUMA node, so returning NUMA node zero\n",
      "2023-08-16 08:39:14.558579: I tensorflow/stream_executor/cuda/cuda_gpu_executor.cc:980] successful NUMA node read from SysFS had negative value (-1), but there must be at least one NUMA node, so returning NUMA node zero\n",
      "2023-08-16 08:39:14.559113: I tensorflow/stream_executor/cuda/cuda_gpu_executor.cc:980] successful NUMA node read from SysFS had negative value (-1), but there must be at least one NUMA node, so returning NUMA node zero\n",
      "2023-08-16 08:39:14.559662: I tensorflow/core/common_runtime/gpu/gpu_device.cc:1616] Created device /job:localhost/replica:0/task:0/device:GPU:0 with 13829 MB memory:  -> device: 0, name: Tesla T4, pci bus id: 0000:00:1e.0, compute capability: 7.5\n"
     ]
    },
    {
     "name": "stdout",
     "output_type": "stream",
     "text": [
      "Extension horovod.torch has not been built: /usr/local/lib/python3.9/site-packages/horovod/torch/mpi_lib/_mpi_lib.cpython-39-x86_64-linux-gnu.so not found\n",
      "If this is not expected, reinstall Horovod with HOROVOD_WITH_PYTORCH=1 to debug the build error.\n",
      "Warning! MPI libs are missing, but python applications are still available.\n",
      "[2023-08-16 08:39:15.230 tensorflow-2-10-1-g-ml-g4dn-xlarge-b79449e884a287b905b9fc5684f4:4088 INFO utils.py:28] RULE_JOB_STOP_SIGNAL_FILENAME: None\n",
      "[2023-08-16 08:39:15.460 tensorflow-2-10-1-g-ml-g4dn-xlarge-b79449e884a287b905b9fc5684f4:4088 INFO profiler_config_parser.py:111] Unable to find config at /opt/ml/input/config/profilerconfig.json. Profiler is disabled.\n"
     ]
    },
    {
     "name": "stderr",
     "output_type": "stream",
     "text": [
      "/usr/local/lib/python3.9/site-packages/smdebug-1.0.26b20230210-py3.9.egg/smdebug/profiler/system_metrics_reader.py:78: SyntaxWarning: \"is not\" with a literal. Did you mean \"!=\"?\n",
      "/usr/local/lib/python3.9/site-packages/smdebug-1.0.26b20230210-py3.9.egg/smdebug/profiler/system_metrics_reader.py:78: SyntaxWarning: \"is not\" with a literal. Did you mean \"!=\"?\n"
     ]
    },
    {
     "name": "stdout",
     "output_type": "stream",
     "text": [
      "Model: \"model\"\n",
      "__________________________________________________________________________________________________\n",
      " Layer (type)                   Output Shape         Param #     Connected to                     \n",
      "==================================================================================================\n",
      " input_1 (InputLayer)           [(None, 4)]          0           []                               \n",
      "                                                                                                  \n",
      " input_2 (InputLayer)           [(None, 25)]         0           []                               \n",
      "                                                                                                  \n",
      " sequential (Sequential)        (None, 32)           10976       ['input_1[0][0]']                \n",
      "                                                                                                  \n",
      " sequential_1 (Sequential)      (None, 32)           13664       ['input_2[0][0]']                \n",
      "                                                                                                  \n",
      " tf.math.l2_normalize (TFOpLamb  (None, 32)          0           ['sequential[0][0]']             \n",
      " da)                                                                                              \n",
      "                                                                                                  \n",
      " tf.math.l2_normalize_1 (TFOpLa  (None, 32)          0           ['sequential_1[0][0]']           \n",
      " mbda)                                                                                            \n",
      "                                                                                                  \n",
      " dot (Dot)                      (None, 1)            0           ['tf.math.l2_normalize[0][0]',   \n",
      "                                                                  'tf.math.l2_normalize_1[0][0]'] \n",
      "                                                                                                  \n",
      "==================================================================================================\n",
      "Total params: 24,640\n",
      "Trainable params: 24,640\n",
      "Non-trainable params: 0\n",
      "__________________________________________________________________________________________________\n",
      "None\n",
      "Epoch 1/20\n",
      "23/23 [==============================] - 2s 32ms/step - loss: 0.4943 - val_loss: 0.4096\n",
      "Epoch 2/20\n",
      "23/23 [==============================] - 0s 21ms/step - loss: 0.6067 - val_loss: 0.4837\n",
      "Epoch 3/20\n",
      "23/23 [==============================] - 0s 21ms/step - loss: 0.4236 - val_loss: 0.4659\n",
      "Epoch 4/20\n",
      "23/23 [==============================] - 0s 22ms/step - loss: 0.4489 - val_loss: 0.4149\n",
      "Epoch 5/20\n",
      "23/23 [==============================] - 0s 22ms/step - loss: 0.4380 - val_loss: 0.3637\n",
      "Epoch 6/20\n",
      "23/23 [==============================] - 0s 22ms/step - loss: 0.3355 - val_loss: 0.3388\n",
      "Epoch 7/20\n",
      "23/23 [==============================] - 0s 21ms/step - loss: 0.3165 - val_loss: 0.3358\n",
      "Epoch 8/20\n",
      "23/23 [==============================] - 0s 21ms/step - loss: 0.3086 - val_loss: 0.2931\n",
      "Epoch 9/20\n",
      "23/23 [==============================] - 0s 21ms/step - loss: 0.2859 - val_loss: 0.2928\n",
      "Epoch 10/20\n",
      "23/23 [==============================] - 0s 21ms/step - loss: 0.2760 - val_loss: 0.2813\n",
      "Epoch 11/20\n",
      "23/23 [==============================] - 0s 21ms/step - loss: 0.2710 - val_loss: 0.2727\n",
      "Epoch 12/20\n",
      "23/23 [==============================] - 0s 21ms/step - loss: 0.2708 - val_loss: 0.3871\n",
      "Epoch 13/20\n",
      "23/23 [==============================] - 0s 21ms/step - loss: 0.3688 - val_loss: 0.3049\n",
      "Epoch 14/20\n",
      "23/23 [==============================] - 0s 21ms/step - loss: 0.2792 - val_loss: 0.2706\n",
      "Epoch 15/20\n",
      "23/23 [==============================] - 0s 22ms/step - loss: 0.2704 - val_loss: 0.2760\n",
      "Epoch 16/20\n",
      "23/23 [==============================] - 0s 21ms/step - loss: 0.3000 - val_loss: 0.2756\n",
      "Epoch 17/20\n",
      "23/23 [==============================] - 0s 21ms/step - loss: 0.2676 - val_loss: 0.2682\n",
      "Epoch 18/20\n",
      "23/23 [==============================] - 0s 21ms/step - loss: 0.2633 - val_loss: 0.2685\n",
      "Epoch 19/20\n",
      "23/23 [==============================] - 0s 21ms/step - loss: 0.2612 - val_loss: 0.2652\n",
      "Epoch 20/20\n",
      "23/23 [==============================] - 0s 21ms/step - loss: 0.2592 - val_loss: 0.2686\n",
      "Number of User Features:  5\n",
      "\n",
      "\n",
      "Number of Offer Features:  25\n",
      "\n",
      "\n",
      "Offers_train_unscaled matches inverse transform:  True\n",
      "User_train_unscaled matches inverse transform:  True\n",
      "Model: \"model_1\"\n",
      "__________________________________________________________________________________________________\n",
      " Layer (type)                   Output Shape         Param #     Connected to                     \n",
      "==================================================================================================\n",
      " input_3 (InputLayer)           [(None, 5)]          0           []                               \n",
      "                                                                                                  \n",
      " input_4 (InputLayer)           [(None, 25)]         0           []                               \n",
      "                                                                                                  \n",
      " sequential_2 (Sequential)      (None, 32)           11104       ['input_3[0][0]']                \n",
      "                                                                                                  \n",
      " sequential_3 (Sequential)      (None, 32)           13664       ['input_4[0][0]']                \n",
      "                                                                                                  \n",
      " tf.math.l2_normalize_2 (TFOpLa  (None, 32)          0           ['sequential_2[0][0]']           \n",
      " mbda)                                                                                            \n",
      "                                                                                                  \n",
      " tf.math.l2_normalize_3 (TFOpLa  (None, 32)          0           ['sequential_3[0][0]']           \n",
      " mbda)                                                                                            \n",
      "                                                                                                  \n",
      " dot_1 (Dot)                    (None, 1)            0           ['tf.math.l2_normalize_2[0][0]', \n",
      "                                                                  'tf.math.l2_normalize_3[0][0]'] \n",
      "                                                                                                  \n",
      "==================================================================================================\n",
      "Total params: 24,768\n",
      "Trainable params: 24,768\n",
      "Non-trainable params: 0\n",
      "__________________________________________________________________________________________________\n",
      "None\n",
      "Epoch 1/20\n",
      "23/23 [==============================] - 1s 31ms/step - loss: 0.8152 - val_loss: 0.5494\n",
      "Epoch 2/20\n",
      "23/23 [==============================] - 0s 21ms/step - loss: 0.4521 - val_loss: 0.4477\n",
      "Epoch 3/20\n",
      "23/23 [==============================] - 0s 21ms/step - loss: 0.4469 - val_loss: 0.3135\n",
      "Epoch 4/20\n",
      "23/23 [==============================] - 0s 22ms/step - loss: 0.2890 - val_loss: 0.3027\n",
      "Epoch 5/20\n",
      "23/23 [==============================] - 0s 21ms/step - loss: 0.2752 - val_loss: 0.2674\n",
      "Epoch 6/20\n",
      "23/23 [==============================] - 0s 21ms/step - loss: 0.2505 - val_loss: 0.2596\n",
      "Epoch 7/20\n",
      "23/23 [==============================] - 0s 21ms/step - loss: 0.2374 - val_loss: 0.2498\n",
      "Epoch 8/20\n",
      "23/23 [==============================] - 0s 21ms/step - loss: 0.2373 - val_loss: 0.2480\n",
      "Epoch 9/20\n",
      "23/23 [==============================] - 0s 21ms/step - loss: 0.2346 - val_loss: 0.2944\n",
      "Epoch 10/20\n",
      "23/23 [==============================] - 0s 21ms/step - loss: 0.2790 - val_loss: 0.2458\n",
      "Epoch 11/20\n",
      "23/23 [==============================] - 0s 21ms/step - loss: 0.2354 - val_loss: 0.2352\n",
      "Epoch 12/20\n",
      "23/23 [==============================] - 0s 21ms/step - loss: 0.2251 - val_loss: 0.2321\n",
      "Epoch 13/20\n",
      "23/23 [==============================] - 0s 21ms/step - loss: 0.2223 - val_loss: 0.2296\n",
      "Epoch 14/20\n",
      "23/23 [==============================] - 0s 21ms/step - loss: 0.2206 - val_loss: 0.2294\n",
      "Epoch 15/20\n",
      "23/23 [==============================] - 0s 21ms/step - loss: 0.2196 - val_loss: 0.2280\n",
      "Epoch 16/20\n",
      "23/23 [==============================] - 0s 21ms/step - loss: 0.2142 - val_loss: 0.2251\n",
      "Epoch 17/20\n",
      "23/23 [==============================] - 0s 21ms/step - loss: 0.2138 - val_loss: 0.2307\n",
      "Epoch 18/20\n",
      "23/23 [==============================] - 0s 21ms/step - loss: 0.2171 - val_loss: 0.2200\n",
      "Epoch 19/20\n",
      "23/23 [==============================] - 0s 21ms/step - loss: 0.2131 - val_loss: 0.2216\n",
      "Epoch 20/20\n",
      "23/23 [==============================] - 0s 21ms/step - loss: 0.2113 - val_loss: 0.2272\n",
      "Number of User Features:  7\n",
      "\n",
      "\n",
      "Number of Offer Features:  25\n",
      "\n",
      "\n",
      "Offers_train_unscaled matches inverse transform:  True\n",
      "User_train_unscaled matches inverse transform:  True\n",
      "Model: \"model_2\"\n",
      "__________________________________________________________________________________________________\n",
      " Layer (type)                   Output Shape         Param #     Connected to                     \n",
      "==================================================================================================\n",
      " input_5 (InputLayer)           [(None, 7)]          0           []                               \n",
      "                                                                                                  \n",
      " input_6 (InputLayer)           [(None, 25)]         0           []                               \n",
      "                                                                                                  \n",
      " sequential_4 (Sequential)      (None, 32)           11360       ['input_5[0][0]']                \n",
      "                                                                                                  \n",
      " sequential_5 (Sequential)      (None, 32)           13664       ['input_6[0][0]']                \n",
      "                                                                                                  \n",
      " tf.math.l2_normalize_4 (TFOpLa  (None, 32)          0           ['sequential_4[0][0]']           \n",
      " mbda)                                                                                            \n",
      "                                                                                                  \n",
      " tf.math.l2_normalize_5 (TFOpLa  (None, 32)          0           ['sequential_5[0][0]']           \n",
      " mbda)                                                                                            \n",
      "                                                                                                  \n",
      " dot_2 (Dot)                    (None, 1)            0           ['tf.math.l2_normalize_4[0][0]', \n",
      "                                                                  'tf.math.l2_normalize_5[0][0]'] \n",
      "                                                                                                  \n",
      "==================================================================================================\n",
      "Total params: 25,024\n",
      "Trainable params: 25,024\n",
      "Non-trainable params: 0\n",
      "__________________________________________________________________________________________________\n",
      "None\n",
      "Epoch 1/20\n",
      "23/23 [==============================] - 1s 30ms/step - loss: 0.6242 - val_loss: 0.3423\n",
      "Epoch 2/20\n",
      "23/23 [==============================] - 0s 21ms/step - loss: 0.3267 - val_loss: 0.2801\n",
      "Epoch 3/20\n",
      "23/23 [==============================] - 0s 21ms/step - loss: 0.2909 - val_loss: 0.2666\n",
      "Epoch 4/20\n",
      "23/23 [==============================] - 0s 21ms/step - loss: 0.2639 - val_loss: 0.2582\n",
      "Epoch 5/20\n",
      "23/23 [==============================] - 0s 21ms/step - loss: 0.2505 - val_loss: 0.3024\n",
      "Epoch 6/20\n",
      "23/23 [==============================] - 0s 21ms/step - loss: 0.2712 - val_loss: 0.2704\n",
      "Epoch 7/20\n",
      "23/23 [==============================] - 0s 21ms/step - loss: 0.2907 - val_loss: 0.2902\n",
      "Epoch 8/20\n",
      "23/23 [==============================] - 0s 21ms/step - loss: 0.3656 - val_loss: 0.4110\n",
      "Epoch 9/20\n",
      "23/23 [==============================] - 0s 21ms/step - loss: 0.3351 - val_loss: 0.2930\n",
      "Epoch 10/20\n",
      "23/23 [==============================] - 0s 21ms/step - loss: 0.2719 - val_loss: 0.3298\n",
      "Epoch 11/20\n",
      "23/23 [==============================] - 0s 21ms/step - loss: 0.2819 - val_loss: 0.2431\n",
      "Epoch 12/20\n",
      "23/23 [==============================] - 0s 21ms/step - loss: 0.2364 - val_loss: 0.2387\n",
      "Epoch 13/20\n",
      "23/23 [==============================] - 0s 21ms/step - loss: 0.2242 - val_loss: 0.2244\n",
      "Epoch 14/20\n",
      "23/23 [==============================] - 0s 21ms/step - loss: 0.2129 - val_loss: 0.2165\n",
      "Epoch 15/20\n",
      "23/23 [==============================] - 0s 21ms/step - loss: 0.2155 - val_loss: 0.2239\n",
      "Epoch 16/20\n",
      "23/23 [==============================] - 0s 21ms/step - loss: 0.2143 - val_loss: 0.2173\n",
      "Epoch 17/20\n",
      "23/23 [==============================] - 0s 21ms/step - loss: 0.2114 - val_loss: 0.2179\n",
      "Epoch 18/20\n",
      "23/23 [==============================] - 0s 21ms/step - loss: 0.2065 - val_loss: 0.2138\n",
      "Epoch 19/20\n",
      "23/23 [==============================] - 0s 21ms/step - loss: 0.2039 - val_loss: 0.2116\n",
      "Epoch 20/20\n",
      "23/23 [==============================] - 0s 21ms/step - loss: 0.2028 - val_loss: 0.2166\n",
      "Number of User Features:  11\n",
      "\n",
      "\n",
      "Number of Offer Features:  25\n",
      "\n",
      "\n",
      "Offers_train_unscaled matches inverse transform:  True\n",
      "User_train_unscaled matches inverse transform:  True\n",
      "Model: \"model_3\"\n",
      "__________________________________________________________________________________________________\n",
      " Layer (type)                   Output Shape         Param #     Connected to                     \n",
      "==================================================================================================\n",
      " input_7 (InputLayer)           [(None, 11)]         0           []                               \n",
      "                                                                                                  \n",
      " input_8 (InputLayer)           [(None, 25)]         0           []                               \n",
      "                                                                                                  \n",
      " sequential_6 (Sequential)      (None, 32)           11872       ['input_7[0][0]']                \n",
      "                                                                                                  \n",
      " sequential_7 (Sequential)      (None, 32)           13664       ['input_8[0][0]']                \n",
      "                                                                                                  \n",
      " tf.math.l2_normalize_6 (TFOpLa  (None, 32)          0           ['sequential_6[0][0]']           \n",
      " mbda)                                                                                            \n",
      "                                                                                                  \n",
      " tf.math.l2_normalize_7 (TFOpLa  (None, 32)          0           ['sequential_7[0][0]']           \n",
      " mbda)                                                                                            \n",
      "                                                                                                  \n",
      " dot_3 (Dot)                    (None, 1)            0           ['tf.math.l2_normalize_6[0][0]', \n",
      "                                                                  'tf.math.l2_normalize_7[0][0]'] \n",
      "                                                                                                  \n",
      "==================================================================================================\n",
      "Total params: 25,536\n",
      "Trainable params: 25,536\n",
      "Non-trainable params: 0\n",
      "__________________________________________________________________________________________________\n",
      "None\n",
      "Epoch 1/20\n",
      "23/23 [==============================] - 1s 30ms/step - loss: 0.6106 - val_loss: 0.3656\n",
      "Epoch 2/20\n",
      "23/23 [==============================] - 0s 21ms/step - loss: 0.3375 - val_loss: 0.3162\n",
      "Epoch 3/20\n",
      "23/23 [==============================] - 0s 21ms/step - loss: 0.2834 - val_loss: 0.2536\n",
      "Epoch 4/20\n",
      "23/23 [==============================] - 0s 22ms/step - loss: 0.2376 - val_loss: 0.2384\n",
      "Epoch 5/20\n",
      "23/23 [==============================] - 0s 21ms/step - loss: 0.2280 - val_loss: 0.2221\n",
      "Epoch 6/20\n",
      "23/23 [==============================] - 0s 21ms/step - loss: 0.2115 - val_loss: 0.2213\n",
      "Epoch 7/20\n",
      "23/23 [==============================] - 0s 21ms/step - loss: 0.2471 - val_loss: 0.3245\n",
      "Epoch 8/20\n",
      "23/23 [==============================] - 0s 21ms/step - loss: 0.2405 - val_loss: 0.2648\n",
      "Epoch 9/20\n",
      "23/23 [==============================] - 0s 21ms/step - loss: 0.2464 - val_loss: 0.2259\n",
      "Epoch 10/20\n",
      "23/23 [==============================] - 0s 21ms/step - loss: 0.2032 - val_loss: 0.2136\n",
      "Epoch 11/20\n",
      "23/23 [==============================] - 0s 21ms/step - loss: 0.1981 - val_loss: 0.2114\n",
      "Epoch 12/20\n",
      "23/23 [==============================] - 0s 21ms/step - loss: 0.1963 - val_loss: 0.2087\n",
      "Epoch 13/20\n",
      "23/23 [==============================] - 0s 21ms/step - loss: 0.1953 - val_loss: 0.2003\n",
      "Epoch 14/20\n",
      "23/23 [==============================] - 0s 21ms/step - loss: 0.1892 - val_loss: 0.1993\n",
      "Epoch 15/20\n",
      "23/23 [==============================] - 0s 21ms/step - loss: 0.1874 - val_loss: 0.1970\n",
      "Epoch 16/20\n",
      "23/23 [==============================] - 0s 21ms/step - loss: 0.1949 - val_loss: 0.1961\n",
      "Epoch 17/20\n",
      "23/23 [==============================] - 0s 21ms/step - loss: 0.1868 - val_loss: 0.1986\n",
      "Epoch 18/20\n",
      "23/23 [==============================] - 0s 21ms/step - loss: 0.1835 - val_loss: 0.2057\n",
      "Epoch 19/20\n",
      "23/23 [==============================] - 0s 21ms/step - loss: 0.2102 - val_loss: 0.2125\n",
      "Epoch 20/20\n",
      "23/23 [==============================] - 0s 21ms/step - loss: 0.1925 - val_loss: 0.2040\n",
      "Number of User Features:  15\n",
      "\n",
      "\n",
      "Number of Offer Features:  25\n",
      "\n",
      "\n",
      "Offers_train_unscaled matches inverse transform:  True\n",
      "User_train_unscaled matches inverse transform:  True\n",
      "Model: \"model_4\"\n",
      "__________________________________________________________________________________________________\n",
      " Layer (type)                   Output Shape         Param #     Connected to                     \n",
      "==================================================================================================\n",
      " input_9 (InputLayer)           [(None, 15)]         0           []                               \n",
      "                                                                                                  \n",
      " input_10 (InputLayer)          [(None, 25)]         0           []                               \n",
      "                                                                                                  \n",
      " sequential_8 (Sequential)      (None, 32)           12384       ['input_9[0][0]']                \n",
      "                                                                                                  \n",
      " sequential_9 (Sequential)      (None, 32)           13664       ['input_10[0][0]']               \n",
      "                                                                                                  \n",
      " tf.math.l2_normalize_8 (TFOpLa  (None, 32)          0           ['sequential_8[0][0]']           \n",
      " mbda)                                                                                            \n",
      "                                                                                                  \n",
      " tf.math.l2_normalize_9 (TFOpLa  (None, 32)          0           ['sequential_9[0][0]']           \n",
      " mbda)                                                                                            \n",
      "                                                                                                  \n",
      " dot_4 (Dot)                    (None, 1)            0           ['tf.math.l2_normalize_8[0][0]', \n",
      "                                                                  'tf.math.l2_normalize_9[0][0]'] \n",
      "                                                                                                  \n",
      "==================================================================================================\n",
      "Total params: 26,048\n",
      "Trainable params: 26,048\n",
      "Non-trainable params: 0\n",
      "__________________________________________________________________________________________________\n",
      "None\n",
      "Epoch 1/20\n",
      "23/23 [==============================] - 1s 31ms/step - loss: 0.5464 - val_loss: 0.4141\n",
      "Epoch 2/20\n",
      "23/23 [==============================] - 0s 22ms/step - loss: 0.3567 - val_loss: 0.2809\n",
      "Epoch 3/20\n",
      "23/23 [==============================] - 0s 22ms/step - loss: 0.2757 - val_loss: 0.2582\n",
      "Epoch 4/20\n",
      "23/23 [==============================] - 0s 22ms/step - loss: 0.2517 - val_loss: 0.2435\n",
      "Epoch 5/20\n",
      "23/23 [==============================] - 0s 21ms/step - loss: 0.2442 - val_loss: 0.2731\n",
      "Epoch 6/20\n",
      "23/23 [==============================] - 0s 21ms/step - loss: 0.2429 - val_loss: 0.2255\n",
      "Epoch 7/20\n",
      "23/23 [==============================] - 0s 21ms/step - loss: 0.2310 - val_loss: 0.2228\n",
      "Epoch 8/20\n",
      "23/23 [==============================] - 0s 21ms/step - loss: 0.2053 - val_loss: 0.2068\n",
      "Epoch 9/20\n",
      "23/23 [==============================] - 0s 21ms/step - loss: 0.1999 - val_loss: 0.2207\n",
      "Epoch 10/20\n",
      "23/23 [==============================] - 0s 21ms/step - loss: 0.1941 - val_loss: 0.2158\n",
      "Epoch 11/20\n",
      "23/23 [==============================] - 0s 21ms/step - loss: 0.1928 - val_loss: 0.2177\n",
      "Epoch 12/20\n",
      "23/23 [==============================] - 0s 21ms/step - loss: 0.1913 - val_loss: 0.2061\n",
      "Epoch 13/20\n",
      "23/23 [==============================] - 1s 33ms/step - loss: 0.1980 - val_loss: 0.2687\n",
      "Epoch 14/20\n",
      "23/23 [==============================] - 0s 21ms/step - loss: 0.2156 - val_loss: 0.2051\n",
      "Epoch 15/20\n",
      "23/23 [==============================] - 0s 21ms/step - loss: 0.1933 - val_loss: 0.2099\n",
      "Epoch 16/20\n",
      "23/23 [==============================] - 0s 21ms/step - loss: 0.1883 - val_loss: 0.2391\n",
      "Epoch 17/20\n",
      "23/23 [==============================] - 0s 21ms/step - loss: 0.2071 - val_loss: 0.2204\n",
      "Epoch 18/20\n",
      "23/23 [==============================] - 0s 21ms/step - loss: 0.1938 - val_loss: 0.2078\n",
      "Epoch 19/20\n",
      "23/23 [==============================] - 0s 21ms/step - loss: 0.1907 - val_loss: 0.2096\n",
      "Epoch 20/20\n",
      "23/23 [==============================] - 0s 21ms/step - loss: 0.1921 - val_loss: 0.2001\n",
      "Number of User Features:  34\n",
      "\n",
      "\n",
      "Number of Offer Features:  25\n",
      "\n",
      "\n",
      "Offers_train_unscaled matches inverse transform:  True\n",
      "User_train_unscaled matches inverse transform:  True\n",
      "Model: \"model_5\"\n",
      "__________________________________________________________________________________________________\n",
      " Layer (type)                   Output Shape         Param #     Connected to                     \n",
      "==================================================================================================\n",
      " input_11 (InputLayer)          [(None, 34)]         0           []                               \n",
      "                                                                                                  \n",
      " input_12 (InputLayer)          [(None, 25)]         0           []                               \n",
      "                                                                                                  \n",
      " sequential_10 (Sequential)     (None, 32)           14816       ['input_11[0][0]']               \n",
      "                                                                                                  \n",
      " sequential_11 (Sequential)     (None, 32)           13664       ['input_12[0][0]']               \n",
      "                                                                                                  \n",
      " tf.math.l2_normalize_10 (TFOpL  (None, 32)          0           ['sequential_10[0][0]']          \n",
      " ambda)                                                                                           \n",
      "                                                                                                  \n",
      " tf.math.l2_normalize_11 (TFOpL  (None, 32)          0           ['sequential_11[0][0]']          \n",
      " ambda)                                                                                           \n",
      "                                                                                                  \n",
      " dot_5 (Dot)                    (None, 1)            0           ['tf.math.l2_normalize_10[0][0]',\n",
      "                                                                  'tf.math.l2_normalize_11[0][0]']\n",
      "                                                                                                  \n",
      "==================================================================================================\n",
      "Total params: 28,480\n",
      "Trainable params: 28,480\n",
      "Non-trainable params: 0\n",
      "__________________________________________________________________________________________________\n",
      "None\n",
      "Epoch 1/20\n",
      "23/23 [==============================] - 1s 32ms/step - loss: 0.6536 - val_loss: 0.5919\n",
      "Epoch 2/20\n",
      "23/23 [==============================] - 0s 22ms/step - loss: 0.4296 - val_loss: 0.3312\n",
      "Epoch 3/20\n",
      "23/23 [==============================] - 0s 22ms/step - loss: 0.2911 - val_loss: 0.2641\n",
      "Epoch 4/20\n",
      "23/23 [==============================] - 0s 21ms/step - loss: 0.2537 - val_loss: 0.2699\n",
      "Epoch 5/20\n",
      "23/23 [==============================] - 0s 22ms/step - loss: 0.2437 - val_loss: 0.2491\n",
      "Epoch 6/20\n",
      "23/23 [==============================] - 0s 22ms/step - loss: 0.2944 - val_loss: 0.2623\n",
      "Epoch 7/20\n",
      "23/23 [==============================] - 0s 22ms/step - loss: 0.2505 - val_loss: 0.2471\n",
      "Epoch 8/20\n",
      "23/23 [==============================] - 0s 22ms/step - loss: 0.2212 - val_loss: 0.2319\n",
      "Epoch 9/20\n",
      "23/23 [==============================] - 0s 22ms/step - loss: 0.2154 - val_loss: 0.2286\n",
      "Epoch 10/20\n",
      "23/23 [==============================] - 0s 21ms/step - loss: 0.2263 - val_loss: 0.2183\n",
      "Epoch 11/20\n",
      "23/23 [==============================] - 0s 21ms/step - loss: 0.2106 - val_loss: 0.2288\n",
      "Epoch 12/20\n",
      "23/23 [==============================] - 0s 21ms/step - loss: 0.2063 - val_loss: 0.2538\n",
      "Epoch 13/20\n",
      "23/23 [==============================] - 0s 21ms/step - loss: 0.2107 - val_loss: 0.2187\n",
      "Epoch 14/20\n",
      "23/23 [==============================] - 0s 22ms/step - loss: 0.2231 - val_loss: 0.2968\n",
      "Epoch 15/20\n",
      "23/23 [==============================] - 0s 21ms/step - loss: 0.2391 - val_loss: 0.2179\n",
      "Epoch 16/20\n",
      "23/23 [==============================] - 1s 33ms/step - loss: 0.2019 - val_loss: 0.2071\n",
      "Epoch 17/20\n",
      "23/23 [==============================] - 0s 21ms/step - loss: 0.1936 - val_loss: 0.2058\n",
      "Epoch 18/20\n",
      "23/23 [==============================] - 0s 21ms/step - loss: 0.1918 - val_loss: 0.2063\n",
      "Epoch 19/20\n",
      "23/23 [==============================] - 0s 22ms/step - loss: 0.1950 - val_loss: 0.2129\n",
      "Epoch 20/20\n",
      "23/23 [==============================] - 1s 23ms/step - loss: 0.1885 - val_loss: 0.2093\n",
      "Number of User Features:  123\n",
      "\n",
      "\n",
      "Number of Offer Features:  25\n",
      "\n",
      "\n",
      "Offers_train_unscaled matches inverse transform:  True\n",
      "User_train_unscaled matches inverse transform:  True\n",
      "Model: \"model_6\"\n",
      "__________________________________________________________________________________________________\n",
      " Layer (type)                   Output Shape         Param #     Connected to                     \n",
      "==================================================================================================\n",
      " input_13 (InputLayer)          [(None, 123)]        0           []                               \n",
      "                                                                                                  \n",
      " input_14 (InputLayer)          [(None, 25)]         0           []                               \n",
      "                                                                                                  \n",
      " sequential_12 (Sequential)     (None, 32)           26208       ['input_13[0][0]']               \n",
      "                                                                                                  \n",
      " sequential_13 (Sequential)     (None, 32)           13664       ['input_14[0][0]']               \n",
      "                                                                                                  \n",
      " tf.math.l2_normalize_12 (TFOpL  (None, 32)          0           ['sequential_12[0][0]']          \n",
      " ambda)                                                                                           \n",
      "                                                                                                  \n",
      " tf.math.l2_normalize_13 (TFOpL  (None, 32)          0           ['sequential_13[0][0]']          \n",
      " ambda)                                                                                           \n",
      "                                                                                                  \n",
      " dot_6 (Dot)                    (None, 1)            0           ['tf.math.l2_normalize_12[0][0]',\n",
      "                                                                  'tf.math.l2_normalize_13[0][0]']\n",
      "                                                                                                  \n",
      "==================================================================================================\n",
      "Total params: 39,872\n",
      "Trainable params: 39,872\n",
      "Non-trainable params: 0\n",
      "__________________________________________________________________________________________________\n",
      "None\n",
      "Epoch 1/20\n",
      "23/23 [==============================] - 2s 44ms/step - loss: 0.5032 - val_loss: 0.3121\n",
      "Epoch 2/20\n",
      "23/23 [==============================] - 1s 24ms/step - loss: 0.3178 - val_loss: 0.3922\n",
      "Epoch 3/20\n",
      "23/23 [==============================] - 1s 23ms/step - loss: 0.2590 - val_loss: 0.2369\n",
      "Epoch 4/20\n",
      "23/23 [==============================] - 0s 22ms/step - loss: 0.2448 - val_loss: 0.2571\n",
      "Epoch 5/20\n",
      "23/23 [==============================] - 1s 23ms/step - loss: 0.2561 - val_loss: 0.2415\n",
      "Epoch 6/20\n",
      "23/23 [==============================] - 0s 22ms/step - loss: 0.2386 - val_loss: 0.2400\n",
      "Epoch 7/20\n",
      "23/23 [==============================] - 1s 23ms/step - loss: 0.2180 - val_loss: 0.2197\n",
      "Epoch 8/20\n",
      "23/23 [==============================] - 0s 22ms/step - loss: 0.2023 - val_loss: 0.2228\n",
      "Epoch 9/20\n",
      "23/23 [==============================] - 1s 23ms/step - loss: 0.1938 - val_loss: 0.2064\n",
      "Epoch 10/20\n",
      "23/23 [==============================] - 1s 23ms/step - loss: 0.1844 - val_loss: 0.2157\n",
      "Epoch 11/20\n",
      "23/23 [==============================] - 1s 23ms/step - loss: 0.1814 - val_loss: 0.2061\n",
      "Epoch 12/20\n",
      "23/23 [==============================] - 1s 23ms/step - loss: 0.1741 - val_loss: 0.2241\n",
      "Epoch 13/20\n",
      "23/23 [==============================] - 1s 23ms/step - loss: 0.1717 - val_loss: 0.2116\n",
      "Epoch 14/20\n",
      "23/23 [==============================] - 0s 22ms/step - loss: 0.1686 - val_loss: 0.2058\n",
      "Epoch 15/20\n",
      "23/23 [==============================] - 1s 23ms/step - loss: 0.1713 - val_loss: 0.2070\n",
      "Epoch 16/20\n",
      "23/23 [==============================] - 0s 22ms/step - loss: 0.1791 - val_loss: 0.2012\n",
      "Epoch 17/20\n",
      "23/23 [==============================] - 0s 22ms/step - loss: 0.1678 - val_loss: 0.2105\n",
      "Epoch 18/20\n",
      "23/23 [==============================] - 1s 23ms/step - loss: 0.1633 - val_loss: 0.2066\n",
      "Epoch 19/20\n",
      "23/23 [==============================] - 1s 23ms/step - loss: 0.1566 - val_loss: 0.2049\n",
      "Epoch 20/20\n",
      "23/23 [==============================] - 0s 22ms/step - loss: 0.1534 - val_loss: 0.2227\n"
     ]
    }
   ],
   "source": [
    "models_history = []\n",
    "\n",
    "for key,value in new_feataures_dict.items():\n",
    "    \n",
    "    user_train = user_train_.copy()[:,value]\n",
    "    # offers_train_ = offers_train_.copy()[:,value]\n",
    "    \n",
    "    X = pd.concat([pd.DataFrame(offers_train_), pd.DataFrame(user_train)], axis=1)\n",
    "    \n",
    "    # print(\"X\",X.shape)\n",
    "    # print(\"y_train_\",len(y_train_))\n",
    "    # print(f\"Features List: {features_dict[key]}\\n\")\n",
    "    \n",
    "    num_user_features = user_train.shape[1] \n",
    "    num_offers_features = offers_train_.shape[1]\n",
    "\n",
    "    print(\"Number of User Features: \", num_user_features)\n",
    "    print(\"\\n\")\n",
    "    print(\"Number of Offer Features: \", num_offers_features)\n",
    "    print(\"\\n\")\n",
    "    \n",
    "    X_train, X_test, y_train, y_test = train_test_split(X, y_train_, \n",
    "                                                        test_size=0.9, \n",
    "                                                        shuffle=True, \n",
    "                                                        random_state=42)\n",
    "    \n",
    "    user_train = X_train.iloc[:,:num_user_features].values\n",
    "    # print(\"user_train\",user_train)\n",
    "    \n",
    "    offers_train = X_train.iloc[:,num_user_features:].values\n",
    "    # print(\"offers_train\",offers_train)\n",
    "    \n",
    "    user_test = X_test.iloc[:,:num_user_features].values\n",
    "    offers_test = X_test.iloc[:,num_user_features:].values\n",
    " \n",
    "    # print(\"user_test\",user_test)\n",
    "    # print(\"offers_test\",offers_test)\n",
    "\n",
    "    offers_train_unscaled = offers_train\n",
    "    # print(\"a\",offers_train_unscaled)\n",
    "    user_train_unscaled = user_train\n",
    "\n",
    "    scaleroffers = StandardScaler()\n",
    "    scaleroffers.fit(offers_train)\n",
    "    offers_train = scaleroffers.transform(offers_train)\n",
    "\n",
    "    scalerUser = StandardScaler()\n",
    "    scalerUser.fit(user_train)\n",
    "    user_train = scalerUser.transform(user_train)\n",
    "\n",
    "    offers_test = scaleroffers.transform(offers_test)\n",
    "    user_test = scalerUser.transform(user_test)\n",
    "\n",
    "    print(\"Offers_train_unscaled matches inverse transform: \", \n",
    "          np.allclose(offers_train_unscaled, \n",
    "                      scaleroffers.inverse_transform(offers_train)))\n",
    "    \n",
    "    print(\"User_train_unscaled matches inverse transform: \",\n",
    "          np.allclose(user_train_unscaled, scalerUser.inverse_transform(user_train)))\n",
    "    \n",
    "    \n",
    "    # Create Model\n",
    "    l1, l2, num_outputs = 128, 64, 32\n",
    "    model = create_model(l1, l2, num_outputs)\n",
    "    \n",
    "    tf.random.set_seed(1)\n",
    "    with tf.device('/GPU:0'):\n",
    "        training = model.fit([user_train, offers_train],\n",
    "                             y_train,\n",
    "                             batch_size=1024,\n",
    "                             validation_data=([user_test, offers_test], \n",
    "                                              y_test), \n",
    "                             epochs=20)\n",
    "    \n",
    "    models_history.append(training)\n",
    "    "
   ]
  },
  {
   "cell_type": "raw",
   "id": "9d73c599-b734-4f00-be3e-faa712c6a358",
   "metadata": {
    "tags": []
   },
   "source": [
    "```python\n",
    "all_indices = np.where(user_train_unscaled != scalerUser.inverse_transform(user_train))\n",
    "\n",
    "print(\"List of some indices in user_train where the inverse transform dosen't match to user_train_unscaled :\\n\")\n",
    "indices_list = []\n",
    "for r,c in zip(all_indices[0], all_indices[1]):\n",
    "    indices_list.append((r,c))\n",
    "    if r == 7: break\n",
    "print(indices_list)\n",
    "\n",
    "user_train_inv_trans = scalerUser.inverse_transform(user_train)\n",
    "for index in indices_list:\n",
    "    print(f\"Index {index}\", user_train_unscaled[index[0],index[1]], user_train_inv_trans[index[0],index[1]])\n",
    "```"
   ]
  },
  {
   "cell_type": "code",
   "execution_count": 59,
   "id": "6f2afb3d-8ea0-495b-9c06-ae811ba84a29",
   "metadata": {
    "tags": []
   },
   "outputs": [
    {
     "ename": "ValueError",
     "evalue": "operands could not be broadcast together with shapes (22663,25) (123,) (22663,25) ",
     "output_type": "error",
     "traceback": [
      "\u001b[0;31m---------------------------------------------------------------------------\u001b[0m",
      "\u001b[0;31mValueError\u001b[0m                                Traceback (most recent call last)",
      "Cell \u001b[0;32mIn[59], line 1\u001b[0m\n\u001b[0;32m----> 1\u001b[0m all_indices \u001b[38;5;241m=\u001b[39m np\u001b[38;5;241m.\u001b[39mwhere(offers_train_unscaled \u001b[38;5;241m!=\u001b[39m \u001b[43mscalerUser\u001b[49m\u001b[38;5;241;43m.\u001b[39;49m\u001b[43minverse_transform\u001b[49m\u001b[43m(\u001b[49m\u001b[43moffers_train\u001b[49m\u001b[43m)\u001b[49m)\n\u001b[1;32m      3\u001b[0m \u001b[38;5;28mprint\u001b[39m(\u001b[38;5;124m\"\u001b[39m\u001b[38;5;124mList of some indices in user_train where the inverse transform dosen\u001b[39m\u001b[38;5;124m'\u001b[39m\u001b[38;5;124mt match to offer_train_unscaled :\u001b[39m\u001b[38;5;130;01m\\n\u001b[39;00m\u001b[38;5;124m\"\u001b[39m)\n\u001b[1;32m      4\u001b[0m indices_list \u001b[38;5;241m=\u001b[39m []\n",
      "File \u001b[0;32m/usr/local/lib/python3.9/site-packages/sklearn/preprocessing/_data.py:1052\u001b[0m, in \u001b[0;36mStandardScaler.inverse_transform\u001b[0;34m(self, X, copy)\u001b[0m\n\u001b[1;32m   1050\u001b[0m \u001b[38;5;28;01melse\u001b[39;00m:\n\u001b[1;32m   1051\u001b[0m     \u001b[38;5;28;01mif\u001b[39;00m \u001b[38;5;28mself\u001b[39m\u001b[38;5;241m.\u001b[39mwith_std:\n\u001b[0;32m-> 1052\u001b[0m         X \u001b[38;5;241m*\u001b[39m\u001b[38;5;241m=\u001b[39m \u001b[38;5;28mself\u001b[39m\u001b[38;5;241m.\u001b[39mscale_\n\u001b[1;32m   1053\u001b[0m     \u001b[38;5;28;01mif\u001b[39;00m \u001b[38;5;28mself\u001b[39m\u001b[38;5;241m.\u001b[39mwith_mean:\n\u001b[1;32m   1054\u001b[0m         X \u001b[38;5;241m+\u001b[39m\u001b[38;5;241m=\u001b[39m \u001b[38;5;28mself\u001b[39m\u001b[38;5;241m.\u001b[39mmean_\n",
      "\u001b[0;31mValueError\u001b[0m: operands could not be broadcast together with shapes (22663,25) (123,) (22663,25) "
     ]
    }
   ],
   "source": [
    "# all_indices = np.where(offers_train_unscaled != scalerUser.inverse_transform(offers_train))\n",
    "\n",
    "# print(\"List of some indices in user_train where the inverse transform dosen't match to offer_train_unscaled :\\n\")\n",
    "# indices_list = []\n",
    "# for r,c in zip(all_indices[0], all_indices[1]):\n",
    "#     indices_list.append((r,c))\n",
    "#     if r == 7: break\n",
    "# print(indices_list)\n",
    "\n",
    "# # user_train_inv_trans = scalerUser.inverse_transform(user_train)\n",
    "# # for index in indices_list:\n",
    "# #     print(f\"Index {index}\", user_train_unscaled[index[0],index[1]], user_train_inv_trans[index[0],index[1]])"
   ]
  },
  {
   "cell_type": "code",
   "execution_count": null,
   "id": "9438c629-8459-4c9e-8ccc-39c0e887cac3",
   "metadata": {
    "tags": []
   },
   "outputs": [],
   "source": [
    "models_history"
   ]
  },
  {
   "cell_type": "code",
   "execution_count": null,
   "id": "7f0b7a8d-808a-4996-9117-9be913568e3b",
   "metadata": {
    "tags": []
   },
   "outputs": [],
   "source": [
    "ax.shape"
   ]
  },
  {
   "cell_type": "code",
   "execution_count": 60,
   "id": "6aaaa848-51a1-4611-8007-36665f70a7fd",
   "metadata": {
    "tags": []
   },
   "outputs": [
    {
     "data": {
      "image/png": "[encoded data removed]",
      "text/plain": [
       "<Figure size 640x480 with 14 Axes>"
      ]
     },
     "metadata": {},
     "output_type": "display_data"
    }
   ],
   "source": [
    "import matplotlib.pyplot as plt\n",
    "#plt.figure(figsize=(50,100))\n",
    "\n",
    "fig, ax = plt.subplots(nrows=len(models_history), ncols=2, sharey=True)\n",
    "\n",
    "#for i,training in enumerate(models_history):\n",
    "\n",
    "ax[0][0].set(title=\"Training\")\n",
    "ax[0][0].plot(models_history[0].history['loss'], color='black')\n",
    "ax[0][0].set_xlabel('Epochs')\n",
    "ax[0][0].set_ylabel('Loss', color='black')\n",
    "\n",
    "\n",
    "ax[0][1].set(title=\"Validation\")\n",
    "ax[0][1].plot(models_history[0].history['val_loss'], color='black')\n",
    "ax[0][1].set_xlabel('Epochs')\n",
    "ax[0][1].set_ylabel('Loss', color='black')\n",
    "\n",
    "ax[1][0].plot(models_history[1].history['loss'], color='black')\n",
    "ax[1][0].set_xlabel('Epochs')\n",
    "ax[1][0].set_ylabel('Loss', color='black')\n",
    "\n",
    "\n",
    "ax[1][1].plot(models_history[1].history['val_loss'], color='black')\n",
    "ax[1][1].set_xlabel('Epochs')\n",
    "ax[1][1].set_ylabel('Loss', color='black')\n",
    "\n",
    "ax[2][0].plot(models_history[2].history['loss'], color='black')\n",
    "ax[2][0].set_xlabel('Epochs')\n",
    "ax[2][0].set_ylabel('Loss', color='black')\n",
    "\n",
    "\n",
    "ax[2][1].plot(models_history[2].history['val_loss'], color='black')\n",
    "ax[2][1].set_xlabel('Epochs')\n",
    "ax[2][1].set_ylabel('Loss', color='black')\n",
    "\n",
    "ax[3][0].plot(models_history[3].history['loss'], color='black')\n",
    "ax[3][0].set_xlabel('Epochs')\n",
    "ax[3][0].set_ylabel('Loss', color='black')\n",
    "\n",
    "\n",
    "ax[3][1].plot(models_history[3].history['val_loss'], color='black')\n",
    "ax[3][1].set_xlabel('Epochs')\n",
    "ax[3][1].set_ylabel('Loss', color='black')\n",
    "\n",
    "ax[4][0].plot(models_history[4].history['loss'], color='black')\n",
    "ax[4][0].set_xlabel('Epochs')\n",
    "ax[4][0].set_ylabel('Loss', color='black')\n",
    "\n",
    "\n",
    "ax[4][1].plot(models_history[4].history['val_loss'], color='black')\n",
    "ax[4][1].set_xlabel('Epochs')\n",
    "ax[4][1].set_ylabel('Loss', color='black')\n",
    "\n",
    "ax[5][0].plot(models_history[5].history['loss'], color='black')\n",
    "ax[5][0].set_xlabel('Epochs')\n",
    "ax[5][0].set_ylabel('Loss', color='black')\n",
    "\n",
    "\n",
    "ax[5][1].plot(models_history[5].history['val_loss'], color='black')\n",
    "ax[5][1].set_xlabel('Epochs')\n",
    "ax[5][1].set_ylabel('Loss', color='black')\n",
    "\n",
    "ax[6][0].plot(models_history[6].history['loss'], color='black')\n",
    "ax[6][0].set_xlabel('Epochs')\n",
    "ax[6][0].set_ylabel('Loss', color='black')\n",
    "\n",
    "\n",
    "ax[6][1].plot(models_history[6].history['val_loss'], color='black')\n",
    "ax[6][1].set_xlabel('Epochs')\n",
    "ax[6][1].set_ylabel('Loss', color='black')\n",
    "    #plt.tight_layout()\n",
    "plt.show();"
   ]
  },
  {
   "cell_type": "code",
   "execution_count": null,
   "id": "671ea7ab-48ab-45fd-82f5-1b8533284c84",
   "metadata": {},
   "outputs": [],
   "source": []
  },
  {
   "cell_type": "code",
   "execution_count": null,
   "id": "18b9a1ad-fe55-4267-8b9a-f55eb078d524",
   "metadata": {},
   "outputs": [],
   "source": [
    "\n",
    "\n",
    "# print(\"user_test\",user_test)\n",
    "# print(\"offers_test\",offers_test)\n",
    "\n",
    "offers_train_unscaled = offers_train\n",
    "print(\"a\",offers_train_unscaled)\n",
    "user_train_unscaled = user_train\n",
    "\n",
    "scaleroffers = StandardScaler()\n",
    "scaleroffers.fit(offers_train)\n",
    "offers_train = scaleroffers.transform(offers_train)\n",
    "\n",
    "scalerUser = StandardScaler()\n",
    "scalerUser.fit(user_train)\n",
    "user_train = scalerUser.transform(user_train)\n",
    "\n",
    "\n",
    "print(\"Offers_train_unscaled matches inverse transform: \", \n",
    "      np.allclose(offers_train_unscaled, \n",
    "                  scaleroffers.inverse_transform(offers_train)))\n",
    "\n",
    "print(\"User_train_unscaled matches inverse transform: \",\n",
    "      np.allclose(user_train_unscaled, scalerUser.inverse_transform(user_train)))"
   ]
  },
  {
   "cell_type": "code",
   "execution_count": null,
   "id": "a12e08fc-63df-4d00-bd5b-a083f8f9e47c",
   "metadata": {},
   "outputs": [],
   "source": []
  },
  {
   "cell_type": "code",
   "execution_count": null,
   "id": "d092b96c-3eaa-4c05-bb2b-58f2e32a6322",
   "metadata": {},
   "outputs": [],
   "source": []
  }
 ],
 "metadata": {
  "availableInstances": [
   {
    "_defaultOrder": 0,
    "_isFastLaunch": true,
    "category": "General purpose",
    "gpuNum": 0,
    "hideHardwareSpecs": false,
    "memoryGiB": 4,
    "name": "ml.t3.medium",
    "vcpuNum": 2
   },
   {
    "_defaultOrder": 1,
    "_isFastLaunch": false,
    "category": "General purpose",
    "gpuNum": 0,
    "hideHardwareSpecs": false,
    "memoryGiB": 8,
    "name": "ml.t3.large",
    "vcpuNum": 2
   },
   {
    "_defaultOrder": 2,
    "_isFastLaunch": false,
    "category": "General purpose",
    "gpuNum": 0,
    "hideHardwareSpecs": false,
    "memoryGiB": 16,
    "name": "ml.t3.xlarge",
    "vcpuNum": 4
   },
   {
    "_defaultOrder": 3,
    "_isFastLaunch": false,
    "category": "General purpose",
    "gpuNum": 0,
    "hideHardwareSpecs": false,
    "memoryGiB": 32,
    "name": "ml.t3.2xlarge",
    "vcpuNum": 8
   },
   {
    "_defaultOrder": 4,
    "_isFastLaunch": true,
    "category": "General purpose",
    "gpuNum": 0,
    "hideHardwareSpecs": false,
    "memoryGiB": 8,
    "name": "ml.m5.large",
    "vcpuNum": 2
   },
   {
    "_defaultOrder": 5,
    "_isFastLaunch": false,
    "category": "General purpose",
    "gpuNum": 0,
    "hideHardwareSpecs": false,
    "memoryGiB": 16,
    "name": "ml.m5.xlarge",
    "vcpuNum": 4
   },
   {
    "_defaultOrder": 6,
    "_isFastLaunch": false,
    "category": "General purpose",
    "gpuNum": 0,
    "hideHardwareSpecs": false,
    "memoryGiB": 32,
    "name": "ml.m5.2xlarge",
    "vcpuNum": 8
   },
   {
    "_defaultOrder": 7,
    "_isFastLaunch": false,
    "category": "General purpose",
    "gpuNum": 0,
    "hideHardwareSpecs": false,
    "memoryGiB": 64,
    "name": "ml.m5.4xlarge",
    "vcpuNum": 16
   },
   {
    "_defaultOrder": 8,
    "_isFastLaunch": false,
    "category": "General purpose",
    "gpuNum": 0,
    "hideHardwareSpecs": false,
    "memoryGiB": 128,
    "name": "ml.m5.8xlarge",
    "vcpuNum": 32
   },
   {
    "_defaultOrder": 9,
    "_isFastLaunch": false,
    "category": "General purpose",
    "gpuNum": 0,
    "hideHardwareSpecs": false,
    "memoryGiB": 192,
    "name": "ml.m5.12xlarge",
    "vcpuNum": 48
   },
   {
    "_defaultOrder": 10,
    "_isFastLaunch": false,
    "category": "General purpose",
    "gpuNum": 0,
    "hideHardwareSpecs": false,
    "memoryGiB": 256,
    "name": "ml.m5.16xlarge",
    "vcpuNum": 64
   },
   {
    "_defaultOrder": 11,
    "_isFastLaunch": false,
    "category": "General purpose",
    "gpuNum": 0,
    "hideHardwareSpecs": false,
    "memoryGiB": 384,
    "name": "ml.m5.24xlarge",
    "vcpuNum": 96
   },
   {
    "_defaultOrder": 12,
    "_isFastLaunch": false,
    "category": "General purpose",
    "gpuNum": 0,
    "hideHardwareSpecs": false,
    "memoryGiB": 8,
    "name": "ml.m5d.large",
    "vcpuNum": 2
   },
   {
    "_defaultOrder": 13,
    "_isFastLaunch": false,
    "category": "General purpose",
    "gpuNum": 0,
    "hideHardwareSpecs": false,
    "memoryGiB": 16,
    "name": "ml.m5d.xlarge",
    "vcpuNum": 4
   },
   {
    "_defaultOrder": 14,
    "_isFastLaunch": false,
    "category": "General purpose",
    "gpuNum": 0,
    "hideHardwareSpecs": false,
    "memoryGiB": 32,
    "name": "ml.m5d.2xlarge",
    "vcpuNum": 8
   },
   {
    "_defaultOrder": 15,
    "_isFastLaunch": false,
    "category": "General purpose",
    "gpuNum": 0,
    "hideHardwareSpecs": false,
    "memoryGiB": 64,
    "name": "ml.m5d.4xlarge",
    "vcpuNum": 16
   },
   {
    "_defaultOrder": 16,
    "_isFastLaunch": false,
    "category": "General purpose",
    "gpuNum": 0,
    "hideHardwareSpecs": false,
    "memoryGiB": 128,
    "name": "ml.m5d.8xlarge",
    "vcpuNum": 32
   },
   {
    "_defaultOrder": 17,
    "_isFastLaunch": false,
    "category": "General purpose",
    "gpuNum": 0,
    "hideHardwareSpecs": false,
    "memoryGiB": 192,
    "name": "ml.m5d.12xlarge",
    "vcpuNum": 48
   },
   {
    "_defaultOrder": 18,
    "_isFastLaunch": false,
    "category": "General purpose",
    "gpuNum": 0,
    "hideHardwareSpecs": false,
    "memoryGiB": 256,
    "name": "ml.m5d.16xlarge",
    "vcpuNum": 64
   },
   {
    "_defaultOrder": 19,
    "_isFastLaunch": false,
    "category": "General purpose",
    "gpuNum": 0,
    "hideHardwareSpecs": false,
    "memoryGiB": 384,
    "name": "ml.m5d.24xlarge",
    "vcpuNum": 96
   },
   {
    "_defaultOrder": 20,
    "_isFastLaunch": false,
    "category": "General purpose",
    "gpuNum": 0,
    "hideHardwareSpecs": true,
    "memoryGiB": 0,
    "name": "ml.geospatial.interactive",
    "supportedImageNames": [
     "sagemaker-geospatial-v1-0"
    ],
    "vcpuNum": 0
   },
   {
    "_defaultOrder": 21,
    "_isFastLaunch": true,
    "category": "Compute optimized",
    "gpuNum": 0,
    "hideHardwareSpecs": false,
    "memoryGiB": 4,
    "name": "ml.c5.large",
    "vcpuNum": 2
   },
   {
    "_defaultOrder": 22,
    "_isFastLaunch": false,
    "category": "Compute optimized",
    "gpuNum": 0,
    "hideHardwareSpecs": false,
    "memoryGiB": 8,
    "name": "ml.c5.xlarge",
    "vcpuNum": 4
   },
   {
    "_defaultOrder": 23,
    "_isFastLaunch": false,
    "category": "Compute optimized",
    "gpuNum": 0,
    "hideHardwareSpecs": false,
    "memoryGiB": 16,
    "name": "ml.c5.2xlarge",
    "vcpuNum": 8
   },
   {
    "_defaultOrder": 24,
    "_isFastLaunch": false,
    "category": "Compute optimized",
    "gpuNum": 0,
    "hideHardwareSpecs": false,
    "memoryGiB": 32,
    "name": "ml.c5.4xlarge",
    "vcpuNum": 16
   },
   {
    "_defaultOrder": 25,
    "_isFastLaunch": false,
    "category": "Compute optimized",
    "gpuNum": 0,
    "hideHardwareSpecs": false,
    "memoryGiB": 72,
    "name": "ml.c5.9xlarge",
    "vcpuNum": 36
   },
   {
    "_defaultOrder": 26,
    "_isFastLaunch": false,
    "category": "Compute optimized",
    "gpuNum": 0,
    "hideHardwareSpecs": false,
    "memoryGiB": 96,
    "name": "ml.c5.12xlarge",
    "vcpuNum": 48
   },
   {
    "_defaultOrder": 27,
    "_isFastLaunch": false,
    "category": "Compute optimized",
    "gpuNum": 0,
    "hideHardwareSpecs": false,
    "memoryGiB": 144,
    "name": "ml.c5.18xlarge",
    "vcpuNum": 72
   },
   {
    "_defaultOrder": 28,
    "_isFastLaunch": false,
    "category": "Compute optimized",
    "gpuNum": 0,
    "hideHardwareSpecs": false,
    "memoryGiB": 192,
    "name": "ml.c5.24xlarge",
    "vcpuNum": 96
   },
   {
    "_defaultOrder": 29,
    "_isFastLaunch": true,
    "category": "Accelerated computing",
    "gpuNum": 1,
    "hideHardwareSpecs": false,
    "memoryGiB": 16,
    "name": "ml.g4dn.xlarge",
    "vcpuNum": 4
   },
   {
    "_defaultOrder": 30,
    "_isFastLaunch": false,
    "category": "Accelerated computing",
    "gpuNum": 1,
    "hideHardwareSpecs": false,
    "memoryGiB": 32,
    "name": "ml.g4dn.2xlarge",
    "vcpuNum": 8
   },
   {
    "_defaultOrder": 31,
    "_isFastLaunch": false,
    "category": "Accelerated computing",
    "gpuNum": 1,
    "hideHardwareSpecs": false,
    "memoryGiB": 64,
    "name": "ml.g4dn.4xlarge",
    "vcpuNum": 16
   },
   {
    "_defaultOrder": 32,
    "_isFastLaunch": false,
    "category": "Accelerated computing",
    "gpuNum": 1,
    "hideHardwareSpecs": false,
    "memoryGiB": 128,
    "name": "ml.g4dn.8xlarge",
    "vcpuNum": 32
   },
   {
    "_defaultOrder": 33,
    "_isFastLaunch": false,
    "category": "Accelerated computing",
    "gpuNum": 4,
    "hideHardwareSpecs": false,
    "memoryGiB": 192,
    "name": "ml.g4dn.12xlarge",
    "vcpuNum": 48
   },
   {
    "_defaultOrder": 34,
    "_isFastLaunch": false,
    "category": "Accelerated computing",
    "gpuNum": 1,
    "hideHardwareSpecs": false,
    "memoryGiB": 256,
    "name": "ml.g4dn.16xlarge",
    "vcpuNum": 64
   },
   {
    "_defaultOrder": 35,
    "_isFastLaunch": false,
    "category": "Accelerated computing",
    "gpuNum": 1,
    "hideHardwareSpecs": false,
    "memoryGiB": 61,
    "name": "ml.p3.2xlarge",
    "vcpuNum": 8
   },
   {
    "_defaultOrder": 36,
    "_isFastLaunch": false,
    "category": "Accelerated computing",
    "gpuNum": 4,
    "hideHardwareSpecs": false,
    "memoryGiB": 244,
    "name": "ml.p3.8xlarge",
    "vcpuNum": 32
   },
   {
    "_defaultOrder": 37,
    "_isFastLaunch": false,
    "category": "Accelerated computing",
    "gpuNum": 8,
    "hideHardwareSpecs": false,
    "memoryGiB": 488,
    "name": "ml.p3.16xlarge",
    "vcpuNum": 64
   },
   {
    "_defaultOrder": 38,
    "_isFastLaunch": false,
    "category": "Accelerated computing",
    "gpuNum": 8,
    "hideHardwareSpecs": false,
    "memoryGiB": 768,
    "name": "ml.p3dn.24xlarge",
    "vcpuNum": 96
   },
   {
    "_defaultOrder": 39,
    "_isFastLaunch": false,
    "category": "Memory Optimized",
    "gpuNum": 0,
    "hideHardwareSpecs": false,
    "memoryGiB": 16,
    "name": "ml.r5.large",
    "vcpuNum": 2
   },
   {
    "_defaultOrder": 40,
    "_isFastLaunch": false,
    "category": "Memory Optimized",
    "gpuNum": 0,
    "hideHardwareSpecs": false,
    "memoryGiB": 32,
    "name": "ml.r5.xlarge",
    "vcpuNum": 4
   },
   {
    "_defaultOrder": 41,
    "_isFastLaunch": false,
    "category": "Memory Optimized",
    "gpuNum": 0,
    "hideHardwareSpecs": false,
    "memoryGiB": 64,
    "name": "ml.r5.2xlarge",
    "vcpuNum": 8
   },
   {
    "_defaultOrder": 42,
    "_isFastLaunch": false,
    "category": "Memory Optimized",
    "gpuNum": 0,
    "hideHardwareSpecs": false,
    "memoryGiB": 128,
    "name": "ml.r5.4xlarge",
    "vcpuNum": 16
   },
   {
    "_defaultOrder": 43,
    "_isFastLaunch": false,
    "category": "Memory Optimized",
    "gpuNum": 0,
    "hideHardwareSpecs": false,
    "memoryGiB": 256,
    "name": "ml.r5.8xlarge",
    "vcpuNum": 32
   },
   {
    "_defaultOrder": 44,
    "_isFastLaunch": false,
    "category": "Memory Optimized",
    "gpuNum": 0,
    "hideHardwareSpecs": false,
    "memoryGiB": 384,
    "name": "ml.r5.12xlarge",
    "vcpuNum": 48
   },
   {
    "_defaultOrder": 45,
    "_isFastLaunch": false,
    "category": "Memory Optimized",
    "gpuNum": 0,
    "hideHardwareSpecs": false,
    "memoryGiB": 512,
    "name": "ml.r5.16xlarge",
    "vcpuNum": 64
   },
   {
    "_defaultOrder": 46,
    "_isFastLaunch": false,
    "category": "Memory Optimized",
    "gpuNum": 0,
    "hideHardwareSpecs": false,
    "memoryGiB": 768,
    "name": "ml.r5.24xlarge",
    "vcpuNum": 96
   },
   {
    "_defaultOrder": 47,
    "_isFastLaunch": false,
    "category": "Accelerated computing",
    "gpuNum": 1,
    "hideHardwareSpecs": false,
    "memoryGiB": 16,
    "name": "ml.g5.xlarge",
    "vcpuNum": 4
   },
   {
    "_defaultOrder": 48,
    "_isFastLaunch": false,
    "category": "Accelerated computing",
    "gpuNum": 1,
    "hideHardwareSpecs": false,
    "memoryGiB": 32,
    "name": "ml.g5.2xlarge",
    "vcpuNum": 8
   },
   {
    "_defaultOrder": 49,
    "_isFastLaunch": false,
    "category": "Accelerated computing",
    "gpuNum": 1,
    "hideHardwareSpecs": false,
    "memoryGiB": 64,
    "name": "ml.g5.4xlarge",
    "vcpuNum": 16
   },
   {
    "_defaultOrder": 50,
    "_isFastLaunch": false,
    "category": "Accelerated computing",
    "gpuNum": 1,
    "hideHardwareSpecs": false,
    "memoryGiB": 128,
    "name": "ml.g5.8xlarge",
    "vcpuNum": 32
   },
   {
    "_defaultOrder": 51,
    "_isFastLaunch": false,
    "category": "Accelerated computing",
    "gpuNum": 1,
    "hideHardwareSpecs": false,
    "memoryGiB": 256,
    "name": "ml.g5.16xlarge",
    "vcpuNum": 64
   },
   {
    "_defaultOrder": 52,
    "_isFastLaunch": false,
    "category": "Accelerated computing",
    "gpuNum": 4,
    "hideHardwareSpecs": false,
    "memoryGiB": 192,
    "name": "ml.g5.12xlarge",
    "vcpuNum": 48
   },
   {
    "_defaultOrder": 53,
    "_isFastLaunch": false,
    "category": "Accelerated computing",
    "gpuNum": 4,
    "hideHardwareSpecs": false,
    "memoryGiB": 384,
    "name": "ml.g5.24xlarge",
    "vcpuNum": 96
   },
   {
    "_defaultOrder": 54,
    "_isFastLaunch": false,
    "category": "Accelerated computing",
    "gpuNum": 8,
    "hideHardwareSpecs": false,
    "memoryGiB": 768,
    "name": "ml.g5.48xlarge",
    "vcpuNum": 192
   },
   {
    "_defaultOrder": 55,
    "_isFastLaunch": false,
    "category": "Accelerated computing",
    "gpuNum": 8,
    "hideHardwareSpecs": false,
    "memoryGiB": 1152,
    "name": "ml.p4d.24xlarge",
    "vcpuNum": 96
   },
   {
    "_defaultOrder": 56,
    "_isFastLaunch": false,
    "category": "Accelerated computing",
    "gpuNum": 8,
    "hideHardwareSpecs": false,
    "memoryGiB": 1152,
    "name": "ml.p4de.24xlarge",
    "vcpuNum": 96
   }
  ],
  "kernelspec": {
   "display_name": "Python 3 (TensorFlow 2.10.1 Python 3.9 GPU Optimized)",
   "language": "python",
   "name": "python3__SAGEMAKER_INTERNAL__arn:aws:sagemaker:us-east-1:081325390199:image/tensorflow-2.10.1-gpu-py39-cu112-ubuntu20.04-sagemaker-v1.2"
  },
  "language_info": {
   "codemirror_mode": {
    "name": "ipython",
    "version": 3
   },
   "file_extension": ".py",
   "mimetype": "text/x-python",
   "name": "python",
   "nbconvert_exporter": "python",
   "pygments_lexer": "ipython3",
   "version": "3.9.16"
  }
 },
 "nbformat": 4,
 "nbformat_minor": 5
}
